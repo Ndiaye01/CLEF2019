{
  "nbformat": 4,
  "nbformat_minor": 0,
  "metadata": {
    "kernelspec": {
      "display_name": "Python 3",
      "language": "python",
      "name": "python3"
    },
    "language_info": {
      "codemirror_mode": {
        "name": "ipython",
        "version": 3
      },
      "file_extension": ".py",
      "mimetype": "text/x-python",
      "name": "python",
      "nbconvert_exporter": "python",
      "pygments_lexer": "ipython3",
      "version": "3.7.3"
    },
    "colab": {
      "name": "Task1.ipynb",
      "provenance": [],
      "collapsed_sections": [],
      "machine_shape": "hm"
    }
  },
  "cells": [
    {
      "cell_type": "code",
      "metadata": {
        "id": "nEu2KncDg83r",
        "colab_type": "code",
        "outputId": "b3060064-6170-450e-e46a-91b412c6854c",
        "colab": {
          "base_uri": "https://localhost:8080/",
          "height": 109
        }
      },
      "source": [
        "import re\n",
        "import csv\n",
        "from sklearn.naive_bayes import GaussianNB\n",
        "from string import punctuation\n",
        "import nltk \n",
        "nltk.download('stopwords')\n",
        "nltk.download('averaged_perceptron_tagger')\n",
        "from nltk import word_tokenize\n",
        "from nltk.util import ngrams\n",
        "from nltk.corpus import stopwords\n",
        "from sklearn import model_selection, naive_bayes, svm\n",
        "from sklearn.metrics import accuracy_score\n",
        "\n",
        "import numpy as np\n",
        "import pandas as pd\n"
      ],
      "execution_count": 0,
      "outputs": [
        {
          "output_type": "stream",
          "text": [
            "[nltk_data] Downloading package stopwords to /root/nltk_data...\n",
            "[nltk_data]   Unzipping corpora/stopwords.zip.\n",
            "[nltk_data] Downloading package averaged_perceptron_tagger to\n",
            "[nltk_data]     /root/nltk_data...\n",
            "[nltk_data]   Unzipping taggers/averaged_perceptron_tagger.zip.\n"
          ],
          "name": "stdout"
        }
      ]
    },
    {
      "cell_type": "code",
      "metadata": {
        "id": "-kCkbzQqmADy",
        "colab_type": "code",
        "colab": {}
      },
      "source": [
        "f1 = '/data_task1/train_filled.json'\n",
        "f2='/data_task1/test_filled.json'\n",
        "f3='/data_task1/test_china.json'"
      ],
      "execution_count": 0,
      "outputs": []
    },
    {
      "cell_type": "code",
      "metadata": {
        "id": "Ynuj_4OSiQvp",
        "colab_type": "code",
        "colab": {}
      },
      "source": [
        "pd.options.display.max_colwidth =5000\n",
        "\n",
        "df1= pd.read_json(f1,lines=True)\n",
        "df1.head(34)\n",
        "df2= pd.read_json(f2,lines=True)\n",
        "df2.head(34)\n",
        "df3= pd.read_json(f3, lines=True)\n",
        "#df3.head(34)"
      ],
      "execution_count": 0,
      "outputs": []
    },
    {
      "cell_type": "code",
      "metadata": {
        "id": "gaNC624jg84C",
        "colab_type": "code",
        "outputId": "8679e315-b4f6-4506-b177-f2cb15808cea",
        "colab": {
          "base_uri": "https://localhost:8080/",
          "height": 55
        }
      },
      "source": [
        "news = df1[\"text\"].tolist()\n",
        "labels =df1[\"label\"].tolist()\n",
        "news_test=df2[\"text\"].tolist()\n",
        "#labels_test=df2[\"label\"].tolist()\n",
        "#print (news[0])\n",
        "#print (news_test[0])\n",
        "print (labels)"
      ],
      "execution_count": 0,
      "outputs": [
        {
          "output_type": "stream",
          "text": [
            "[0, 0, 0, 0, 0, 1, 0, 1, 1, 0, 1, 0, 0, 0, 0, 1, 0, 0, 0, 0, 0, 0, 0, 0, 0, 0, 0, 0, 1, 1, 0, 0, 1, 0, 0, 1, 0, 0, 0, 1, 0, 0, 1, 0, 0, 1, 0, 0, 0, 0, 0, 0, 0, 0, 0, 0, 0, 0, 0, 0, 0, 1, 0, 1, 0, 1, 0, 1, 0, 1, 0, 0, 0, 0, 0, 0, 0, 0, 0, 1, 0, 0, 1, 0, 0, 1, 0, 0, 0, 0, 0, 0, 0, 0, 0, 0, 0, 0, 0, 0, 1, 0, 1, 1, 0, 0, 1, 1, 0, 0, 0, 0, 0, 0, 0, 0, 0, 0, 1, 1, 1, 0, 0, 0, 0, 1, 0, 0, 1, 1, 0, 0, 1, 1, 0, 1, 0, 0, 0, 0, 0, 0, 0, 0, 0, 0, 0, 0, 0, 0, 0, 0, 0, 0, 0, 1, 1, 0, 0, 0, 0, 0, 0, 0, 0, 0, 0, 0, 0, 0, 0, 0, 0, 0, 1, 1, 0, 0, 0, 1, 0, 1, 0, 0, 0, 0, 0, 1, 1, 0, 0, 0, 0, 1, 0, 0, 0, 0, 0, 0, 1, 1, 1, 0, 0, 1, 0, 0, 0, 0, 0, 0, 0, 0, 1, 1, 0, 0, 1, 0, 1, 0, 0, 1, 1, 1, 1, 1, 0, 0, 1, 0, 1, 0, 0, 0, 1, 0, 0, 0, 0, 0, 0, 0, 0, 1, 0, 0, 1, 0, 0, 0, 0, 0, 0, 1, 0, 0, 1, 0, 0, 0, 0, 0, 0, 0, 1, 0, 1, 0, 0, 0, 0, 0, 0, 0, 1, 0, 0, 1, 0, 0, 0, 0, 0, 1, 0, 1, 0, 0, 0, 0, 0, 0, 0, 0, 0, 0, 0, 1, 1, 1, 0, 0, 1, 0, 1, 0, 0, 0, 1, 0, 0, 0, 0, 1, 1, 0, 1, 0, 1, 1, 0, 0, 0, 0, 0, 1, 0, 0, 0, 0, 0, 0, 0, 1, 0, 0, 0, 0, 0, 0, 0, 0, 0, 0, 0, 1, 0, 1, 0, 0, 1, 1, 0, 0, 0, 0, 0, 0, 1, 1, 0, 0, 0, 0, 1, 0, 0, 0, 0, 0, 0, 0, 1, 0, 0, 1, 0, 0, 0, 1, 1, 0, 0, 0, 1, 0, 0, 0, 1, 1, 0, 0, 0, 0, 0, 0, 0, 0, 0, 1, 0, 1, 0, 0, 0, 0, 0, 1, 0, 0, 0, 0, 1, 0, 0, 1, 0, 0, 1, 0, 0, 0, 0, 1, 0, 0, 0, 0, 0, 0, 0, 0, 0, 1, 1, 1, 1, 0, 0, 0, 0, 1, 0, 0, 0, 1, 1, 0, 0, 0, 0, 0, 0, 1, 0, 0, 0, 0, 0, 0, 0, 0, 0, 0, 1, 0, 0, 0, 0, 0, 0, 0, 0, 1, 0, 1, 0, 1, 0, 1, 0, 0, 0, 0, 0, 0, 0, 1, 0, 1, 0, 0, 0, 0, 0, 0, 0, 0, 1, 0, 0, 0, 0, 0, 0, 0, 0, 0, 0, 1, 0, 0, 0, 0, 1, 0, 0, 0, 0, 0, 1, 1, 0, 0, 0, 0, 1, 1, 0, 0, 0, 1, 0, 1, 0, 1, 0, 0, 0, 1, 0, 0, 0, 0, 0, 0, 0, 0, 0, 1, 0, 0, 0, 0, 0, 1, 0, 0, 0, 0, 0, 0, 0, 0, 1, 0, 0, 0, 0, 1, 0, 0, 0, 0, 0, 0, 0, 1, 0, 0, 1, 0, 0, 1, 1, 1, 1, 0, 0, 0, 0, 0, 0, 1, 0, 0, 1, 0, 1, 1, 0, 0, 0, 0, 0, 0, 0, 1, 0, 0, 1, 0, 0, 0, 1, 0, 0, 0, 0, 0, 0, 0, 0, 0, 0, 0, 1, 0, 0, 0, 1, 0, 0, 0, 0, 1, 0, 0, 0, 0, 0, 0, 0, 0, 0, 1, 1, 1, 0, 1, 0, 0, 0, 1, 0, 0, 0, 0, 0, 0, 1, 0, 0, 0, 0, 0, 0, 0, 0, 0, 0, 1, 0, 1, 0, 0, 1, 0, 1, 0, 0, 0, 0, 0, 0, 0, 0, 0, 1, 0, 0, 0, 0, 0, 0, 1, 1, 0, 0, 0, 0, 1, 1, 1, 0, 0, 0, 1, 1, 0, 0, 0, 1, 0, 1, 0, 0, 0, 0, 0, 0, 0, 0, 0, 0, 0, 0, 0, 0, 0, 0, 0, 0, 0, 0, 0, 0, 0, 0, 0, 1, 0, 0, 0, 1, 1, 0, 0, 0, 0, 0, 0, 0, 0, 0, 0, 0, 0, 0, 0, 0, 1, 0, 0, 0, 0, 0, 0, 0, 1, 0, 1, 0, 0, 0, 0, 0, 0, 0, 0, 0, 0, 1, 0, 0, 1, 1, 0, 1, 1, 0, 0, 0, 0, 0, 0, 1, 0, 0, 0, 1, 0, 0, 0, 1, 0, 0, 0, 1, 1, 1, 0, 0, 0, 0, 0, 0, 1, 1, 0, 0, 0, 0, 0, 0, 0, 1, 0, 0, 0, 0, 0, 0, 0, 0, 0, 0, 1, 0, 0, 0, 0, 0, 0, 0, 0, 0, 0, 1, 0, 0, 0, 0, 0, 0, 0, 0, 0, 0, 0, 0, 0, 1, 0, 0, 1, 0, 0, 1, 0, 0, 0, 0, 0, 1, 0, 0, 1, 0, 0, 0, 0, 0, 0, 0, 0, 0, 0, 0, 0, 0, 0, 0, 0, 0, 0, 0, 1, 0, 1, 0, 1, 1, 0, 0, 0, 0, 0, 0, 1, 0, 0, 1, 0, 0, 0, 0, 0, 0, 0, 0, 0, 1, 0, 0, 1, 0, 0, 1, 0, 0, 0, 0, 0, 1, 0, 1, 0, 0, 1, 0, 0, 1, 0, 0, 1, 0, 0, 0, 0, 0, 0, 0, 1, 1, 0, 0, 0, 0, 0, 0, 0, 0, 0, 1, 1, 0, 0, 0, 0, 0, 0, 0, 1, 1, 0, 0, 0, 0, 0, 0, 0, 0, 0, 0, 0, 0, 0, 1, 0, 0, 1, 0, 0, 0, 0, 0, 0, 1, 0, 0, 0, 0, 0, 0, 0, 0, 1, 0, 0, 0, 0, 0, 0, 0, 1, 0, 1, 0, 1, 1, 0, 0, 0, 1, 1, 1, 1, 0, 1, 0, 0, 0, 0, 0, 0, 0, 0, 0, 0, 0, 0, 1, 0, 0, 1, 0, 0, 0, 0, 0, 0, 0, 0, 0, 0, 0, 0, 0, 0, 1, 1, 0, 0, 0, 0, 0, 1, 0, 0, 0, 1, 0, 1, 0, 0, 1, 0, 0, 0, 0, 1, 0, 1, 0, 0, 0, 0, 1, 0, 0, 1, 0, 0, 0, 0, 0, 0, 1, 0, 0, 0, 0, 0, 1, 1, 0, 0, 0, 0, 0, 0, 0, 1, 0, 1, 1, 0, 0, 0, 1, 1, 1, 0, 0, 0, 0, 0, 0, 0, 0, 0, 0, 1, 1, 0, 1, 0, 0, 1, 0, 0, 0, 0, 0, 0, 0, 0, 1, 0, 1, 0, 1, 0, 0, 0, 0, 0, 0, 0, 0, 1, 0, 0, 0, 0, 1, 0, 0, 0, 1, 0, 0, 1, 0, 1, 1, 1, 0, 0, 1, 0, 0, 0, 0, 0, 0, 0, 0, 0, 0, 0, 0, 0, 0, 0, 0, 1, 0, 0, 1, 1, 1, 0, 0, 0, 0, 1, 0, 0, 1, 0, 0, 0, 0, 0, 1, 0, 0, 1, 0, 0, 1, 0, 0, 0, 0, 1, 0, 0, 0, 1, 0, 0, 0, 0, 1, 0, 0, 0, 0, 0, 1, 1, 0, 1, 0, 0, 0, 1, 0, 0, 0, 0, 1, 0, 0, 0, 1, 1, 0, 0, 1, 0, 0, 1, 0, 0, 1, 1, 0, 0, 0, 0, 0, 1, 0, 1, 0, 0, 0, 0, 0, 0, 0, 0, 0, 0, 0, 0, 0, 1, 0, 0, 1, 0, 0, 0, 0, 0, 0, 1, 0, 0, 1, 1, 0, 0, 0, 1, 1, 1, 0, 0, 0, 0, 0, 1, 0, 0, 0, 0, 0, 0, 1, 0, 1, 1, 0, 0, 0, 1, 0, 0, 0, 0, 0, 0, 0, 1, 0, 0, 0, 0, 0, 0, 0, 0, 0, 0, 0, 0, 0, 0, 0, 1, 0, 0, 1, 0, 1, 1, 0, 1, 0, 0, 0, 0, 1, 0, 0, 1, 1, 0, 0, 1, 0, 0, 1, 1, 0, 0, 1, 0, 0, 0, 1, 0, 0, 0, 0, 0, 0, 0, 0, 0, 0, 0, 1, 1, 0, 1, 0, 0, 0, 0, 0, 0, 1, 0, 0, 1, 0, 1, 1, 0, 0, 0, 0, 1, 0, 0, 0, 1, 0, 0, 1, 0, 0, 0, 0, 1, 0, 1, 0, 0, 0, 0, 0, 1, 0, 0, 0, 1, 0, 0, 0, 0, 0, 0, 0, 0, 0, 0, 0, 0, 0, 0, 0, 0, 0, 0, 0, 0, 1, 0, 0, 1, 0, 0, 0, 0, 1, 0, 0, 1, 0, 1, 0, 0, 1, 0, 0, 0, 0, 0, 0, 0, 0, 0, 1, 0, 0, 0, 1, 0, 0, 1, 0, 0, 0, 0, 1, 0, 0, 0, 0, 0, 0, 0, 0, 0, 0, 0, 1, 1, 0, 0, 0, 1, 0, 0, 0, 1, 0, 0, 1, 0, 1, 1, 0, 0, 0, 0, 0, 0, 0, 1, 0, 0, 0, 0, 0, 1, 0, 0, 0, 0, 0, 0, 0, 0, 0, 0, 0, 1, 0, 0, 0, 1, 0, 0, 0, 0, 1, 0, 0, 0, 0, 0, 1, 0, 0, 1, 0, 0, 1, 1, 0, 1, 0, 1, 0, 0, 1, 0, 0, 0, 1, 0, 0, 0, 0, 0, 0, 0, 0, 0, 0, 0, 0, 1, 0, 0, 0, 0, 0, 0, 0, 0, 0, 1, 0, 0, 0, 0, 0, 0, 0, 0, 0, 0, 0, 0, 1, 0, 1, 0, 0, 0, 0, 0, 1, 0, 0, 0, 0, 1, 0, 0, 1, 0, 1, 0, 0, 0, 0, 0, 0, 0, 0, 1, 0, 0, 0, 0, 0, 0, 1, 0, 0, 0, 0, 0, 0, 0, 1, 0, 0, 0, 1, 0, 0, 0, 0, 0, 0, 0, 0, 0, 0, 1, 0, 0, 0, 0, 0, 0, 0, 0, 0, 0, 0, 0, 0, 0, 0, 0, 0, 0, 0, 0, 0, 0, 0, 0, 1, 0, 0, 0, 0, 0, 0, 0, 0, 1, 0, 1, 0, 0, 0, 0, 0, 1, 0, 0, 0, 1, 0, 0, 0, 1, 0, 0, 0, 0, 0, 0, 1, 0, 0, 0, 0, 0, 0, 0, 0, 0, 0, 1, 1, 1, 0, 1, 0, 1, 0, 1, 0, 0, 0, 0, 0, 1, 0, 1, 0, 0, 1, 1, 0, 0, 1, 0, 0, 0, 0, 0, 0, 1, 0, 0, 0, 0, 0, 0, 0, 0, 0, 0, 1, 0, 0, 0, 0, 0, 0, 0, 0, 0, 0, 0, 0, 0, 0, 0, 0, 1, 0, 1, 0, 0, 1, 0, 1, 0, 0, 1, 0, 0, 1, 0, 0, 0, 1, 0, 0, 0, 0, 0, 0, 1, 0, 0, 0, 1, 0, 1, 1, 0, 0, 0, 0, 1, 0, 0, 0, 1, 0, 0, 0, 0, 0, 0, 0, 1, 0, 1, 0, 0, 0, 0, 0, 0, 0, 1, 0, 0, 0, 1, 1, 0, 0, 0, 0, 0, 0, 1, 0, 0, 0, 0, 1, 0, 0, 0, 1, 0, 1, 0, 1, 0, 0, 1, 0, 1, 1, 1, 0, 1, 0, 1, 1, 0, 0, 1, 0, 0, 0, 1, 1, 1, 0, 0, 0, 0, 1, 1, 0, 0, 0, 0, 0, 0, 0, 0, 0, 0, 1, 1, 0, 0, 0, 1, 0, 0, 0, 1, 0, 1, 0, 0, 0, 0, 1, 0, 0, 1, 0, 0, 1, 0, 0, 0, 0, 0, 0, 0, 0, 0, 0, 0, 1, 0, 0, 0, 1, 1, 1, 0, 0, 0, 0, 0, 1, 0, 1, 0, 0, 0, 0, 0, 0, 1, 1, 0, 0, 0, 0, 1, 0, 0, 0, 1, 0, 0, 0, 0, 0, 1, 0, 0, 1, 1, 0, 0, 1, 0, 0, 0, 0, 0, 1, 1, 0, 0, 0, 0, 0, 1, 0, 0, 1, 0, 0, 0, 0, 0, 0, 0, 0, 0, 0, 1, 0, 0, 1, 0, 0, 0, 0, 0, 0, 0, 0, 1, 0, 0, 0, 1, 0, 0, 0, 0, 0, 0, 0, 1, 1, 0, 0, 0, 1, 0, 0, 1, 1, 0, 0, 0, 0, 0, 0, 0, 0, 1, 0, 0, 0, 0, 0, 0, 0, 1, 1, 0, 1, 0, 1, 0, 0, 0, 0, 1, 0, 0, 0, 0, 1, 0, 1, 0, 0, 0, 0, 0, 0, 0, 0, 1, 0, 0, 0, 0, 0, 0, 0, 1, 0, 0, 1, 0, 0, 0, 0, 0, 0, 1, 0, 0, 1, 0, 0, 0, 0, 0, 0, 0, 0, 0, 0, 0, 0, 0, 0, 0, 0, 0, 0, 0, 0, 0, 0, 0, 0, 0, 0, 0, 1, 0, 1, 0, 0, 0, 1, 0, 0, 0, 0, 1, 0, 0, 0, 1, 0, 0, 0, 0, 0, 0, 0, 1, 0, 1, 0, 0, 1, 0, 1, 1, 0, 1, 0, 0, 0, 0, 0, 0, 0, 1, 1, 0, 0, 0, 0, 1, 0, 0, 0, 0, 1, 0, 0, 0, 0, 1, 0, 0, 0, 0, 1, 0, 0, 0, 1, 0, 0, 0, 1, 0, 0, 0, 0, 0, 0, 0, 1, 0, 0, 0, 0, 0, 0, 0, 0, 1, 1, 0, 0, 0, 0, 0, 0, 0, 0, 0, 0, 0, 0, 0, 0, 0, 0, 0, 0, 0, 0, 0, 0, 0, 1, 0, 0, 1, 0, 0, 0, 0, 0, 0, 0, 1, 1, 0, 0, 0, 0, 0, 0, 1, 1, 0, 1, 0, 1, 0, 0, 0, 0, 0, 0, 0, 0, 0, 1, 0, 0, 0, 0, 0, 0, 0, 0, 1, 0, 0, 0, 0, 0, 0, 0, 1, 0, 1, 0, 0, 1, 1, 1, 0, 0, 0, 1, 0, 1, 0, 0, 0, 1, 0, 0, 0, 0, 0, 0, 1, 0, 0, 0, 1, 0, 1, 0, 0, 1, 0, 0, 0, 0, 0, 0, 1, 0, 1, 0, 0, 0, 0, 0, 0, 0, 0, 1, 0, 1, 0, 0, 0, 0, 0, 0, 1, 0, 0, 0, 0, 1, 0, 0, 1, 0, 1, 0, 0, 0, 0, 1, 0, 0, 0, 0, 0, 0, 1, 0, 0, 0, 0, 0, 0, 0, 0, 0, 1, 1, 0, 0, 0, 0, 0, 0, 0, 0, 1, 1, 0, 0, 0, 1, 0, 1, 1, 0, 1, 0, 0, 0, 0, 1, 0, 1, 0, 0, 1, 0, 1, 0, 0, 0, 0, 0, 0, 0, 0, 1, 0, 0, 0, 0, 0, 0, 1, 0, 0, 1, 0, 0, 0, 0, 0, 1, 0, 0, 0, 1, 0, 1, 0, 1, 0, 0, 0, 1, 1, 0, 0, 0, 0, 0, 0, 1, 0, 0, 0, 1, 1, 0, 1, 1, 0, 1, 0, 0, 0, 0, 0, 1, 0, 0, 1, 0, 0, 0, 0, 0, 1, 0, 0, 0, 0, 1, 0, 0, 0, 0, 1, 1, 0, 0, 0, 1, 0, 1, 0, 1, 0, 0, 0, 0, 0, 0, 0, 0, 0, 1, 0, 0, 0, 1, 1, 0, 0, 0, 0, 1, 0, 1, 0, 0, 0, 0, 0, 0, 0, 0, 0, 0, 0, 0, 1, 1, 0, 1, 0, 1, 0, 0, 0, 0, 0, 0, 0, 0, 0, 1, 1, 0, 0, 0, 0, 0, 0, 0, 0, 0, 0, 1, 0, 0, 0, 0, 0, 0, 1, 0, 0, 0, 0, 0, 0, 0, 0, 0, 0, 1, 1, 1, 0, 0, 0, 1, 0, 0, 0, 0, 0, 1, 0, 0, 1, 0, 0, 0, 0, 0, 1, 0, 1, 0, 0, 0, 0, 0, 0, 0, 0, 0, 1, 0, 0, 0, 0, 1, 0, 1, 0, 0, 0, 1, 0, 1, 0, 0, 1, 1, 0, 0, 0, 0, 0, 0, 0, 1, 0, 0, 0, 0, 0, 0, 1, 0, 0, 0, 0, 0, 0, 0, 1, 0, 0, 0, 0, 0, 0, 1, 0, 1, 0, 1, 1, 0, 0, 0, 1, 0, 0, 0, 0, 0, 0, 0, 1, 1, 1, 0, 1, 0, 0, 0, 0, 0, 1, 0, 0, 0, 1, 0, 1, 0, 0, 1, 1, 0, 0, 0, 0, 1, 0, 0, 0, 0, 0, 0, 0, 0, 0, 0, 0, 1, 0, 0, 1, 0, 0, 1, 0, 0, 0, 1, 0, 0, 0, 0, 0, 0, 1, 1, 0, 0, 0, 1, 0, 0, 0, 1, 1, 0, 0, 0, 0, 0, 0, 0, 0, 0, 0, 0, 0, 1, 0, 0, 1, 0, 0, 0, 0, 0, 0, 1, 0, 1, 0, 0, 0, 0, 0, 0, 0, 0, 0, 0, 0, 1, 0, 0, 0, 0, 0, 0, 1, 0, 1, 0, 0, 0, 0, 0, 0, 1, 0, 0, 1, 1, 0, 0, 0, 1, 1, 1, 0, 0, 0, 1, 0, 1, 1, 0, 0, 0, 1, 0, 0, 0, 0, 0, 0, 0, 0, 0, 1, 1, 0, 1, 0, 0, 0, 0, 0, 0, 0, 0, 1, 0, 0, 1, 1, 0, 0, 0, 0, 0, 0, 0, 1, 1, 0, 0, 0, 0, 1, 0, 1, 0, 0, 0, 0, 0, 1, 0, 0, 0, 1, 0, 0, 0, 0, 0, 0, 0, 0, 1, 0, 0, 0, 1, 0, 0, 1, 1, 0, 0, 0, 0, 0, 0, 0, 0, 0, 1, 0, 0, 0, 0, 1, 1, 1, 0, 0, 0, 0, 0, 0, 0, 0, 0, 0, 0, 0, 0, 0, 0, 0, 0, 1, 0, 0, 0, 0, 0, 1, 0, 0, 0, 0, 0, 0, 0, 0, 0, 0, 0, 0, 1, 0, 0, 0, 0, 0, 0, 0, 0, 1, 0, 0, 1, 0, 0, 1, 0, 0, 1, 0, 0, 0, 0, 0, 1, 1, 1, 0, 0, 0, 0, 0, 0, 0, 0, 0, 0, 1, 0, 0, 0, 0, 1, 0, 0, 0, 1, 0, 0, 0, 0, 0, 0, 0, 0, 0, 1, 0, 0, 0, 0, 1, 1, 0, 0, 1, 0, 0, 0, 0, 1, 0, 0, 1, 0, 0, 0, 0, 0, 0, 0, 1, 0, 1, 0, 1, 0, 0, 0, 1, 0, 0, 0, 0, 1, 0, 0, 0, 0, 0, 0, 0, 1, 0, 0, 0, 1, 0, 0, 0, 1, 1, 1, 1, 0, 0, 0, 0, 0, 0, 1, 0, 0, 0, 0, 1, 0, 0, 0, 0, 0, 0, 1, 0, 1, 0, 0, 0, 0, 0, 0, 1, 0, 0, 0, 0, 0, 0, 1, 0, 0, 0, 1, 0, 0, 1, 0, 0, 1, 0, 0, 1, 0, 0, 0, 1, 1, 0, 0, 0, 0, 1, 1, 0, 0, 1, 1, 0, 0, 1, 0, 1, 0, 0, 1, 0, 0, 0, 0, 0, 0, 1, 0, 0, 1, 0, 0, 0, 1, 1, 0, 1, 0, 1, 1, 0, 0, 1, 1, 0, 0, 1, 1, 0, 1, 0, 0, 0, 0, 0, 0, 0, 1, 0, 0, 1, 0, 0, 1, 0, 0, 0, 0, 0, 0, 0, 0, 0, 0, 1, 0, 1, 0, 0, 0, 0, 0, 1, 0, 0, 1, 0, 0, 0, 1, 0, 0, 0, 1, 0, 1, 0, 0, 0, 0, 1, 0, 0, 0, 0, 0, 0, 0, 0, 0, 0, 0, 1, 0, 0, 0, 1, 1, 0, 0, 1, 1, 0, 0, 0, 0, 0, 0, 0, 0, 0, 0, 1, 1, 1, 0, 0, 1, 0, 0, 0, 0, 0, 1, 0, 0, 0, 0, 0, 1, 1, 0, 1, 0, 0, 1, 0, 0, 1, 0, 1, 0, 1, 1, 0, 0, 0, 0, 1, 0, 0, 0, 1, 0, 0, 0, 0, 1, 0, 0, 0, 0, 0, 0, 0, 0, 0, 0, 0, 0, 0, 0, 1, 0, 1, 0, 0, 1, 0, 0, 0, 0, 0, 0, 0, 0, 0, 0, 0, 0, 0, 1, 0, 0, 1, 0, 0, 0, 0, 0, 0, 0, 0, 0, 0, 0, 0, 0, 1, 0, 0, 0, 0, 0, 0, 0, 0, 0, 0, 0, 1, 1, 1, 1, 0, 1, 0, 0, 0, 0, 0, 0, 0, 0, 0, 0, 0, 0, 0, 0, 0, 0, 0, 0, 0, 0, 0, 0, 1, 0, 0, 0, 0, 0, 1, 0, 0, 0, 0, 0, 0, 0, 0, 0, 0, 1, 0, 0, 1, 1, 0]\n"
          ],
          "name": "stdout"
        }
      ]
    },
    {
      "cell_type": "code",
      "metadata": {
        "id": "mm90_sZzg84H",
        "colab_type": "code",
        "outputId": "d99b20e4-fc5f-459b-cbeb-aa29e25c1ef5",
        "colab": {
          "base_uri": "https://localhost:8080/",
          "height": 72
        }
      },
      "source": [
        "id = df1[\"id\"].tolist()\n",
        "id_test= df2[\"id\"].tolist()\n",
        "id_test_true= df3[\"id\"].tolist()\n",
        "\n",
        "print(len(id))\n",
        "print(len(id_test))\n",
        "print(len(id_test_true))"
      ],
      "execution_count": 0,
      "outputs": [
        {
          "output_type": "stream",
          "text": [
            "3430\n",
            "687\n",
            "2303\n"
          ],
          "name": "stdout"
        }
      ]
    },
    {
      "cell_type": "markdown",
      "metadata": {
        "id": "4_O1QLcrg84L",
        "colab_type": "text"
      },
      "source": [
        "# Preprocessing "
      ]
    },
    {
      "cell_type": "markdown",
      "metadata": {
        "id": "xDHdviClg84N",
        "colab_type": "text"
      },
      "source": [
        "### Cleaning data"
      ]
    },
    {
      "cell_type": "code",
      "metadata": {
        "id": "4zN1sxwLg84O",
        "colab_type": "code",
        "colab": {}
      },
      "source": [
        "stop_words = stopwords.words('english')\n",
        "#print (stop_words)\n",
        "\n",
        "def preprocess(new):\n",
        "    #Remove html tags\n",
        "    new= re.sub (r'<.*?>',' ',new)\n",
        "    #Remove punctuation \n",
        "    new = re.sub('[^\\w\\s]',' ',new)\n",
        "    #Remove numbers and  strings starting with numbers\n",
        "    new = re.sub(r'\\s*\\d\\w*',' ',new)\n",
        "    #Remove string in capital\n",
        "    #new= re.sub('\\s[A-Z]+\\w*',' ',new)\n",
        "    #Remove additional white spaces\n",
        "    new = re.sub('\\s+', ' ', new)\n",
        "    return (new)\n",
        "\n",
        "def word_extraction(new):\n",
        "    words = new.split(\" \")\n",
        "    #print (words)\n",
        "    splitted_text = [w for w in words if w !=\"\"]\n",
        "    return splitted_text\n",
        "\n",
        "  "
      ],
      "execution_count": 0,
      "outputs": []
    },
    {
      "cell_type": "code",
      "metadata": {
        "id": "ootKw58jpDQ5",
        "colab_type": "code",
        "outputId": "76231650-0370-4518-86ce-f8226d1022eb",
        "colab": {
          "base_uri": "https://localhost:8080/",
          "height": 110
        }
      },
      "source": [
        "#import truecase\n",
        "#prp_news=  [preprocess(new)for new in news ]\n",
        "#prp_news_test=  [preprocess(new)for new in news_test ]\n",
        "#print (prp_news[0])\n",
        "#news_tc=[truecase(new) for new in news]\n",
        "#newstest_tc=[truecase(new) for new in news_test]\n",
        "#word_news= [word_extraction(preprocess(truecase.get_true_case(new)))for new in news ]\n",
        "#word_news_test= [  word_extraction(preprocess(truecase.get_true_case(new))) for new in news_test ]\n",
        "\n",
        "#####******* Module truecase not find in Google Colaboratory, data were computed externally and then imported******\n",
        "\n",
        "t1 = '/data_task1/truecase.txt'\n",
        "t2='/data_task1/truecasetest.txt'\n",
        "t3='/data_task1/truecasetestchina.txt'\n",
        "\n",
        "with open(t1) as f:\n",
        "  word_news= [word_extraction(preprocess(new))for new in f.readlines()]\n",
        "\n",
        "print (word_news[0:4])\n",
        "print (len(word_news))\n",
        "\n",
        "with open(t2) as f:\n",
        "  word_news_test= [word_extraction(preprocess(new))for new in f.readlines()]\n",
        "\n",
        "print (word_news_test[0:4])\n",
        "print (len(word_news_test))"
      ],
      "execution_count": 0,
      "outputs": [
        {
          "output_type": "stream",
          "text": [
            "[['Education', 'must', 'for', 'Tribals', 'Bhubaneswar', 'describing', 'education', 'as', 'essential', 'for', 'development', 'of', 'the', 'downtrodden', 'especially', 'of', 'the', 'tribal', 'community', 'justice', 'Dalveer', 'Bhandari', 'judge', 'in', 'international', 'Court', 'of', 'justice', 'said', 'it', 'can', 'help', 'them', 'join', 'mainstream', 'society', 'education', 'gives', 'knowledge', 'along', 'with', 'social', 'security', 'and', 'success', 'in', 'life', 'justice', 'Bhandari', 'said', 'during', 'a', 'visit', 'to', 'Kiit', 'and', 'kiss', 'here', 'recently', 'advising', 'entrepreneurs', 'to', 'invest', 'more', 'in', 'building', 'learning', 'centres', 'he', 'said', 'reputed', 'universities', 'like', 'Oxford', 'Cambridge', 'and', 'Stanford', 'are', 'all', 'set', 'up', 'by', 'entrepreneurs', 'or', 'private', 'trust', 'boards', 'Justice', 'Bhandari', 'received', 'doctorate', 'in', 'law', 'honorary', 'Causa', 'which', 'was', 'conferred', 'on', 'him', 'during', 'the', 'Convocation', 'of', 'Kiit', 'University', 'on', 'November', 'Chancellor', 'of', 'Kiit', 'University', 'Prof', 'NL', 'Mitra', 'conferred', 'D', 'Law', 'Honoris', 'Causa', 'on', 'justice', 'Bhandari', 'in', 'the', 'presence', 'of', 'Dr', 'Achyuta', 'Samanta', 'founder', 'of', 'Kiit', 'and', 'kiss', 'Prof', 'Pp', 'Mathur', 'vice', 'chancellor', 'and', 'Dr', 'Sasmitarani', 'Samanta', 'registrar', 'of', 'Kiit', 'University'], ['bridging', 'the', 'gap', 'Kampuchean', 'students', 'show', 'the', 'way', 'Tnn', 'Aug', 'ist', 'they', 'are', 'young', 'full', 'of', 'earnestness', 'and', 'a', 'Fervour', 'to', 'reconstruct', 'their', 'country', 'from', 'scratch', 'ravaged', 'as', 'it', 'was', 'by', 'the', 'Pol', 'pot', 'regime', 'almost', 'each', 'of', 'them', 'has', 'lost', 'a', 'member', 'of', 'their', 'family', 'during', 'the', 'unhappy', 'time', 'They', 'are', 'here', 'on', 'a', 'student', 'group', 'exposure', 'programme', 'of', 'them', 'from', 'Kampuchea', 'many', 'of', 'them', 'students', 'of', 'architecture', 'economics', 'accounts', 'and', 'social', 'work', 'talking', 'to', 'them', 'reveals', 'a', 'lot', 'of', 'similarities', 'between', 'their', 'culture', 'and', 'Indian', 'We', 'do', 'n', 't', 'wear', 'shoes', 'within', 'the', 'house', 'says', 'Sim', 'Sidain', 'and', 'when', 'a', 'visitor', 'who', 'has', 'come', 'for', 'the', 'first', 'time', 'says', 'goodbye', 'they', 'Drape', 'a', 'little', 'silk', 'shawl', 'much', 'like', 'an', 'Angavastram', 'their', 'names', 'sound', 'familiar', 'too', 'Sok', 'Sampath', 'Sampath', 'stands', 'for', 'wealth', 'you', 'earn', 'and', 'Chantha', 'which', 'means', 'the', 'moon', 'Sarany', 'is', 'very', 'close', 'to', 'the', 'Indian', 'Saranya', 'The', 'students', 'of', 'architecture', 'have', 'worked', 'on', 'several', 'projects', 'on', 'temple', 'reconstruction', 'and', 'low', 'cost', 'housing', 'for', 'the', 'urban', 'poor', 'in', 'Kampuchea', 'They', 'are', 'working', 'here', 'with', 'the', 'Ngo', 'waste', 'wise', 'and', 'Mythreyi', 'looking', 'at', 'low', 'cost', 'housing', 'in', 'slums', 'here', 'They', 'have', 'also', 'been', 'to', 'temples', 'in', 'Mysore', 'and', 'Belur', 'and', 'Halebid', 'They', 'have', 'also', 'been', 'exposed', 'to', 'the', 'food', 'and', 'culture', 'here', 'When', 'I', 'first', 'had', 'a', 'sample', 'of', 'the', 'cuisine', 'I', 'said', 'Oh', 'God', 'says', 'HOR', 'Vandeth', 'but', 'they', 'all', 'like', 'chicken', 'Biryani', 'In', 'Phnom', 'Penh', 'where', 'they', 'come', 'from', 'the', 'students', 'work', 'part', 'time', 'voluntarily', 'at', 'the', 'urban', 'resource', 'centre', 'Urc', 'a', 'nongovernmental', 'Organisation', 'that', 'works', 'with', 'urban', 'poor', 'communities', 'They', 'assist', 'communities', 'to', 'develop', 'their', 'own', 'ideas', 'for', 'development', 'giving', 'technical', 'advice', 'when', 'required', 'They', 'also', 'look', 'at', 'the', 'wider', 'issues', 'of', 'development', 'in', 'the', 'city', 'Urc', 'intends', 'to', 'bridge', 'the', 'gap', 'between', 'authorities', 'and', 'the', 'urban', 'poor', 'so', 'that', 'the', 'voice', 'of', 'the', 'communities', 'is', 'heard', 'and', 'taken', 'into', 'account', 'from', 'the', 'Indian', 'side', 'Anselm', 'Rosario', 'of', 'waste', 'wise', 'and', 'Sathya', 'Prakash', 'Varanasi', 'head', 'Department', 'of', 'architecture', 'BANGALORE', 'Insitute', 'of', 'technology', 'visited', 'Kampuchea', 'in', 'March', 'Varanashi', 'remembers', 'that', 'in', 'traditional', 'Khmer', 'restaurants', 'the', 'rice', 'and', 'tea', 'comes', 'free', 'tea', 'comes', 'with', 'Icecubes'], ['Top', 'searches', 'few', 'Sops', 'likely', 'for', 'industry', 'in', 'budget', 'Tnn', 'Jan', 'ist', 'New', 'Delhi', 'industry', 'leaders', 'got', 'the', 'stern', 'message', 'they', 'were', 'expecting', 'from', 'the', 'Finance', 'Minister', 'Yashwant', 'Sinha', 'on', 'Tuesday', 'There', 'will', 'be', 'little', 'Sops', 'for', 'the', 'industry', 'in', 'the', 'budget', 'The', 'reason', 'it', 'failed', 'to', 'deliver', 'after', 'all', 'the', 'incentives', 'were', 'doled', 'out', 'in', 'this', 'Yearâ', 'S', 'budget', 'Moreover', 'the', 'industry', 'now', 'has', 'to', 'perhaps', 'contend', 'with', 'a', 'fresh', 'dose', 'of', 'global', 'competition', 'in', 'the', 'form', 'of', 'customs', 'duty', 'reduction', 'in', 'the', 'Pre', 'Budget', 'consultations', 'Sinha', 'held', 'with', 'captains', 'of', 'industry', 'here', 'the', 'participants', 'were', 'in', 'fact', 'shy', 'of', 'asking', 'for', 'more', 'They', 'made', 'the', 'minimum', 'necessary', 'noises', 'demanding', 'the', 'slashing', 'of', 'corporate', 'tax', 'rate', 'to', 'per', 'cent', 'abolition', 'of', 'minimum', 'alternate', 'tax', 'mat', 'and', 'reintroduction', 'of', 'investment', 'allowance', 'and', 'sensing', 'the', 'shift', 'in', 'the', 'Fmâ', 'S', 'priority', 'they', 'laid', 'all', 'the', 'emphasis', 'on', 'what', 'needs', 'to', 'be', 'done', 'for', 'agriculture', 'and', 'the', 'infrastructure', 'Ficciâ', 'S', 'RS', 'Lodha', 'and', 'Ciiâ', 'S', 'Sanjiv', 'Goenka', 'asked', 'for', 'drastic', 'reforms', 'in', 'agriculture', 'and', 'steps', 'such', 'as', 'doubling', 'the', 'outlay', 'for', 'rural', 'irrigation', 'projects', 'more', 'allocation', 'for', 'poverty', 'alleviation', 'and', 'rural', 'employment', 'and', 'introduction', 'of', 'future', 'trading', 'in', 'farm', 'goods', 'The', 'industrialists', 'were', 'acknowledging', 'that', 'the', 'Finance', 'Minister', 'was', 'clearly', 'in', 'a', 'mood', 'to', 'give', 'more', 'to', 'performing', 'sectors', 'and', 'less', 'to', 'Laggards', 'in', 'the', 'same', 'vein', 'the', 'industrialists', 'sensed', 'the', 'possibility', 'of', 'Sinha', 'being', 'generous', 'this', 'year', 'for', 'entertainment', 'and', 'media', 'sector', 'which', 'is', 'poised', 'to', 'grow', 'from', 'RS', 'Crore', 'at', 'present', 'to', 'RS', 'Crore', 'by', 'they', 'wanted', 'this', 'sector', 'be', 'treated', 'at', 'par', 'with', 'it', 'industry', 'for', 'budget', 'Sops', 'Sinha', 'rubbed', 'in', 'the', 'point', 'that', 'Indian', 'industry', 'be', 'better', 'prepared', 'to', 'face', 'global', 'competition', 'by', 'reiterating', 'his', 'announcement', 'in', 'this', 'Yearâ', 'S', 'budget', 'that', 'customs', 'tariff', 'rate', 'will', 'be', 'brought', 'down', 'to', 'per', 'cent', 'within', 'three', 'years', 'Most', 'of', 'the', 'participants', 'had', 'to', 'gulp', 'it', 'It', 'was', 'only', 'Rahul', 'Bajaj', 'who', 'appeared', 'to', 'be', 'still', 'protesting', 'against', 'India', 'bringing', 'down', 'tariffs', 'to', 'ASEAN', 'level', 'Sanjiv', 'Goenka', 'was', 'more', 'reconciled', 'to', 'the', 'idea', 'He', 'only', 'urged', 'the', 'FM', 'to', 'keep', 'in', 'mind', 'the', 'real', 'issues', 'of', 'protection', 'by', 'the', 'developed', 'world', 'and', 'the', 'cost', 'disadvantages', 'faced', 'by', 'the', 'Indian', 'industry', 'Sinhaâ', 'S', 'assurance', 'in', 'general', 'terms', 'that', 'the', 'budget', 'will', 'continue', 'the', 'trends', 'in', 'rationalisation', 'and', 'simplification', 'in', 'tax', 'rates', 'and', 'reduction', 'in', 'interest', 'rates', 'over', 'time', 'was', 'welcomed', 'by', 'industry', 'captains', 'who', 'were', 'desperately', 'looking', 'forward', 'to', 'something', 'favourable', 'in', 'the', 'budget', 'The', 'Industryâ', 'S', 'tactic', 'was', 'to', 'get', 'the', 'FM', 'to', 'do', 'more', 'for', 'sectors', 'such', 'as', 'infrastructure', 'which', 'will', 'indirectly', 'benefit', 'the', 'sector', 'through', 'Connectivity', 'The', 'captains', 'of', 'industry', 'therefore', 'asked', 'Sinha', 'for', 'enhancing', 'public', 'spending', 'in', 'infrastructure', 'sector', 'to', 'revive', 'the', 'economy', 'and', 'come', 'up', 'with', 'a', 'Growth', 'Oriented', 'budget', 'to', 'intensify', 'reform', 'The', 'meeting', 'had', 'all', 'the', 'usual', 'big', 'names', 'from', 'Indian', 'industry', 'except', 'high', 'tech', 'Tycoons', 'such', 'as', 'NR', 'Narayan', 'Murthy', 'Azim', 'Premji', 'K', 'Anji', 'Reddy', 'and', 'Yusuf', 'Hamied', 'who', 'had', 'regretted', 'for', 'being', 'absent', 'Each', 'participant', 'was', 'given', 'minutes', 'to', 'lecture', 'the', 'FM'], ['New', 'Delhi', 'celebrating', 'Tagore', 'new', 'Delhi', 'the', 'Hindu', 'may', 'ist', 'September', 'ist', 'More', 'In', 'staff', 'reporter', 'New', 'Delhi', 'the', 'authentic', 'feel', 'and', 'aura', 'of', 'Santiniketan', 'came', 'alive', 'in', 'Helen', 'Jerwood', 'hall', 'of', 'St', 'Thomas', 'school', 'here', 'over', 'the', 'weekend', 'as', 'it', 'celebrated', 'the', 'T', 'H', 'birth', 'anniversary', 'of', 'Rabindranath', 'Tagore', 'vignettes', 'from', 'Tagore', 's', 'outstanding', 'plays', 'Chandalika', 'Shyama', 'and', 'Chitrangada', 'offered', 'an', 'insight', 'into', 'the', 'noted', 'playwright', 's', 'creativity', 'His', 'patriotic', 'Fervour', 'was', 'also', 'highlighted', 'in', 'the', 'programme', 'related', 'topics']]\n",
            "3430\n",
            "[['Top', 'searches', 'Hdmc', 'man', 's', 'wife', 'Chained', 'assaulted', 'for', 'dowry', 'Tnn', 'Sep', 'ist', 'Hubli', 'a', 'year', 'old', 'woman', 'was', 'allegedly', 'Chained', 'and', 'assaulted', 'by', 'her', 'in', 'laws', 'who', 'demanded', 'her', 'to', 'get', 'more', 'dowry', 'on', 'Friday', 'in', 'Hubli', 'the', 'woman', 'was', 'admitted', 'to', 'the', 'Kims', 'hospital', 'in', 'Hubli', 'with', 'severe', 'injuries', 'the', 'victim', 'identified', 'as', 'Lakshmi', 'Anantha', 'Tagaragunti', 'was', 'reportedly', 'locked', 'in', 'a', 'room', 'in', 'a', 'House', 'near', 'Bankapur', 'Chowk', 'on', 'a', 'tip', 'off', 'the', 'police', 'reached', 'the', 'spot', 'and', 'rushed', 'her', 'to', 'the', 'hospital', 'the', 'police', 'source', 'revealed', 'that', 'Lakshmi', 'was', 'married', 'to', 'an', 'employee', 'of', 'Hubli', 'Dharwad', 'municipal', 'corporation', 'Hdmc', 'and', 'recently', 'she', 'had', 'brought', 'RS', 'from', 'her', 'parents', 'for', 'that', 'one', 'month', 'she', 'was', 'again', 'Pestered', 'by', 'her', 'in', 'laws', 'who', 'ordered', 'her', 'to', 'bring', 'RS', 'more', 'the', 'source', 'added', 'when', 'Lakshmi', 'expressed', 'her', 'helplessness', 'to', 'bring', 'any', 'more', 'money', 'from', 'her', 'parents', 'as', 'they', 'were', 'poor', 'people', 'she', 'along', 'with', 'her', 'three', 'children', 'were', 'locked', 'in', 'a', 'room', 'the', 'Hubli', 'Kasabapeth', 'police', 'have', 'taken', 'up', 'the', 'investigation', 'Belgaum', 'bail', 'for', 'smugglers', 'the', 'third', 'additional', 'and', 'sessions', 'Court', 'Judge', 's', 's', 'Nagarali', 'on', 'Friday', 'granted', 'bail', 'to', 'Maruti', 'Gujanal', 'of', 'Dharanatti', 'village', 'who', 'allegedly', 'was', 'involved', 'in', 'sandalwood', 'smuggling', 'on', 'the', 'national', 'highway', 'on', 'August', 'it', 'may', 'be', 'recalled', 'that', 'Gujanal', 'and', 'his', 'accomplice', 'were', 'allegedly', 'carrying', 'sandalwood', 'logs', 'in', 'a', 'tempo', 'they', 'had', 'allegedly', 'assaulted', 'a', 'sub', 'Inspector', 'and', 'a', 'Constable', 'with', 'iron', 'rods', 'and', 'taken', 'away', 'a', 'pistol', 'and', 'rifle', 'from', 'them', 'the', 'gang', 'also', 'fired', 'two', 'rounds', 'from', 'the', 'rifle', 'on', 'the', 'squad', 'on', 'August', 'near', 'Bagewadi', 'Ghat', 'on', 'the', 'Pune', 'BANGALORE', 'national', 'highway', 'the', 'next', 'day', 'the', 'police', 'nabbed', 'Maruti', 'Gujanal', 'of', 'Dharnattti', 'village', 'and', 'found', 'the', 'rifle', 'in', 'a', 'field', 'at', 'Kakati', 'Dharwad', 'injured', 'in', 'accident', 'a', 'Motorcyclist', 'suffered', 'severe', 'injuries', 'when', 'his', 'Motorcycle', 'skidded', 'near', 'Sangam', 'Talkies', 'in', 'Dharwad', 'on', 'Friday', 'night', 'the', 'police', 'said', 'the', 'incident', 'occurred', 'when', 'the', 'Motorcyclist', 'Abdul', 'was', 'on', 'his', 'way', 'home', 'the', 'Dharwad', 'traffic', 'police', 'have', 'registered', 'a', 'case', 'and', 'is', 'investigating', 'in', 'a', 'separate', 'incident', 'a', 'year', 'old', 'school', 'girl', 'was', 'injured', 'when', 'she', 'was', 'hit', 'by', 'a', 'two', 'Wheeler', 'Manjula', 'Chandrappa', 'Guddalli', 'of', 'Byredevarakoppa', 'has', 'been', 'rushed', 'to', 'Kims', 'hospital', 'Hubli', 'youth', 'suffers', 'burns', 'a', 'year', 'old', 'youth', 'suffered', 'burns', 'in', 'a', 'fire', 'accident', 'in', 'Hosayellapura', 'of', 'Dharwad', 'the', 'youth', 'who', 'has', 'been', 'identified', 'as', 'Bylappa', 'Hanumanthappa', 'sustained', 'burns', 'while', 'he', 'was', 'cooking', 'in', 'his', 'house', 'he', 'has', 'been', 'shifted', 'to', 'Kims', 'hospital', 'according', 'to', 'the', 'police'], ['Kerala', 'now', 'Ksinc', 'to', 'build', 'boat', 'for', 'Kochi', 'Kerala', 'the', 'Hindu', 'September', 'ist', 'September', 'ist', 'more', 'in', 'Erala', 'state', 'Inland', 'navigation', 'corporation', 'Ksinc', 'has', 'been', 'roped', 'in', 'by', 'the', 'Kochi', 'corporation', 'for', 'building', 'a', 'steel', 'boat', 'and', 'operating', 'it', 'in', 'the', 'Fort', 'Kochi', 'Vypeen', 'sector', 'the', 'agency', 'has', 'also', 'agreed', 'to', 'operate', 'the', 'vessel', 'as', 'well', 'as', 'the', 'roll', 'on', 'roll', 'off', 'facility', 'which', 'is', 'being', 'readied', 'for', 'the', 'corporation', 'said', 'Tony', 'Chammany', 'Kochi', 'Mayor', 'the', 'decision', 'to', 'assign', 'the', 'task', 'to', 'the', 'government', 'agency', 'was', 'taken', 'at', 'a', 'meeting', 'convened', 'by', 'state', 'Fisheries', 'Minister', 'K', 'Babu', 'at', 'the', 'state', 'capital', 'on', 'Wednesday', 'the', 'vessel', 'would', 'cost', 'around', 'RS', 'Lakh', 'half', 'of', 'the', 'cost', 'would', 'be', 'paid', 'to', 'the', 'agency', 'during', 'the', 'signing', 'of', 'the', 'agreement', 'the', 'agency', 'will', 'provide', 'a', 'detailed', 'proposal', 'later', 'this', 'week', 'said', 'Mr', 'Chammany', 'the', 'boat', 'which', 'would', 'be', 'operated', 'even', 'in', 'the', 'mouth', 'bar', 'would', 'be', 'ready', 'in', 'three', 'months', 'it', 'would', 'have', 'capacity', 'to', 'ferry', 'passengers', 'at', 'a', 'time', 'and', 'would', 'be', 'built', 'in', 'compliance', 'with', 'the', 'highest', 'safety', 'standards', 'said', 'the', 'Mayor', 'expensive', 'proposition', 'the', 'boat', 'that', 'has', 'been', 'pressed', 'into', 'service', 'by', 'the', 'corporation', 'in', 'the', 'Vypeen', 'Fort', 'Kochi', 'sector', 'will', 'burn', 'holes', 'in', 'the', 'pocket', 'of', 'the', 'cash', 'strapped', 'local', 'body', 'the', 'civic', 'body', 'will', 'have', 'to', 'Shell', 'out', 'around', 'RS', 'Lakh', 'a', 'month', 'towards', 'rent', 'of', 'the', 'vessel', 'a', 'Kochi', 'based', 'private', 'agency', 'has', 'rented', 'out', 'the', 'vessel', 'which', 'it', 'hired', 'from', 'a', 'private', 'entrepreneur', 'in', 'Alappuzha', 'incidentally', 'the', 'private', 'firm', 'has', 'offered', 'RS', 'a', 'day', 'as', 'rent', 'to', 'the', 'businessman', 'the', 'agency', 'wanted', 'to', 'hire', 'the', 'boat', 'for', 'two', 'months', 'and', 'gave', 'an', 'advance', 'of', 'RS', 'Lakh', 'towards', 'rent', 'said', 'Babu', 'Varghese', 'Sebastian', 'owner', 'of', 'the', 'vessel', 'the', 'fuel', 'cost', 'and', 'the', 'salary', 'of', 'the', 'crew', 'will', 'have', 'to', 'be', 'met', 'by', 'the', 'hiring', 'agency', 'no', 'formal', 'deal', 'has', 'been', 'signed', 'with', 'the', 'company', 'as', 'a', 'few', 'issues', 'related', 'to', 'the', 'responsibility', 'of', 'the', 'parties', 'in', 'case', 'of', 'accidents', 'and', 'insurance', 'need', 'to', 'be', 'ironed', 'out', 'the', 'issues', 'would', 'be', 'sorted', 'out', 'in', 'a', 'day', 'or', 'two', 'said', 'Mr', 'Sebastian', 'V', 'R', 'Raju', 'Secretary', 'of', 'the', 'Kochi', 'corporation', 'said', 'the', 'local', 'body', 'will', 'pay', 'only', 'the', 'fuel', 'cost', 'for', 'running', 'vessel', 'all', 'other', 'expenses', 'including', 'the', 'cost', 'of', 'modifications', 'that', 'were', 'carried', 'in', 'the', 'vessel', 'that', 'was', 'used', 'as', 'a', 'cargo', 'ship', 'fuel', 'cost', 'and', 'the', 'salary', 'of', 'the', 'crew', 'will', 'have', 'to', 'be', 'met', 'by', 'the', 'agency', 'he', 'said', 'the', 'local', 'body', 'had', 'earlier', 'earned', 'revenue', 'by', 'leasing', 'out', 'the', 'right', 'to', 'operate', 'the', 'vessel', 'it', 'has', 'been', 'decided', 'to', 'collect', 'travel', 'fare', 'from', 'the', 'passengers', 'from', 'Thursday', 'said', 'Mr', 'Raju', 'it', 'is', 'estimated', 'that', 'the', 'vessel', 'would', 'require', 'at', 'least', 'litre', 'of', 'diesel', 'a', 'day', 'to', 'ferry', 'passengers', 'in', 'the', 'sector', 'the', 'salary', 'of', 'the', 'member', 'crew', 'would', 'be', 'around', 'RS', 'a', 'day', 'according', 'to', 'the', 'boat', 'owner', 'the', 'agency', 'has', 'also', 'agreed', 'to', 'operate', 'the', 'vessel', 'as', 'well', 'as', 'the', 'roll', 'on', 'roll', 'off', 'facility', 'related', 'topics'], ['Congress', 'may', 'join', 'left', 'agitation', 'Hyderabad', 'news', 'times', 'of', 'India', 'Tnn', 'Sep', 'ist', 'Congress', 'may', 'join', 'left', 'agitation', 'Tnn', 'Sep', 'ist', 'Hyderabad', 'taking', 'Advan', 'Tage', 'of', 'the', 'forthcoming', 'Assembly', 'session', 'slated', 'for', 'September', 'the', 'nine', 'left', 'parties', 'including', 'the', 'CPI', 'and', 'Cpm', 'are', 'planning', 'to', 'launch', 'a', 'state', 'wide', 'agitation', 'in', 'the', 'second', 'week', 'of', 'next', 'month', 'to', 'raise', 'issues', 'such', 'as', 'the', 'government', 's', 'in', 'difference', 'in', 'taking', 'up', 'drought', 're', 'Lief', 'works', 'in', 'different', 'districts', 'apart', 'from', 'regular', 'Dharnas', 'picketing', 'of', 'Collectorates', 'seminars', 'and', 'other', 'programmes', 'the', 'left', 'leaders', 'are', 'learnt', 'to', 'be', 'thinking', 'about', 'organising', 'a', 'Chalo', 'assembly', 'rally', 'on', 'a', 'working', 'day', 'the', 'finer', 'Modalities', 'for', 'which', 'will', 'be', 'Fi', 'Nalised', 'at', 'a', 'meeting', 'of', 'the', 'nine', 'left', 'parties', 'leaders', 'to', 'be', 'held', 'here', 'on', 'September', 'the', 'leaders', 'of', 'the', 'nine', 'left', 'par', 'ties', 'took', 'a', 'decision', 'to', 'this', 'effect', 'at', 'a', 'meeting', 'held', 'in', 'the', 'city', 'on', 'au', 'gust', 'the', 'first', 'anniversary', 'of', 'Po', 'lice', 'firing', 'on', 'the', 'Chalo', 'assembly', 'of', 'the', 'power', 'tariff', 'hike', 'agitators', 'killing', 'three', 'people', 'giving', 'a', 'boost', 'to', 'the', 'left', 'parties', 'proposal', 'the', 'main', 'opposition', 'the', 'Congress', 'ex', 'pressed', 'its', 'willingness', 'to', 'support', 'the', 'agitation', 'provided', 'the', 'left', 'leaders', 'take', 'a', 'decision', 'on', 'the', 'course', 'of', 'action', 'in', 'consultation', 'with', 'them', 'we', 'are', 'not', 'against', 'coordinating', 'with', 'them', 'in', 'the', 'issues', 'of', 'public', 'in', 'Terest', 'provided', 'the', 'left', 'leaders', 'consult', 'us', 'Pradesh', 'Congress', 'committee', 'President', 'M', 'Satya', 'Narayana', 'Rao', 'told', 'the', 'times', 'of', 'in', 'DIA', 'however', 'both', 'the', 'Congress', 'as', 'well', 'as', 'the', 'left', 'parties', 'leaders', 'ap', 'pear', 'to', 'be', 'concerned', 'with', 'the', 'lack', 'of', 'coordination', 'among', 'different', 'constituents', 'of', 'the', 'nine', 'left', 'par', 'ties', 'which', 'adversely', 'affected', 'the', 'joint', 'programmes', 'organised', 'by', 'them', 'earlier', 'though', 'we', 'are', 'in', 'favour', 'of', 'a', 'joint', 'agitation', 'we', 'are', 'not', 'sure', 'as', 'to', 'what', 'the', 'Cpm', 's', 're', 'Sponse', 'to', 'it', 'is', 'similar', 'problems', 'also', 'exist', 'with', 'the', 'Janasakthi', 'new', 'democracy', 'and', 'other', 'groups', 'a', 'senior', 'CPI', 'leader', 'admitted', 'the', 'Cpm', 'leaders', 'on', 'the', 'other', 'hand', 'said', 'that', 'the', 'party', 'was', 'pre', 'pared', 'to', 'coordinate', 'with', 'the', 'con', 'Gress', 'if', 'it', 'supports', 'the', 'agitation', 'but', 'it', 'will', 'not', 'be', 'possible', 'to', 'share', 'a', 'common', 'platform', 'with', 'them', 'Ow', 'Ing', 'to', 'our', 'own', 'compulsions', 'a', 'Cpm', 'state', 'Secretariat', 'member', 'said', 'CPI', 'state', 'Secretary', 'Suravaram', 'Sudhakar', 'Reddy', 'said', 'that', 'the', 'left', 'parties', 'leaders', 'are', 'therefore', 'meet', 'Ing', 'again', 'on', 'September', 'to', 'iron', 'out', 'the', 'difference', 'of', 'opinion', 'if', 'any', 'among', 'them', 'before', 'embarking', 'upon', 'the', 'Agitational', 'programmes'], ['Teachers', 'strike', 'disrupts', 'studies', 'Ahmedabad', 'news', 'times', 'of', 'India', 'Tnn', 'Sep', 'ist', 'teachers', 'strike', 'disrupts', 'studies', 'Tnn', 'Sep', 'ist', 'Ahmedabad', 'how', 'justified', 'are', 'the', 'teachers', 'in', 'holding', 'the', 'entire', 'education', 'system', 'to', 'ransom', 'for', 'a', 'vehicle', 'allowance', 'of', 'RS', 'asks', 'a', 'Jagrut', 'Vali', 'Mandal', 'hand', 'out', 'that', 'thousands', 'of', 'parents', 'in', 'city', 'received', 'on', 'Monday', 'morning', 'hidden', 'within', 'folds', 'of', 'their', 'newspapers', 'late', 'it', 'may', 'be', 'but', 'the', 'hand', 'bill', 'has', 'come', 'as', 'a', 'wake', 'up', 'call', 'to', 'parents', 'of', 'secondary', 'and', 'higher', 'secondary', 'students', 'who', 'are', 'on', 'a', 'forced', 'vacation', 'for', 'one', 'week', 'all', 'thanks', 'to', 'the', 'striking', 'teachers', 'and', 'principals', 'almost', 'per', 'cent', 'of', 'the', 'schools', 'were', 'scheduled', 'to', 'conduct', 'the', 'first', 'tests', 'from', 'Monday', 'but', 'the', 'same', 'has', 'been', 'indefinitely', 'postponed', 'come', 'to', 'think', 'of', 'it', 'the', 'strike', 'by', 'teachers', 'is', 'highly', 'unjustified', 'our', 'children', 'have', 'already', 'lost', 'almost', 'four', 'months', 'of', 'education', 'because', 'of', 'the', 'earthquake', 'and', 'now', 'this', 'strike', 'and', 'to', 'put', 'it', 'frankly', 'their', 'demands', 'are', 'too', 'petty', 'to', 'put', 'education', 'of', 'Lakh', 'students', 'on', 'hold', 'says', 'an', 'Agitated', 'parent', 'of', 'a', 'class', 'X', 'student', 'of', 'Firdaus', 'Amrut', 'high', 'school', 'cantonment', 'the', 'government', 'has', 'already', 'partially', 'responded', 'to', 'the', 'state', 'wide', 'school', 'Bandh', 'by', 'issuing', 'a', 'GR', 'ordering', 'per', 'cent', 'recruitment', 'of', 'teachers', 'and', 'also', 'announcing', 'vehicle', 'allowance', 'from', 'January', 'the', 'two', 'were', 'proclaimed', 'as', 'the', 'main', 'demands', 'when', 'the', 'teachers', 'had', 'embarked', 'on', 'the', 'indefinite', 'strike', 'apparently', 'now', 'they', 'want', 'to', 'extract', 'more', 'by', 'pressuring', 'the', 'government', 'through', 'the', 'strike', 'but', 'should', 'our', 'children', 'suffer', 'of', 'days', 'in', 'the', 'year', 'the', 'teachers', 'are', 'entitled', 'to', 'leave', 'of', 'around', 'days', 'add', 'to', 'this', 'the', 'days', 'that', 'were', 'lost', 'in', 'earthquake', 'the', 'total', 'working', 'days', 'come', 'to', 'around', 'days', 'do', 'the', 'teachers', 'not', 'have', 'the', 'moral', 'responsibility', 'to', 'ensure', 'that', 'the', 'students', 'study', 'at', 'least', 'days', 'questions', 'father', 'of', 'a', 'class', 'Xi', 'student', 'of', 'NR', 'higher', 'secondary', 'school', 'here', 'while', 'striking', 'teachers', 'and', 'principals', 'concede', 'that', 'there', 'is', 'no', 'way', 'they', 'will', 'resume', 'teaching', 'until', 'all', 'of', 'their', 'six', 'demands', 'are', 'met', 'those', 'include', 'giving', 'teachers', 'vehicle', 'allowance', 'with', 'effect', 'from', 'April', 'and', 'other', 'demands', 'of', 'administrative', 'and', 'financial', 'implications', 'they', 'assured', 'that', 'each', 'day', 'of', 'education', 'lost', 'due', 'to', 'the', 'strike', 'will', 'be', 'covered', 'up', 'once', 'the', 'strike', 'is', 'called', 'off', 'we', 'will', 'teach', 'on', 'Sunday', 'public', 'holidays', 'and', 'if', 'need', 'be', 'even', 'shorten', 'the', 'Diwali', 'vacation', 'and', 'ensure', 'that', 'the', 'loss', 'is', 'covered', 'up', 'assured', 'president', 'of', 'the', 'Gujarat', 'Rajya', 'Shaikshanik', 'Sankalan', 'Samiti', 'Keshubahi', 'Patel', 'but', 'just', 'when', 'the', 'teachers', 'will', 'end', 'the', 'strike', 'no', 'one', 'knows', 'it', 'is', 'going', 'to', 'take', 'long', 'this', 'is', 'what', 'our', 'experience', 'says', 'says', 'Patel', 'till', 'then', 'we', 'just', 'kill', 'time', 'when', 'their', 'issues', 'get', 'resolved', 'we', 'will', 'be', 'forced', 'to', 'take', 'these', 'extra', 'classes', 'on', 'Sundays', 'and', 'public', 'holidays', 'during', 'Diwali', 'and', 'they', 'teach', 'us', 'selflessness', 'is', 'class', 'what', 'a', 'sham', 'says', 'a', 'SSC', 'board', 'student']]\n",
            "687\n"
          ],
          "name": "stdout"
        }
      ]
    },
    {
      "cell_type": "code",
      "metadata": {
        "id": "DpQiE4oyg84a",
        "colab_type": "code",
        "outputId": "169ddb48-5dc1-4746-9159-a51b14fada01",
        "colab": {
          "base_uri": "https://localhost:8080/",
          "height": 129
        }
      },
      "source": [
        "sw1 = [line.rstrip('\\n') for line in open(\"/data_task1/rmstop.txt\")]\n",
        "sw2=[line.rstrip('\\n') for line in open('/data_task1/smart_common_words.txt\")]\n",
        "print(len(sw1))\n",
        "print(len(sw2))\n",
        "stop_words = stopwords.words('english')\n",
        "print (stop_words)\n",
        "stop_words= stop_words + sw1 +sw2\n",
        "stop_words.extend([\"ist\"])\n",
        "print(len(stop_words))\n",
        "stop_words= list(set(stop_words)) \n",
        "print(sw2[:32])"
      ],
      "execution_count": 0,
      "outputs": [
        {
          "output_type": "stream",
          "text": [
            "566\n",
            "617\n",
            "['i', 'me', 'my', 'myself', 'we', 'our', 'ours', 'ourselves', 'you', \"you're\", \"you've\", \"you'll\", \"you'd\", 'your', 'yours', 'yourself', 'yourselves', 'he', 'him', 'his', 'himself', 'she', \"she's\", 'her', 'hers', 'herself', 'it', \"it's\", 'its', 'itself', 'they', 'them', 'their', 'theirs', 'themselves', 'what', 'which', 'who', 'whom', 'this', 'that', \"that'll\", 'these', 'those', 'am', 'is', 'are', 'was', 'were', 'be', 'been', 'being', 'have', 'has', 'had', 'having', 'do', 'does', 'did', 'doing', 'a', 'an', 'the', 'and', 'but', 'if', 'or', 'because', 'as', 'until', 'while', 'of', 'at', 'by', 'for', 'with', 'about', 'against', 'between', 'into', 'through', 'during', 'before', 'after', 'above', 'below', 'to', 'from', 'up', 'down', 'in', 'out', 'on', 'off', 'over', 'under', 'again', 'further', 'then', 'once', 'here', 'there', 'when', 'where', 'why', 'how', 'all', 'any', 'both', 'each', 'few', 'more', 'most', 'other', 'some', 'such', 'no', 'nor', 'not', 'only', 'own', 'same', 'so', 'than', 'too', 'very', 's', 't', 'can', 'will', 'just', 'don', \"don't\", 'should', \"should've\", 'now', 'd', 'll', 'm', 'o', 're', 've', 'y', 'ain', 'aren', \"aren't\", 'couldn', \"couldn't\", 'didn', \"didn't\", 'doesn', \"doesn't\", 'hadn', \"hadn't\", 'hasn', \"hasn't\", 'haven', \"haven't\", 'isn', \"isn't\", 'ma', 'mightn', \"mightn't\", 'mustn', \"mustn't\", 'needn', \"needn't\", 'shan', \"shan't\", 'shouldn', \"shouldn't\", 'wasn', \"wasn't\", 'weren', \"weren't\", 'won', \"won't\", 'wouldn', \"wouldn't\"]\n",
            "1363\n",
            "['reuters', 'ap', 'jan', 'feb', 'mar', 'apr', 'may', 'jun', 'jul', 'aug', 'sep', 'oct', 'nov', 'dec', 'tech', 'news', 'index', 'mon', 'tue', 'wed', 'thu', 'fri', 'sat', 'january', 'february', 'march', 'april', 'may', 'june', 'july', 'august', 'september']\n"
          ],
          "name": "stdout"
        }
      ]
    },
    {
      "cell_type": "markdown",
      "metadata": {
        "id": "ceHn8Lqsg84-",
        "colab_type": "text"
      },
      "source": [
        "### NER"
      ]
    },
    {
      "cell_type": "code",
      "metadata": {
        "id": "9cJqXXSzg85D",
        "colab_type": "code",
        "outputId": "9a77d857-500e-4b5a-de85-538df21ca6f5",
        "colab": {
          "base_uri": "https://localhost:8080/",
          "height": 257
        }
      },
      "source": [
        "import nltk\n",
        "from nltk import word_tokenize, pos_tag, ne_chunk\n",
        "from nltk.chunk import conlltags2tree, tree2conlltags\n",
        "from pprint import pprint\n",
        "\n",
        "nltk.download('words')\n",
        "nltk.download('averaged_perceptron_tagger')\n",
        "nltk.download('punkt')\n",
        "nltk.download('maxent_ne_chunker')\n"
      ],
      "execution_count": 0,
      "outputs": [
        {
          "output_type": "stream",
          "text": [
            "[nltk_data] Downloading package words to /root/nltk_data...\n",
            "[nltk_data]   Unzipping corpora/words.zip.\n",
            "[nltk_data] Downloading package averaged_perceptron_tagger to\n",
            "[nltk_data]     /root/nltk_data...\n",
            "[nltk_data]   Package averaged_perceptron_tagger is already up-to-\n",
            "[nltk_data]       date!\n",
            "[nltk_data] Downloading package punkt to /root/nltk_data...\n",
            "[nltk_data]   Unzipping tokenizers/punkt.zip.\n",
            "[nltk_data] Downloading package maxent_ne_chunker to\n",
            "[nltk_data]     /root/nltk_data...\n",
            "[nltk_data]   Unzipping chunkers/maxent_ne_chunker.zip.\n"
          ],
          "name": "stdout"
        },
        {
          "output_type": "execute_result",
          "data": {
            "text/plain": [
              "'from nltk.tag.stanford import NERTagger\\nfrom nltk.tag import StanfordNERTagger\\nst = StanfordNERTagger(\\'stanford-ner-tagger/english.all.3class.distsim.crf.ser.gz\\',\\'stanford-ner-tagger/stanford-ner.jar\\')\\nsentences=truecase_news\\nprint (len(sentences))\\nnner_news=[]\\n    \\nfor i in sentences:\\n    for sent in nltk.sent_tokenize(i):\\n        tokens = nltk.tokenize.word_tokenize(sent)\\n        print i\\n        #print (tokens)µ\\n        tags = st.tag(tokens)\\n        #print (tags)\\n    t=[i[0] for i in tags if i[1] not in [\"PERSON\", \"LOCATION\", \"ORGANIZATION\"]]\\n    ner_news.append(t)'"
            ]
          },
          "metadata": {
            "tags": []
          },
          "execution_count": 10
        }
      ]
    },
    {
      "cell_type": "code",
      "metadata": {
        "id": "Tnriz_TAg85d",
        "colab_type": "code",
        "outputId": "2be02c58-7e4d-43f3-b480-9c0a57b7f864",
        "colab": {
          "base_uri": "https://localhost:8080/",
          "height": 74
        }
      },
      "source": [
        "#ner = [line.split() for line.strip in open(\"ner.txt\")]\n",
        "import ast\n",
        "ner= [ast.literal_eval(line.rstrip('\\n') )for line in  open(\"/data_task1/ner.txt\")]\n",
        "ner1= [ast.literal_eval(line.rstrip('\\n') )for line in  open(\"/data_task1/ner1.txt\")]\n",
        "#ner1= [line for line in open(\"ner1.txt\")]\n",
        "ner_news= ner + ner1[1:]\n",
        "print (ner_news[0:3])\n",
        "print (len(ner_news))"
      ],
      "execution_count": 0,
      "outputs": [
        {
          "output_type": "stream",
          "text": [
            "[['Education', 'must', 'for', 'describing', 'education', 'as', 'essential', 'for', 'development', 'of', 'the', 'downtrodden', 'especially', 'of', 'the', 'tribal', 'community', 'justice', 'judge', 'in', 'international', 'Court', 'of', 'justice', 'said', 'it', 'can', 'help', 'them', 'join', 'mainstream', 'society', 'education', 'gives', 'knowledge', 'along', 'with', 'social', 'security', 'and', 'success', 'in', 'life', 'justice', 'said', 'during', 'a', 'visit', 'to', 'and', 'kiss', 'here', 'recently', 'advising', 'entrepreneurs', 'to', 'invest', 'more', 'in', 'building', 'learning', 'centres', 'he', 'said', 'reputed', 'universities', 'like', 'and', 'are', 'all', 'set', 'up', 'by', 'entrepreneurs', 'or', 'private', 'trust', 'boards', 'justice', 'received', 'doctorate', 'in', 'law', 'honorary', 'Causa', 'which', 'was', 'conferred', 'on', 'him', 'during', 'the', 'Convocation', 'of', 'conferred', 'D', 'law', 'on', 'justice', 'in', 'the', 'presence', 'of', 'Dr', 'founder', 'of', 'and', 'kiss', 'Prof', 'Pp', 'vice', 'Chancellor', 'and', 'Dr', 'registrar', 'of'], ['Bridging', 'the', 'gap', 'students', 'show', 'the', 'way', 'Tnn', 'Aug', 'ist', 'they', 'are', 'young', 'full', 'of', 'earnestness', 'and', 'a', 'Fervour', 'to', 'reconstruct', 'their', 'country', 'from', 'scratch', 'ravaged', 'as', 'it', 'was', 'by', 'the', 'Pol', 'pot', 'regime', 'almost', 'each', 'of', 'them', 'has', 'lost', 'a', 'member', 'of', 'their', 'family', 'during', 'the', 'unhappy', 'time', 'they', 'are', 'here', 'on', 'a', 'student', 'group', 'exposure', 'programme', 'of', 'them', 'from', 'many', 'of', 'them', 'students', 'of', 'architecture', 'economics', 'accounts', 'and', 'social', 'work', 'talking', 'to', 'them', 'reveals', 'a', 'lot', 'of', 'similarities', 'between', 'their', 'culture', 'and', 'Indian', 'we', 'don', 't', 'wear', 'shoes', 'within', 'the', 'says', 'and', 'when', 'a', 'visitor', 'who', 'has', 'come', 'for', 'the', 'first', 'time', 'says', 'goodbye', 'they', 'Drape', 'a', 'little', 'silk', 'shawl', 'much', 'like', 'an', 'their', 'names', 'sound', 'familiar', 'too', 'Sok', 'Sampath', 'Sampath', 'stands', 'for', 'wealth', 'you', 'earn', 'and', 'which', 'means', 'the', 'is', 'very', 'close', 'to', 'the', 'Indian', 'Saranya', 'the', 'students', 'of', 'architecture', 'have', 'worked', 'on', 'several', 'projects', 'on', 'temple', 'reconstruction', 'and', 'low', 'cost', 'housing', 'for', 'the', 'urban', 'poor', 'in', 'they', 'are', 'working', 'here', 'with', 'the', 'waste', 'wise', 'and', 'looking', 'at', 'low', 'cost', 'housing', 'in', 'slums', 'here', 'they', 'have', 'also', 'been', 'to', 'temples', 'in', 'and', 'and', 'Halebid', 'they', 'have', 'also', 'been', 'exposed', 'to', 'the', 'food', 'and', 'culture', 'here', 'when', 'I', 'first', 'had', 'a', 'sample', 'of', 'the', 'cuisine', 'I', 'said', 'Oh', 'God', 'says', 'but', 'they', 'all', 'like', 'chicken', 'Biryani', 'in', 'where', 'they', 'come', 'from', 'the', 'students', 'work', 'part', 'time', 'voluntarily', 'at', 'the', 'urban', 'resource', 'centre', 'a', 'nongovernmental', 'Organisation', 'that', 'works', 'with', 'urban', 'poor', 'communities', 'they', 'assist', 'communities', 'to', 'develop', 'their', 'own', 'ideas', 'for', 'development', 'giving', 'technical', 'advice', 'when', 'required', 'they', 'also', 'look', 'at', 'the', 'wider', 'issues', 'of', 'development', 'in', 'the', 'city', 'intends', 'to', 'bridge', 'the', 'gap', 'between', 'authorities', 'and', 'the', 'urban', 'poor', 'so', 'that', 'the', 'voice', 'of', 'the', 'communities', 'is', 'heard', 'and', 'taken', 'into', 'account', 'from', 'the', 'Indian', 'side', 'of', 'waste', 'wise', 'and', 'head', 'Department', 'of', 'architecture', 'of', 'technology', 'visited', 'in', 'March', 'remembers', 'that', 'in', 'traditional', 'Khmer', 'restaurants', 'the', 'rice', 'and', 'tea', 'comes', 'free', 'tea', 'comes', 'with', 'Icecubes'], ['Top', 'searches', 'few', 'Sops', 'likely', 'for', 'industry', 'in', 'budget', 'ist', 'industry', 'leaders', 'got', 'the', 'stern', 'message', 'they', 'were', 'expecting', 'from', 'the', 'Finance', 'Minister', 'on', 'Tuesday', 'there', 'will', 'be', 'little', 'Sops', 'for', 'the', 'industry', 'in', 'the', 'budget', 'the', 'reason', 'it', 'failed', 'to', 'deliver', 'after', 'all', 'the', 'incentives', 'were', 'doled', 'out', 'in', 'this', 'Yearâ', 's', 'budget', 'Moreover', 'the', 'industry', 'now', 'has', 'to', 'perhaps', 'contend', 'with', 'a', 'fresh', 'dose', 'of', 'global', 'competition', 'in', 'the', 'form', 'of', 'customs', 'duty', 'reduction', 'in', 'the', 'pre', 'budget', 'consultations', 'held', 'with', 'captains', 'of', 'industry', 'here', 'the', 'participants', 'were', 'in', 'fact', 'shy', 'of', 'asking', 'for', 'more', 'they', 'made', 'the', 'minimum', 'necessary', 'noises', 'demanding', 'the', 'slashing', 'of', 'corporate', 'tax', 'rate', 'to', 'per', 'cent', 'abolition', 'of', 'minimum', 'alternate', 'tax', 'mat', 'and', 'reintroduction', 'of', 'investment', 'allowance', 'and', 'sensing', 'the', 'shift', 'in', 'the', 'Fmâ', 's', 'priority', 'they', 'laid', 'all', 'the', 'emphasis', 'on', 'what', 'needs', 'to', 'be', 'done', 'for', 'agriculture', 'and', 'the', 'infrastructure', 'Ficciâ', 's', 'and', 's', 'asked', 'for', 'drastic', 'reforms', 'in', 'agriculture', 'and', 'steps', 'such', 'as', 'doubling', 'the', 'outlay', 'for', 'rural', 'irrigation', 'projects', 'more', 'allocation', 'for', 'poverty', 'alleviation', 'and', 'rural', 'employment', 'and', 'introduction', 'of', 'future', 'trading', 'in', 'farm', 'goods', 'the', 'industrialists', 'were', 'acknowledging', 'that', 'the', 'Finance', 'Minister', 'was', 'clearly', 'in', 'a', 'mood', 'to', 'give', 'more', 'to', 'performing', 'sectors', 'and', 'less', 'to', 'Laggards', 'in', 'the', 'same', 'vein', 'the', 'industrialists', 'sensed', 'the', 'possibility', 'of', 'being', 'generous', 'this', 'year', 'for', 'entertainment', 'and', 'media', 'sector', 'which', 'is', 'poised', 'to', 'grow', 'from', 'RS', 'Crore', 'at', 'present', 'to', 'RS', 'Crore', 'by', 'they', 'wanted', 'this', 'sector', 'be', 'treated', 'at', 'par', 'with', 'it', 'industry', 'for', 'budget', 'rubbed', 'in', 'the', 'point', 'that', 'industry', 'be', 'better', 'prepared', 'to', 'face', 'global', 'competition', 'by', 'reiterating', 'his', 'announcement', 'in', 'this', 's', 'budget', 'that', 'customs', 'tariff', 'rate', 'will', 'be', 'brought', 'down', 'to', 'per', 'cent', 'within', 'three', 'years', 'most', 'of', 'the', 'participants', 'had', 'to', 'gulp', 'it', 'it', 'was', 'only', 'who', 'appeared', 'to', 'be', 'still', 'protesting', 'against', 'bringing', 'down', 'tariffs', 'to', 'level', 'was', 'more', 'reconciled', 'to', 'the', 'idea', 'he', 'only', 'urged', 'the', 'FM', 'to', 'keep', 'in', 'mind', 'the', 'real', 'issues', 'of', 'protection', 'by', 'the', 'developed', 'world', 'and', 'the', 'cost', 'disadvantages', 'faced', 'by', 'the', 'Indian', 'industry', 's', 'assurance', 'in', 'general', 'terms', 'that', 'the', 'budget', 'will', 'continue', 'the', 'trends', 'in', 'rationalisation', 'and', 'simplification', 'in', 'tax', 'rates', 'and', 'reduction', 'in', 'interest', 'rates', 'over', 'time', 'was', 'welcomed', 'by', 'industry', 'captains', 'who', 'were', 'desperately', 'looking', 'forward', 'to', 'something', 'favourable', 'in', 'the', 'budget', 'the', 'Industryâ', 's', 'tactic', 'was', 'to', 'get', 'the', 'FM', 'to', 'do', 'more', 'for', 'sectors', 'such', 'as', 'infrastructure', 'which', 'will', 'indirectly', 'benefit', 'the', 'sector', 'through', 'Connectivity', 'the', 'captains', 'of', 'industry', 'therefore', 'asked', 'for', 'enhancing', 'public', 'spending', 'in', 'infrastructure', 'sector', 'to', 'revive', 'the', 'economy', 'and', 'come', 'up', 'with', 'a', 'growth', 'oriented', 'budget', 'to', 'intensify', 'reform', 'the', 'meeting', 'had', 'all', 'the', 'usual', 'big', 'names', 'from', 'Indian', 'industry', 'except', 'high', 'Tech', 'Tycoons', 'such', 'as', 'NR', 'and', 'who', 'had', 'regretted', 'for', 'being', 'absent', 'each', 'participant', 'was', 'given', 'minutes', 'to', 'lecture', 'the', 'FM']]\n",
            "3430\n"
          ],
          "name": "stdout"
        }
      ]
    },
    {
      "cell_type": "code",
      "metadata": {
        "id": "zudQcoSRg85g",
        "colab_type": "code",
        "outputId": "84f7f484-2f34-4e86-c7dc-e70c7ed17274",
        "colab": {
          "base_uri": "https://localhost:8080/",
          "height": 35
        }
      },
      "source": [
        "ner_news_test= [ast.literal_eval(line.rstrip('\\n') )for line in  open(\"/data_task1/nertest.txt\")]\n",
        "print (len(ner_news_test))"
      ],
      "execution_count": 0,
      "outputs": [
        {
          "output_type": "stream",
          "text": [
            "687\n"
          ],
          "name": "stdout"
        }
      ]
    },
    {
      "cell_type": "markdown",
      "metadata": {
        "id": "mxYQi-z2g85r",
        "colab_type": "text"
      },
      "source": [
        "### POS TAGGING"
      ]
    },
    {
      "cell_type": "code",
      "metadata": {
        "id": "1O10OP_3g85s",
        "colab_type": "code",
        "outputId": "c92e215f-9113-45c9-afb8-a359c3101475",
        "colab": {
          "base_uri": "https://localhost:8080/",
          "height": 35
        }
      },
      "source": [
        "postag=[nltk.pos_tag(i)for i in ner_news]\n",
        "postag_test= [nltk.pos_tag(i)for i in ner_news_test]\n",
        "print (len(postag_test))"
      ],
      "execution_count": 0,
      "outputs": [
        {
          "output_type": "stream",
          "text": [
            "687\n"
          ],
          "name": "stdout"
        }
      ]
    },
    {
      "cell_type": "markdown",
      "metadata": {
        "id": "Xo36sczQjmtn",
        "colab_type": "text"
      },
      "source": [
        "Scenario 1"
      ]
    },
    {
      "cell_type": "code",
      "metadata": {
        "id": "PNDhNzt_CUd_",
        "colab_type": "code",
        "colab": {}
      },
      "source": [
        "tagged_news=[]\n",
        "for i in postag:\n",
        "    l=[]\n",
        "    l=[ x for (x,y) in i if   (  y.startswith('VB')  or y.startswith('RB') )  and  x not in stop_words]         \n",
        "    tagged_news.append(l)\n",
        "    \n",
        "tagged_news_test=[]\n",
        "for i in postag_test:\n",
        "    l=[]\n",
        "    l= [ x for (x,y) in i if (  y.startswith('VB')  or y.startswith('RB') ) and  x not in stop_words ] \n",
        "    tagged_news_test.append(l)\n"
      ],
      "execution_count": 0,
      "outputs": []
    },
    {
      "cell_type": "markdown",
      "metadata": {
        "id": "qTS-6SOcjseD",
        "colab_type": "text"
      },
      "source": [
        "Scenario 2"
      ]
    },
    {
      "cell_type": "code",
      "metadata": {
        "id": "Ax5f91yGg854",
        "colab_type": "code",
        "outputId": "450a0b04-7a51-4aa2-e52e-af0413a7c3eb",
        "colab": {
          "base_uri": "https://localhost:8080/",
          "height": 53
        }
      },
      "source": [
        "tagged_news=[]\n",
        "for i in postag:\n",
        "    l=[]\n",
        "    l=[ x for (x,y) in i if   (y==\"NNS\" or y==\"NN\" or  y.startswith('VB')  or y.startswith('RB') or y.startswith('JJ')) and  x not in stop_words   ]         \n",
        "    tagged_news.append(l)\n",
        "    \n",
        "tagged_news_test=[]\n",
        "for i in postag_test:\n",
        "    l=[]\n",
        "    l= [ x for (x,y) in i if ( y==\"NNS\" or y==\"NN\" or  y.startswith('VB')  or y.startswith('RB') or y.startswith('JJ')) and  x not in stop_words  ] \n",
        "    tagged_news_test.append(l)\n",
        "    \n",
        "print (tagged_news_test[0])\n"
      ],
      "execution_count": 0,
      "outputs": [
        {
          "output_type": "stream",
          "text": [
            "['Top', 'searches', 'man', 'wife', 'assaulted', 'dowry', 'woman', 'allegedly', 'Chained', 'assaulted', 'laws', 'demanded', 'dowry', 'woman', 'admitted', 'hospital', 'severe', 'injuries', 'victim', 'identified', 'reportedly', 'locked', 'room', 'tip', 'police', 'reached', 'spot', 'rushed', 'hospital', 'police', 'source', 'revealed', 'married', 'employee', 'municipal', 'corporation', 'recently', 'brought', 'parents', 'month', 'Pestered', 'laws', 'ordered', 'bring', 'source', 'added', 'expressed', 'helplessness', 'bring', 'money', 'parents', 'poor', 'people', 'children', 'locked', 'room', 'police', 'investigation', 'bail', 'smugglers', 'additional', 'sessions', 'granted', 'bail', 'village', 'allegedly', 'involved', 'sandalwood', 'smuggling', 'national', 'highway', 'recalled', 'accomplice', 'allegedly', 'carrying', 'sandalwood', 'logs', 'tempo', 'allegedly', 'assaulted', 'Constable', 'iron', 'rods', 'pistol', 'rifle', 'gang', 'fired', 'rounds', 'rifle', 'squad', 'national', 'highway', 'police', 'nabbed', 'village', 'found', 'rifle', 'field', 'injured', 'accident', 'suffered', 'severe', 'injuries', 'skidded', 'night', 'police', 'incident', 'occurred', 'home', 'traffic', 'police', 'registered', 'case', 'investigating', 'separate', 'incident', 'school', 'girl', 'injured', 'hit', 'rushed', 'hospital', 'youth', 'suffers', 'burns', 'youth', 'suffered', 'burns', 'fire', 'accident', 'youth', 'identified', 'sustained', 'burns', 'cooking', 'house', 'shifted', 'hospital', 'police']\n"
          ],
          "name": "stdout"
        }
      ]
    },
    {
      "cell_type": "code",
      "metadata": {
        "id": "Nc3-tVIsg86B",
        "colab_type": "code",
        "outputId": "eb3e2f6e-6aae-46ae-b849-f0310ec46582",
        "colab": {
          "base_uri": "https://localhost:8080/",
          "height": 92
        }
      },
      "source": [
        "from nltk.tokenize.treebank import TreebankWordDetokenizer\n",
        "preprocessed_news= [ TreebankWordDetokenizer().detokenize(i) for i in tagged_news]\n",
        "print(preprocessed_news[0:3])\n",
        "from nltk.tokenize.treebank import TreebankWordDetokenizer\n",
        "preprocessed_news_test= [ TreebankWordDetokenizer().detokenize(i) for i in tagged_news_test]\n",
        "print(len(preprocessed_news))\n",
        "print(len(preprocessed_news_test))\n"
      ],
      "execution_count": 0,
      "outputs": [
        {
          "output_type": "stream",
          "text": [
            "['describing join knowledge kiss recently advising invest building set received conferred conferred kiss', 'Bridging show reconstruct ravaged lost talking reveals Drape shawl sound stands earn means close worked working exposed chicken work voluntarily centre works assist develop giving required intends bridge visited', 'expecting failed deliver doled Moreover contend held made demanding sensing laid asked doubling acknowledging give performing Laggards sensed poised grow wanted treated prepared face reiterating customs brought gulp appeared protesting bringing level urged faced continue welcomed desperately indirectly benefit asked enhancing revive oriented intensify reform regretted lecture']\n",
            "3430\n",
            "687\n"
          ],
          "name": "stdout"
        }
      ]
    },
    {
      "cell_type": "markdown",
      "metadata": {
        "id": "H83B1-jbg86F",
        "colab_type": "text"
      },
      "source": [
        "# Feature extraction"
      ]
    },
    {
      "cell_type": "markdown",
      "metadata": {
        "id": "PDpHU5Dmg86G",
        "colab_type": "text"
      },
      "source": [
        "### Bag of Words : TF-IDF"
      ]
    },
    {
      "cell_type": "code",
      "metadata": {
        "id": "cUj4aor6g86H",
        "colab_type": "code",
        "colab": {}
      },
      "source": [
        "from sklearn.feature_extraction.text import CountVectorizer, TfidfVectorizer\n",
        "from nltk.stem.snowball import SnowballStemmer\n",
        "from nltk.stem import PorterStemmer\n",
        "from nltk.stem import LancasterStemmer"
      ],
      "execution_count": 0,
      "outputs": []
    },
    {
      "cell_type": "code",
      "metadata": {
        "id": "obSa1Vylg86M",
        "colab_type": "code",
        "colab": {}
      },
      "source": [
        "stemmer = SnowballStemmer('english', ignore_stopwords=False)\n",
        "\n",
        "class StemmedTfidfVectorizer(TfidfVectorizer):\n",
        "    \n",
        "    def __init__(self, stemmer, *args, **kwargs):\n",
        "        super(StemmedTfidfVectorizer, self).__init__(*args, **kwargs)\n",
        "        self.stemmer = stemmer\n",
        "        \n",
        "    def build_analyzer(self):\n",
        "        analyzer = super(StemmedTfidfVectorizer, self).build_analyzer()\n",
        "        return lambda doc: (self.stemmer.stem(word) for word in analyzer(doc.replace('\\n', ' ')))"
      ],
      "execution_count": 0,
      "outputs": []
    },
    {
      "cell_type": "code",
      "metadata": {
        "id": "vXi4cN0vg86P",
        "colab_type": "code",
        "outputId": "50e304fd-2118-453d-c462-843ab6e0a2d2",
        "colab": {
          "base_uri": "https://localhost:8080/",
          "height": 74
        }
      },
      "source": [
        "#stemming and unigram\n",
        "vectorizer_stem_u = StemmedTfidfVectorizer(stemmer=stemmer, sublinear_tf=True)\n",
        "X_train_stem_u = vectorizer_stem_u.fit_transform(preprocessed_news)\n",
        "print(X_train_stem_u.shape)\n",
        "\n",
        "tf1 = vectorizer_stem_u.get_feature_names()\n",
        "print (tf1[0:200])"
      ],
      "execution_count": 0,
      "outputs": [
        {
          "output_type": "stream",
          "text": [
            "(3430, 5432)\n",
            "['__', 'aback', 'abandon', 'abat', 'abbrevi', 'abdic', 'abdomen', 'abduct', 'abet', 'abid', 'abl', 'ablaz', 'abnorm', 'abolish', 'abort', 'abound', 'abreast', 'abroad', 'abrog', 'abrupt', 'abscond', 'absent', 'absolut', 'absolv', 'absond', 'absorb', 'abstain', 'abund', 'abus', 'abut', 'abysm', 'academ', 'acced', 'acceler', 'accent', 'accentu', 'accept', 'accepteth', 'access', 'accessori', 'accid', 'accident', 'acclaim', 'acclimatis', 'accommod', 'accompani', 'accomplish', 'accord', 'accost', 'account', 'accredit', 'accru', 'accumul', 'accur', 'accus', 'accustom', 'ach', 'acheiv', 'achiev', 'acid', 'acknowledg', 'acquaint', 'acquir', 'acquit', 'acr', 'act', 'activ', 'activist', 'actor', 'actress', 'acut', 'ad', 'adam', 'adapt', 'add', 'addict', 'addit', 'address', 'adept', 'adequ', 'adher', 'adjac', 'adjoin', 'adjourn', 'adjud', 'adjudg', 'adjust', 'administ', 'administr', 'admir', 'admiss', 'admit', 'admonish', 'adopt', 'ador', 'adorn', 'adulter', 'advanc', 'advent', 'advers', 'advertis', 'advic', 'advis', 'advisor', 'advoc', 'affect', 'affection', 'affidavit', 'affili', 'affirm', 'affix', 'afflict', 'afford', 'afield', 'afir', 'afoot', 'afresh', 'age', 'agenda', 'aggrav', 'aggreg', 'aggress', 'aggriev', 'aghast', 'agit', 'aglow', 'ago', 'agonis', 'agre', 'agricultur', 'agriculturist', 'agro', 'ahead', 'ai', 'aid', 'ail', 'ailment', 'aim', 'aimless', 'air', 'aircraft', 'airport', 'akimbo', 'alarm', 'alcohol', 'alert', 'alga', 'alia', 'alien', 'alight', 'align', 'alik', 'aliv', 'alleg', 'allevi', 'alli', 'allianc', 'alloc', 'allot', 'allow', 'allud', 'allur', 'alongsid', 'aloud', 'alter', 'altern', 'alto', 'altogeth', 'aluminium', 'alumni', 'alumnus', 'alway', 'amalgam', 'amass', 'amaz', 'ambassador', 'amber', 'ambul', 'amen', 'amend', 'amic', 'amidst', 'amiss', 'ammo', 'ammonium', 'amount', 'ampli', 'amput', 'amus', 'analys', 'anandav', 'anandiben', 'anchor', 'anger', 'angina', 'angl', 'angr', 'angrau', 'anguish', 'anim']\n"
          ],
          "name": "stdout"
        }
      ]
    },
    {
      "cell_type": "code",
      "metadata": {
        "id": "r3JDCKOtg86U",
        "colab_type": "code",
        "outputId": "45eea166-4b72-49d4-e2de-08c7fb8df5cd",
        "colab": {
          "base_uri": "https://localhost:8080/",
          "height": 35
        }
      },
      "source": [
        "X_train_stem_u_test = vectorizer_stem_u.transform(preprocessed_news_test)\n",
        "print(X_train_stem_u_test.shape)"
      ],
      "execution_count": 0,
      "outputs": [
        {
          "output_type": "stream",
          "text": [
            "(687, 5432)\n"
          ],
          "name": "stdout"
        }
      ]
    },
    {
      "cell_type": "code",
      "metadata": {
        "id": "WLtXx7KBg86Y",
        "colab_type": "code",
        "outputId": "ee78b93f-f58c-4a00-928f-e439e6d8001e",
        "colab": {
          "base_uri": "https://localhost:8080/",
          "height": 74
        }
      },
      "source": [
        "##stemming and bigrams\n",
        "vectorizer_stem_b = StemmedTfidfVectorizer(stemmer=stemmer, ngram_range=(1,2), sublinear_tf=True)\n",
        "X_train_stem_b = vectorizer_stem_b.fit_transform(preprocessed_news)\n",
        "print(X_train_stem_b.shape)\n",
        "tf2 = vectorizer_stem_b.get_feature_names()\n",
        "print (tf2[0:200])"
      ],
      "execution_count": 0,
      "outputs": [
        {
          "output_type": "stream",
          "text": [
            "(3430, 90873)\n",
            "['__', '__ __', '__ accomplish', '__ develop', '__ dress', '__ let', '__ outliv', '__ rais', '__ report', '__ sever', '__ take', 'aback', 'aback hit', 'abandon', 'abandon issu', 'abandon recov', 'abandon sel', 'abandon set', 'abandon tak', 'abandon ultim', 'abandoned abandon', 'abandoned ad', 'abandoned appear', 'abandoned build', 'abandoned dump', 'abandoned escap', 'abandoned examin', 'abandoned fil', 'abandoned inspect', 'abandoned kadookkoop', 'abandoned ref', 'abandoned remain', 'abandoned shock', 'abandoned slight', 'abandoned start', 'abandoned suspect', 'abandoned yield', 'abandoning criticis', 'abandoning deposit', 'abandoning presid', 'abandoning stand', 'abandoning view', 'abandoning vow', 'abat', 'abated signific', 'abating record', 'abbrevi', 'abbreviated stem', 'abdic', 'abdicate pass', 'abdomen', 'abdomen show', 'abduct', 'abducted accus', 'abducted convey', 'abducted forc', 'abducted hit', 'abducted interf', 'abducted sleep', 'abducted stop', 'abducting hint', 'abducting p', 'abducting rescu', 'abet', 'abetted cal', 'abetting deliber', 'abid', 'abide disput', 'abide expect', 'abide fail', 'abide funct', 'abide laid', 'abide refus', 'abide signific', 'abiding app', 'abiding fix', 'abiding uphold', 'abl', 'ablaz', 'ablaze di', 'ablaze park', 'ablaze resort', 'abled visu', 'abnorm', 'abnormally increas', 'abolish', 'abolish ad', 'abolish held', 'abolish seek', 'abolish sign', 'abolish utilis', 'abolished abolish', 'abolished crippl', 'abolished cun', 'abolished demand', 'abolished depos', 'abolished herald', 'abolished maintain', 'abolished reintroduc', 'abolished widen', 'abolished work', 'abolishing draw', 'abolishing fil', 'abolishing promis', 'abolishing restructr', 'abolishing set', 'abort', 'abort direct', 'aborted prev', 'aborted prevail', 'aborted resid', 'abound', 'abound nearbi', 'abounding not', 'abreast', 'abreast teach', 'abroad', 'abroad abroad', 'abroad accus', 'abroad add', 'abroad address', 'abroad award', 'abroad belong', 'abroad book', 'abroad car', 'abroad clos', 'abroad combin', 'abroad concern', 'abroad confirm', 'abroad demonstr', 'abroad diversifi', 'abroad dress', 'abroad earli', 'abroad elect', 'abroad escap', 'abroad evinc', 'abroad find', 'abroad glob', 'abroad held', 'abroad hold', 'abroad honest', 'abroad laugh', 'abroad mak', 'abroad meanwhil', 'abroad off', 'abroad organis', 'abroad pos', 'abroad put', 'abroad rec', 'abroad rel', 'abroad return', 'abroad sl', 'abroad speak', 'abroad stand', 'abroad start', 'abroad studi', 'abroad tamp', 'abrog', 'abrogated claim', 'abrogated collect', 'abrupt', 'abruptly caught', 'abruptly clos', 'abruptly cut', 'abruptly end', 'abruptly fight', 'abscond', 'absconded regist', 'absconding accus', 'absconding ad', 'absconding arrest', 'absconding find', 'absconding inform', 'absconding investig', 'absconding nam', 'absconding rec', 'absconding report', 'absconding st', 'absconding visit', 'absent', 'absent support', 'absolut', 'absolutely absolut', 'absolutely ad', 'absolutely appear', 'absolutely attribut', 'absolutely complet', 'absolutely fulfil', 'absolutely heavili', 'absolutely r', 'absolutely remain', 'absolutely rememb', 'absolutely start', 'absolutely steadfast', 'absolutely striv', 'absolutely unleash', 'absolutely wear', 'absolv', 'absolve accus', 'absolve inherit']\n"
          ],
          "name": "stdout"
        }
      ]
    },
    {
      "cell_type": "code",
      "metadata": {
        "id": "_Iep1QKjg86d",
        "colab_type": "code",
        "outputId": "33b8d392-91eb-4b7d-b1a8-386c40355265",
        "colab": {
          "base_uri": "https://localhost:8080/",
          "height": 35
        }
      },
      "source": [
        "X_train_stem_b_test = vectorizer_stem_b.transform(preprocessed_news_test)\n",
        "print(X_train_stem_b_test.shape)"
      ],
      "execution_count": 0,
      "outputs": [
        {
          "output_type": "stream",
          "text": [
            "(687, 90873)\n"
          ],
          "name": "stdout"
        }
      ]
    },
    {
      "cell_type": "markdown",
      "metadata": {
        "id": "dwxS0mC1g86n",
        "colab_type": "text"
      },
      "source": [
        "# CLASSIFIER"
      ]
    },
    {
      "cell_type": "markdown",
      "metadata": {
        "id": "9fqa1jHCg86-",
        "colab_type": "text"
      },
      "source": [
        "### Naives Bayes Classifier"
      ]
    },
    {
      "cell_type": "markdown",
      "metadata": {
        "id": "uCmEDuveg86_",
        "colab_type": "text"
      },
      "source": [
        "#### Test set = 20% training set"
      ]
    },
    {
      "cell_type": "code",
      "metadata": {
        "id": "__xS5Xiwg87A",
        "colab_type": "code",
        "outputId": "216c1fea-3caf-4896-dd7e-3f1b8ec56352",
        "colab": {
          "base_uri": "https://localhost:8080/",
          "height": 72
        }
      },
      "source": [
        "#testing on splitted training set\n",
        "from sklearn.model_selection import train_test_split  \n",
        "from sklearn.naive_bayes import GaussianNB\n",
        "\n",
        "X_train, X_test, y_train, y_test = train_test_split(X_train_stem_b, labels, test_size=0.2, random_state=0)  \n",
        "# fit the training dataset on the NB classifier\n",
        "Naive = naive_bayes.GaussianNB()\n",
        "Naive.partial_fit(X_train.toarray(),y_train, classes=[0,1])\n",
        "print(Naive)\n",
        "# predict the labels on validation dataset\n",
        "predict_NB = Naive.predict(X_test.toarray())\n",
        "# Use accuracy_score function to get the accuracy\n",
        "print(\"Naive Bayes Accuracy Score -> \",accuracy_score(predict_NB, y_test)*100)\n",
        "\n",
        "from sklearn.metrics import f1_score\n",
        "score = f1_score(predict_NB , y_test)\n",
        "\n",
        "# print\n",
        "print (score)"
      ],
      "execution_count": 0,
      "outputs": [
        {
          "output_type": "stream",
          "text": [
            "GaussianNB(priors=None, var_smoothing=1e-09)\n",
            "Naive Bayes Accuracy Score ->  79.44606413994168\n",
            "0.41975308641975306\n"
          ],
          "name": "stdout"
        }
      ]
    },
    {
      "cell_type": "markdown",
      "metadata": {
        "id": "hDvZz42wg87F",
        "colab_type": "text"
      },
      "source": [
        "#### Test set = test_filled.json"
      ]
    },
    {
      "cell_type": "code",
      "metadata": {
        "id": "qvvAjfulg87G",
        "colab_type": "code",
        "outputId": "7cb7d5a3-b939-4d7e-b736-ae9502191001",
        "colab": {
          "base_uri": "https://localhost:8080/",
          "height": 403
        }
      },
      "source": [
        "# fit the training dataset on the NB classifier\n",
        "\n",
        "\n",
        "# fit the training dataset on the NB classi\n",
        "Naive = naive_bayes.GaussianNB()\n",
        "Naive.partial_fit(X_train_stem_b.toarray(),labels,classes=[0,1])\n",
        "print(Naive)\n",
        "# predict the labels on validation dataset\n",
        "predictions_NB = Naive.predict(X_train_stem_b_test.toarray())\n",
        "print (predictions_NB)"
      ],
      "execution_count": 0,
      "outputs": [
        {
          "output_type": "stream",
          "text": [
            "GaussianNB(priors=None, var_smoothing=1e-09)\n",
            "[0 0 0 0 0 0 0 0 0 0 0 0 0 0 0 0 0 0 1 0 0 0 0 0 0 0 0 0 0 1 0 0 0 0 0 0 0\n",
            " 1 0 0 1 0 0 0 0 1 0 0 0 0 0 1 0 0 0 0 0 0 0 0 1 0 0 0 1 0 1 0 0 1 1 0 0 0\n",
            " 0 0 0 0 0 0 0 0 0 0 0 0 0 0 0 0 0 0 0 0 0 1 0 1 0 1 0 0 0 0 0 0 1 0 0 0 0\n",
            " 1 0 1 0 0 0 0 0 0 0 0 1 1 0 0 0 0 0 0 0 0 0 0 0 0 0 0 1 0 0 0 0 0 0 0 0 1\n",
            " 0 0 0 0 0 0 0 0 0 0 0 0 1 1 0 0 0 0 0 1 1 1 0 1 1 0 1 0 0 0 0 0 1 0 0 0 1\n",
            " 0 0 1 1 0 1 0 0 0 0 0 0 1 0 0 0 0 0 0 0 0 0 0 0 0 0 0 1 0 0 0 0 1 0 1 0 0\n",
            " 0 0 0 0 0 0 0 0 0 1 0 0 0 1 0 0 0 0 0 0 1 0 0 1 0 1 0 0 0 0 0 0 0 0 0 0 1\n",
            " 0 0 0 0 0 0 0 0 0 0 1 0 0 0 0 0 0 1 0 0 0 0 1 0 1 0 0 0 0 0 0 0 0 0 1 0 0\n",
            " 0 0 1 0 0 0 0 0 0 0 0 1 1 0 0 0 0 1 0 0 0 0 0 0 1 0 0 1 0 0 0 0 0 0 0 0 0\n",
            " 0 0 0 0 0 0 0 1 0 0 0 0 0 0 0 1 0 0 0 0 0 0 0 0 0 0 0 0 1 0 0 0 0 0 0 0 1\n",
            " 0 0 0 1 0 0 0 0 0 0 0 0 0 1 0 0 0 0 0 0 0 0 0 0 0 0 1 1 0 0 0 0 0 0 0 0 0\n",
            " 0 1 1 0 0 0 1 0 0 0 0 0 0 0 0 0 0 1 0 0 0 0 0 0 0 0 0 1 1 0 0 0 0 0 0 0 0\n",
            " 0 1 1 1 0 0 0 0 0 0 0 0 0 0 0 0 1 0 0 0 0 0 0 1 1 0 0 0 1 0 0 0 0 0 0 1 0\n",
            " 0 0 0 0 0 0 0 0 0 1 0 0 1 0 0 0 1 1 0 1 1 0 0 0 0 1 0 1 1 0 0 0 0 0 1 0 0\n",
            " 0 0 0 0 0 1 0 0 0 0 0 0 0 0 0 0 0 0 0 1 0 0 0 0 0 1 0 0 0 0 0 0 0 1 1 0 0\n",
            " 0 0 1 0 1 0 0 0 0 0 0 0 1 0 0 1 0 0 0 1 1 0 0 0 0 0 1 0 0 0 0 1 0 0 1 0 1\n",
            " 0 1 0 0 0 0 0 0 0 0 0 0 0 0 0 0 1 0 0 0 0 0 0 0 0 0 1 0 0 0 0 0 0 0 0 0 1\n",
            " 0 0 0 1 0 0 0 0 0 0 0 0 0 0 1 0 0 0 1 0 0 0 1 0 0 0 1 0 0 0 0 0 0 0 0 0 0\n",
            " 0 0 0 1 0 0 1 1 0 0 1 0 0 1 0 0 0 0 0 0 0]\n"
          ],
          "name": "stdout"
        },
        {
          "output_type": "execute_result",
          "data": {
            "text/plain": [
              "'Naive = naive_bayes.MultinomialNB()\\nNaive.fit(X_train_stem_b,labels)\\nprint(Naive)\\n# predict the labels on validation dataset\\npredictions_NB = Naive.predict(X_train_stem_b_test)\\nprint (predictions_NB'"
            ]
          },
          "metadata": {
            "tags": []
          },
          "execution_count": 23
        }
      ]
    },
    {
      "cell_type": "markdown",
      "metadata": {
        "id": "xi_oKQuxg87I",
        "colab_type": "text"
      },
      "source": [
        "### SVM"
      ]
    },
    {
      "cell_type": "markdown",
      "metadata": {
        "id": "eGeNBGyWg87J",
        "colab_type": "text"
      },
      "source": [
        "#### Test set = 20% training set"
      ]
    },
    {
      "cell_type": "code",
      "metadata": {
        "id": "FiyGYlHWg87K",
        "colab_type": "code",
        "outputId": "3a372991-a000-464d-b198-3f514e9f0544",
        "colab": {
          "base_uri": "https://localhost:8080/",
          "height": 54
        }
      },
      "source": [
        "#testing on splitted training set\n",
        "from sklearn.model_selection import train_test_split  \n",
        "X_train, X_test, y_train, y_test = train_test_split(X_train_stem_b, labels, test_size=0.2, random_state=0) \n",
        "# fit the training dataset on the classifier\n",
        "SVM = svm.SVC(C=1.0, kernel='linear', degree=3, gamma='auto')\n",
        "SVM.fit(X_train,y_train)\n",
        "# predict the labels on validation dataset\n",
        "predictions_SVM = SVM.predict(X_test)\n",
        "# Use accuracy_score function to get the accuracy\n",
        "print(\"SVM Accuracy Score -> \",accuracy_score(predictions_SVM, y_test)*100)\n",
        "\n",
        "from sklearn.metrics import f1_score\n",
        "score = f1_score(predictions_SVM , y_test)\n",
        "\n",
        "# print\n",
        "print (score)"
      ],
      "execution_count": 0,
      "outputs": [
        {
          "output_type": "stream",
          "text": [
            "SVM Accuracy Score ->  86.58892128279884\n",
            "0.5779816513761468\n"
          ],
          "name": "stdout"
        }
      ]
    },
    {
      "cell_type": "code",
      "metadata": {
        "id": "dC-PLU0Sg87O",
        "colab_type": "code",
        "outputId": "b3f9ff2f-a5cf-4e3f-a4c7-eb615086a67f",
        "colab": {
          "base_uri": "https://localhost:8080/",
          "height": 33
        }
      },
      "source": [
        "print(len(predictions_SVM))"
      ],
      "execution_count": 0,
      "outputs": [
        {
          "output_type": "stream",
          "text": [
            "686\n"
          ],
          "name": "stdout"
        }
      ]
    },
    {
      "cell_type": "markdown",
      "metadata": {
        "id": "JTEQ-F3ag87R",
        "colab_type": "text"
      },
      "source": [
        "#### Test set = test_filled.json"
      ]
    },
    {
      "cell_type": "code",
      "metadata": {
        "id": "aiqrMZHpg87S",
        "colab_type": "code",
        "outputId": "135074b9-7dca-411c-e0ff-b915d53f15bf",
        "colab": {
          "base_uri": "https://localhost:8080/",
          "height": 35
        }
      },
      "source": [
        "# Classifier - Algorithm - SVM\n",
        "# fit the training dataset on the classifier\n",
        "SVM = svm.SVC(C=1.0, kernel='linear', degree=3, gamma='auto')\n",
        "SVM.fit(X_train_stem_b,labels)\n",
        "# predict the labels on validation dataset\n",
        "predictions_SVM = SVM.predict(X_train_stem_b_test)\n",
        "print (len(predictions_SVM))"
      ],
      "execution_count": 0,
      "outputs": [
        {
          "output_type": "stream",
          "text": [
            "687\n"
          ],
          "name": "stdout"
        }
      ]
    },
    {
      "cell_type": "code",
      "metadata": {
        "id": "FCTPPbZag87X",
        "colab_type": "code",
        "outputId": "b4410c2d-1f88-45da-bf3d-5612d93f9900",
        "colab": {
          "base_uri": "https://localhost:8080/",
          "height": 326
        }
      },
      "source": [
        "print (predictions_SVM)"
      ],
      "execution_count": 0,
      "outputs": [
        {
          "output_type": "stream",
          "text": [
            "[0 0 1 1 0 0 0 0 1 0 0 0 0 0 0 0 0 0 1 0 0 0 0 0 1 0 1 0 0 0 0 0 0 0 0 0 0\n",
            " 0 0 0 1 0 0 0 1 0 0 0 1 0 0 1 0 0 0 1 0 0 0 0 0 0 0 0 1 0 0 0 0 1 1 1 0 0\n",
            " 0 0 0 0 0 0 0 0 0 1 0 0 0 0 0 0 0 0 1 1 0 0 1 1 1 1 0 0 0 0 0 1 0 0 0 0 0\n",
            " 1 0 1 0 0 0 0 1 1 0 0 1 0 0 0 0 0 0 0 0 0 0 0 1 0 0 0 1 0 1 0 0 0 0 1 0 0\n",
            " 0 0 0 0 1 0 0 0 0 0 1 1 1 1 0 0 0 0 0 0 1 1 0 1 0 0 0 0 0 0 0 0 0 0 0 0 0\n",
            " 1 0 1 0 0 0 0 0 1 1 0 0 1 0 0 0 0 0 0 0 0 0 1 0 0 0 0 0 0 0 0 1 0 1 0 0 0\n",
            " 0 1 0 1 1 0 0 0 0 0 0 0 0 1 0 0 0 0 0 0 0 0 0 1 0 0 1 0 0 0 0 0 0 0 0 0 0\n",
            " 0 0 0 0 0 0 0 0 1 0 1 0 0 1 0 0 0 1 0 0 0 0 1 0 0 0 1 0 0 0 0 0 0 1 1 1 0\n",
            " 0 0 1 1 0 0 0 0 1 0 1 1 1 1 1 0 0 0 0 0 0 0 0 1 0 0 0 1 0 0 1 0 0 1 0 0 0\n",
            " 0 0 0 0 0 0 0 1 0 0 0 0 1 0 0 0 0 0 0 0 0 0 0 1 0 0 0 0 1 0 0 0 0 0 1 1 0\n",
            " 0 0 0 1 0 0 0 1 0 0 0 0 1 0 1 0 0 0 0 0 0 1 0 0 0 0 0 0 0 0 0 0 0 1 0 0 0\n",
            " 0 0 0 0 0 1 0 0 0 0 0 0 0 0 0 0 0 0 0 0 0 1 0 0 0 0 0 1 0 0 0 0 1 0 1 0 1\n",
            " 0 1 1 1 0 0 0 0 0 0 1 0 0 0 0 0 0 0 0 0 0 0 0 0 1 0 0 0 0 0 0 0 0 0 0 0 1\n",
            " 0 1 0 0 0 1 0 0 0 0 0 0 0 0 0 0 0 1 0 0 0 0 1 0 1 1 0 0 0 0 1 0 0 1 1 0 0\n",
            " 0 1 0 1 1 0 0 0 0 0 0 0 0 0 0 0 0 0 1 1 0 0 0 0 0 0 0 0 0 1 0 0 0 1 1 1 1\n",
            " 0 0 1 0 1 0 0 0 0 0 1 0 1 1 0 1 0 0 0 1 1 0 0 0 0 1 0 0 0 0 0 1 1 0 1 0 1\n",
            " 1 1 0 0 0 1 1 0 0 0 0 0 0 0 0 0 0 1 0 0 0 0 0 0 0 0 1 1 0 0 0 0 1 0 0 0 1\n",
            " 0 0 1 1 0 0 0 0 0 0 0 0 0 0 1 0 0 0 1 0 0 0 1 1 1 0 1 1 1 0 0 0 0 0 0 0 0\n",
            " 0 0 0 0 0 0 1 0 1 0 0 0 0 1 0 0 0 0 1 0 0]\n"
          ],
          "name": "stdout"
        }
      ]
    },
    {
      "cell_type": "code",
      "metadata": {
        "id": "zFud8JKYg87b",
        "colab_type": "code",
        "colab": {}
      },
      "source": [
        "nb_protest_SVM=sum([1 for x in predictions_SVM if x ==1])\n",
        "print(nb_protest_SVM)\n",
        "p = pd.DataFrame(\n",
        "    {'new': tagged_news_test,\n",
        "     'label': predictions_SVM\n",
        "    })\n",
        "pd.options.display.max_colwidth =5000\n",
        "from IPython.core.display import HTML\n",
        "display(HTML(p.to_html()))"
      ],
      "execution_count": 0,
      "outputs": []
    },
    {
      "cell_type": "markdown",
      "metadata": {
        "id": "SepSG4HHg87r",
        "colab_type": "text"
      },
      "source": [
        "### Random Forest"
      ]
    },
    {
      "cell_type": "markdown",
      "metadata": {
        "id": "1x0P5lcXg87s",
        "colab_type": "text"
      },
      "source": [
        "#### Test set  = 20% training set"
      ]
    },
    {
      "cell_type": "code",
      "metadata": {
        "id": "JqOwTIb8g87t",
        "colab_type": "code",
        "colab": {}
      },
      "source": [
        "#testing on splitted training set\n",
        "from sklearn.model_selection import train_test_split  \n",
        "X_train, X_test, y_train, y_test = train_test_split(X_train_stem_b, labels, test_size=0.2, random_state=0) \n",
        "from sklearn.ensemble import RandomForestClassifier\n",
        "classifier = RandomForestClassifier(n_estimators=1000, random_state=0)  \n",
        "classifier.fit(X_train,y_train)\n",
        "predictions_RF= classifier.predict(X_test)  \n"
      ],
      "execution_count": 0,
      "outputs": []
    },
    {
      "cell_type": "code",
      "metadata": {
        "id": "Z4YBSHBvg87u",
        "colab_type": "code",
        "outputId": "52ff177e-5531-48a7-ee2e-22ce33b2450a",
        "colab": {
          "base_uri": "https://localhost:8080/",
          "height": 90
        }
      },
      "source": [
        "from sklearn.metrics import classification_report, confusion_matrix, accuracy_score\n",
        "print(confusion_matrix(predictions_RF,y_test))   \n",
        "print(accuracy_score(predictions_RF,y_test))\n",
        "from sklearn.metrics import f1_score\n",
        "score = f1_score(predictions_RF, y_test)\n",
        "\n",
        "# print\n",
        "print (score)"
      ],
      "execution_count": 0,
      "outputs": [
        {
          "output_type": "stream",
          "text": [
            "[[548 111]\n",
            " [  5  22]]\n",
            "0.8309037900874635\n",
            "0.275\n"
          ],
          "name": "stdout"
        }
      ]
    },
    {
      "cell_type": "markdown",
      "metadata": {
        "id": "Tn5OCJ9Dg87w",
        "colab_type": "text"
      },
      "source": [
        "#### Test set = test_filled.json"
      ]
    },
    {
      "cell_type": "code",
      "metadata": {
        "id": "8A_WeiWYg87x",
        "colab_type": "code",
        "colab": {}
      },
      "source": [
        "from sklearn.ensemble import RandomForestClassifier\n",
        "classifier = RandomForestClassifier(n_estimators=1000, random_state=0)  \n",
        "classifier.fit(X_train_stem_b,labels)\n",
        "predictions_RF= classifier.predict(X_train_stem_b_test)  "
      ],
      "execution_count": 0,
      "outputs": []
    },
    {
      "cell_type": "code",
      "metadata": {
        "id": "hqLIfDYAg87z",
        "colab_type": "code",
        "outputId": "eaac38f3-1ed1-46bd-8469-33073da871c5",
        "colab": {
          "base_uri": "https://localhost:8080/",
          "height": 384
        }
      },
      "source": [
        "nb_protest_RF=sum([1 for x in predictions_RF if x ==1])\n",
        "print(nb_protest_RF)\n",
        "print(predictions_RF)"
      ],
      "execution_count": 0,
      "outputs": [
        {
          "output_type": "stream",
          "text": [
            "47\n",
            "[0 0 0 0 0 0 0 0 0 0 0 0 0 0 0 0 0 0 1 0 0 0 0 0 0 0 0 0 0 0 0 0 0 0 0 0 0\n",
            " 0 0 0 1 0 0 0 1 0 0 0 0 0 0 0 0 0 0 1 0 0 0 0 0 0 0 0 0 0 0 0 0 1 1 1 0 0\n",
            " 0 0 0 0 0 0 0 0 0 0 0 0 0 0 0 0 0 0 0 0 0 0 0 1 0 1 0 0 0 0 0 0 0 0 0 0 0\n",
            " 0 0 0 0 0 0 0 1 0 0 0 1 0 0 0 0 0 0 0 0 0 0 0 0 0 0 0 0 0 0 0 0 0 0 0 0 0\n",
            " 0 0 0 0 1 0 0 0 0 0 1 0 0 0 0 0 0 0 0 0 1 0 0 0 0 0 0 0 0 0 0 0 0 0 0 0 0\n",
            " 0 0 0 0 0 0 0 0 1 0 0 0 1 0 0 0 0 0 0 0 0 0 0 0 0 0 0 0 0 0 0 0 0 0 0 0 0\n",
            " 0 0 0 0 0 0 0 0 0 0 0 0 0 1 0 0 0 0 0 0 0 0 0 0 0 0 0 0 0 0 0 0 0 0 0 0 0\n",
            " 0 0 0 0 0 0 0 0 0 0 0 0 0 0 0 0 0 1 0 0 0 0 0 0 0 0 0 0 0 0 0 0 0 0 0 0 0\n",
            " 0 0 0 0 0 0 0 0 1 0 0 0 1 0 0 0 0 0 0 0 0 0 0 1 0 0 0 0 0 0 1 0 0 0 0 0 0\n",
            " 0 0 0 0 0 0 0 0 0 0 0 0 0 0 0 0 0 0 0 0 0 0 0 0 0 0 0 1 1 0 0 0 0 0 0 0 0\n",
            " 0 0 0 1 0 0 0 0 0 0 0 0 0 0 0 0 0 0 0 0 0 0 0 0 0 0 0 0 0 0 0 0 0 1 0 0 0\n",
            " 0 0 0 0 0 0 0 0 0 0 0 0 0 0 0 0 0 1 0 0 0 0 0 0 0 0 0 1 0 0 0 0 0 0 1 0 0\n",
            " 0 0 1 1 0 0 0 0 0 0 1 0 0 0 0 0 0 0 0 0 0 0 0 0 0 0 0 0 0 0 0 0 0 0 0 0 0\n",
            " 0 0 0 0 0 0 0 0 0 0 0 0 0 0 0 0 0 0 0 0 0 0 1 0 0 0 0 0 0 0 0 0 0 1 0 0 0\n",
            " 0 1 0 0 0 0 0 0 0 0 0 0 0 0 0 0 0 0 0 1 0 0 0 0 0 0 0 0 0 0 0 0 0 0 1 0 0\n",
            " 0 0 1 0 0 0 0 0 0 0 0 0 0 0 0 0 0 0 0 0 0 0 0 0 0 1 0 0 0 0 0 0 0 0 1 0 1\n",
            " 0 0 0 0 0 0 0 0 0 0 0 0 0 0 0 0 0 0 0 0 0 0 0 0 0 0 0 0 0 0 0 0 0 0 0 0 0\n",
            " 0 0 0 1 0 0 0 0 0 0 0 0 0 0 1 0 0 0 1 0 0 0 0 1 0 0 1 0 0 0 0 0 0 0 0 0 0\n",
            " 0 0 0 0 0 0 0 0 1 0 0 0 0 0 0 0 0 0 0 0 0]\n"
          ],
          "name": "stdout"
        }
      ]
    },
    {
      "cell_type": "markdown",
      "metadata": {
        "id": "u29OV66Og871",
        "colab_type": "text"
      },
      "source": [
        "## Random Forest vs SVM"
      ]
    },
    {
      "cell_type": "code",
      "metadata": {
        "id": "UfYPopp7g872",
        "colab_type": "code",
        "outputId": "c84b2636-2cd5-49c9-b3ff-c7ba823d1629",
        "colab": {
          "base_uri": "https://localhost:8080/",
          "height": 1000
        }
      },
      "source": [
        "  import pandas as pd\n",
        "  df = pd.DataFrame({'Random Forest': [], 'SVM': [], 'news': []})\n",
        "\n",
        "\n",
        "for i, (a, b,c) in enumerate(zip(predictions_RF,\n",
        " predictions_SVM,news_test)):    \n",
        "    if a!=b:\n",
        "        df = df.append({'Random Forest': a, 'SVM': b, 'news': c}, ignore_index=True)\n",
        "print (df.shape)        \n",
        "pd.options.display.max_colwidth =5000\n",
        "from IPython.core.display import HTML\n",
        "display(HTML(df.to_html()))"
      ],
      "execution_count": 0,
      "outputs": [
        {
          "output_type": "stream",
          "text": [
            "(101, 3)\n"
          ],
          "name": "stdout"
        },
        {
          "output_type": "display_data",
          "data": {
            "text/html": [
              "<table border=\"1\" class=\"dataframe\">\n",
              "  <thead>\n",
              "    <tr style=\"text-align: right;\">\n",
              "      <th></th>\n",
              "      <th>Random Forest</th>\n",
              "      <th>SVM</th>\n",
              "      <th>news</th>\n",
              "    </tr>\n",
              "  </thead>\n",
              "  <tbody>\n",
              "    <tr>\n",
              "      <th>0</th>\n",
              "      <td>0.0</td>\n",
              "      <td>1.0</td>\n",
              "      <td>Teachers strike disrupts studies | Ahmedabad News - Times of India\\nTNN | Sep 3, 2001, 23:55 IST\\nTeachers strike disrupts studies\\nTNN | Sep 3, 2001, 23:55 IST\\nahmedabad: how justified are the teachers in holding the entire education system to ransom for a vehicle allowance of rs 65?, asks a jagrut vali mandal hand-out that thousands of parents in city received on monday morning, hidden within folds of their newspapers. late it may be, but the hand-bill has come as a wake-up call to parents of secondary and higher secondary students who are on a forced vacation for one week, all thanks to the striking teachers and principals. almost 70 per cent of the schools were scheduled to conduct the first tests from monday but the same has been indefinitely postponed. \"come to think of it, the strike by teachers is highly unjustified. our children have already lost almost four months of education because of the earthquake, and now this strike. and to put it frankly, their demands are too petty to put education of 30 lakh students on hold,\" says an agitated parent of a class x student of firdaus amrut high school, cantonment. the government has already partially responded to the state-wide school bandh by issuing a gr ordering 100 per cent recruitment of teachers and also announcing vehicle allowance from january 1, 2001. the two were proclaimed as the main demands when the teachers had embarked on the indefinite strike. \"apparently now, they want to extract more by pressuring the government through the strike. but should our children suffer? of 365 days in the year, the teachers are entitled to leave of around 146 days. add to this, the 125 days that were lost in earthquake, the total working days come to around 94 days. do the teachers not have the moral responsibility to ensure that the students study at least 94 days?\" questions father of a class xi student of nr higher secondary school. here, while striking teachers and principals concede that there is no way they will resume teaching until all of their six-demands are met -- those include giving teachers vehicle allowance with effect from april 1, 1998, and other demands of administrative and financial implications -- they assured that each day of education lost due to the strike will be covered up. \"once the strike is called off, we will teach on sunday, public holidays and if need be even shorten the diwali vacation and ensure that the loss is covered up,\" assured president of the gujarat rajya shaikshanik sankalan samiti keshubahi patel. but just when the teachers will end the strike, no one knows. \"it is going to take long ... this is what our experience says,\" says patel. \"till then, we just kill time. when their issues get resolved, we will be forced to take these extra-classes on sundays and public holidays during diwali? and they teach us selflessness is class, what a sham,\" says a ssc board student.</td>\n",
              "    </tr>\n",
              "    <tr>\n",
              "      <th>1</th>\n",
              "      <td>0.0</td>\n",
              "      <td>1.0</td>\n",
              "      <td>Committee Drops Inspection at Mullaiperiyar Dam\\n2014-12-17 06:01:00\\nCUMBUM: The five-member sub-committee constituted by the Supreme Court-appointed supervisory panel cancelled the inspection of the Mullaiperiyar dam after Kerala forest officials allegedly asked the Tamil Nadu members of the panel to produce their identity cards and sign their register to visit the dam in Thekkady on Tuesday, a senior Tamil Nadu PWD officer has said.\\nThe sub-committee headed by Central Water Commission Executive Engineer Umberji Harish Girish, along with Tamil Nadu representatives — PWD Mullaiperiyar dam Executive Engineer A Madhavan, Assistant Executive Engineer A Soundaram--and Kerala Irrigation Department Executive Engineer George Daniel and Assistant Engineer N S Praseed, assembled at the boat jetty in Thekkady to visit the dam.\\n“But Kerala forest officials demanded to produce our identity cards and sign their register to board the boat,” the senior PWD officer said. However, refusing to sign the register, the TN representatives raised the issue with sub-committee head Umberji Harish Girish, who cancelled the inspection after informing Mullaiperiyar Committee Chairman LAV Nathan. The sub-committee was formed to monitor the increase in the water level in the dam to 142 feet, as well as the maintenance carried out by TN PWD engineers at the dam.\\nMeanwhile, the Kerala representatives  George Daniel and N S Praseed along with 15 engineers tried to visit the dam through the Vallakadavu route in the Periyar Tiger Reserve forest. “But we refused to allow them inside the dam, asking them to come along with all sub-committee members for the inspection,” said another PWD officer.\\nThe PWD officials also asked the Kerala police on security duty at the dam not to allow them inside. “Only after we warned the Kerala police that we would write to the government to take legal action against them did they send them back,” claimed the PWD officer.</td>\n",
              "    </tr>\n",
              "    <tr>\n",
              "      <th>2</th>\n",
              "      <td>0.0</td>\n",
              "      <td>1.0</td>\n",
              "      <td>Empty promises not welcome, say doctors | Bengaluru News - Times of India\\nTop Searches:\\nEmpty promises not welcome, say doctors\\nBANGALORE: While welcoming the chief minister's announcement in the Legislative Council announcing that talks would be held with the striking junior doctors, the president of the Karnataka State Junior Doctors Association Dr H.G. Vijayakumar has said that he expected hard decisions from the government and not just empty assurances.&lt;P&gt;\\nTHE TIMES OF INDIA NEWS SERVICE | Aug 1, 2001, 23:17 IST\\nbangalore: while welcoming the chief minister's announcement in the legislative council announcing that talks would be held with the striking junior doctors, the president of the karnataka state junior doctors association dr h.g. vijayakumar has said that he expected hard decisions from the government and not just empty assurances. ``we had talks with the chief minister on tuesday as well as with medical education minister nafees fazal but they were not willing to put anything on paper. a government order (go) on the residency scheme was passed a few years ago and has still be implemented. how can we go by plain verbal assurances?'' dr vijayakumar asked. meanwhile, on wednesday, the 10th day of the strike the junior doctors held talks with tourism minister roshan baig and also held a meeting with members of the academic council. earlier in the day the doctors burnt an effigy of secretary of medical education a.m. nayak at victoria hospital. the doctors conducted a parallel opd in the hospital where they examined over 200 patients. it may be recalled that the ksjda began their strike on july 23 demanding that the state government withdraw the essentially certificate and affiliation to new medical colleges. it also demanded that the post-graduate exams be held in accordance with the mci regulations and that a residency scheme be introduced.</td>\n",
              "    </tr>\n",
              "    <tr>\n",
              "      <th>3</th>\n",
              "      <td>0.0</td>\n",
              "      <td>1.0</td>\n",
              "      <td>Briefly Nation: Swine flu kills man in Bhopal - Indian Express\\n,   ,   ,   :  Fri Mar 30 2012, 00:32 hrs\\nBHOPAL: Anil Holey (37) died of swine flu at a private hospital here on Wednesday. He had been undergoing treatment for pneumonia since March 25.\\nSRINAGAR: The J&amp;K High Court has accepted the request of the families of three youths killed in Macchil fake encounter to be arrayed as interveners in the case.\\nAHMEDABAD: The Gujarat government has granted the 19th extension to Justices (Retired) Nanavati-Mehta Commission probing the 2002 Godhra train carnage and riots. Giving it three more months, the government asked the panel to submit its final report on December 31, 2012.\\nGovt gets more time to decide on Setu status\\nNEW DELHI: The Centre was on Thursday granted two weeks' time by the Supreme Court to decide whether the mythological Ram Setu could be declared a national monument. Additional Solicitor General Haren Raval submitted that consultation was needed on the issue with the competent authority and sought more time to file an affidavit on it. The next hearing is on April 19.</td>\n",
              "    </tr>\n",
              "    <tr>\n",
              "      <th>4</th>\n",
              "      <td>0.0</td>\n",
              "      <td>1.0</td>\n",
              "      <td>Kudremukh gets nod to go ahead with mining\\nTHE TIMES OF INDIA NEWS SERVICE | Jul 24, 2001, 22:48 IST\\nmangalore\\bangalore: the centre has granted kudremukh iron ore company limited (kiocl) a three-month temporary work permit to continue mining operations from wednesday. the letter was received by the kiocl bangalore office on tuesday. according to a senior official at the bangalore office, the order has also been sent by the centre to the state government and the same is being processed by forest minister k.h. ranganath and the department of mines and geology. the official expected the permit to come at any moment. the order states: ``the work permit has been extended for three months, pending the supreme court decision.'' a public interest litigation has been filed in the apex court by environmentalists against extending mining lease to the company. (kiocl) chairman and managing director s. murari wasn't available for comment. however, on monday, murari said the mining lease would automatically be renewed if nothing adverse is heard or till a direction from the government is issued. murari had claimed that according to the mines act, the old agreement would continue, unless the government decides otherwise. till late on tuesday night, the company had not got any communication from the government. walkout in assembly: meanwhile, five bjp members representing the coastal region, walked out of the assembly on tuesday demanding a statement from chief minister krishna on the mining lease. following media reports of a three-month extension granted by the government to the company, bjp members araga jnanendra and vishweshwar hegde kageri appealed to krishna during zero hour to clarify the state government's position. however, the cm did not respond, while mines and geology minister v. muniyappa said: ``the decision is in the centre's hands. we do not want to say anything till the public interest litigation filed in the supreme court is disposed of.'' unhappy with this, jnanendra, kageri, n. yogesh bhat, prabhakar bangera and s. angara walked out shouting anti-government slogans.</td>\n",
              "    </tr>\n",
              "    <tr>\n",
              "      <th>5</th>\n",
              "      <td>0.0</td>\n",
              "      <td>1.0</td>\n",
              "      <td>7 militants among 11 killed | Chandigarh News - Times of India\\nSep 28, 2001, 01:03 IST\\n7 militants among 11 killed\\nSep 28, 2001, 01:03 IST\\nsrinagar: seven militants and a security jawan were among eleven people killed and 17 others injured in jammu and kashmir, even as ultras set on fire houses of three special police officers (spos) in the past 24 hours. an official spokesman said militants hurled a hand grenade at a border security force bunker at rainawari on tuesday evening. however, the grenade missed the target and exploded nearby injuring two jawans and nine civilians. some nearby shops were also damaged, he added. at least four people were injured when a grenade lobbed by militants on security forces missed the target and exploded on the roadside at zaldagar in downtown city,thursday afternoon. meanwhile, security forces gunned down one militant each at thandusa lolab,waripora magam and gund-i-zuna reshi in their overnight operations. three ak rifles, one wireless set, ten magazines, three grenades and about 100 rounds of ammunition were recovered from the slain militants.two girls were also injured in lolab encounter. militants shot dead an alleged informer mir hamza at chatti bandipora late wednesday night. another group attacked the house of a counter-insurgent in north kashmir in which one spo was injured. in another encounter between militants and security forces at banderpora kalanwan village in south kashmir on thursday morning a hizbul mujahideen militant was killed. one ak rifle, one wireless set, five grenades and a magazine was recovered from the site. another militant was killed near the line of actual control in kani behak kacdh hama area while trying to cross over to pakistan occupied kashmir on wednesday night. two militants were killed in return fire by security forces at gambir mughian in manjakote sector of rajouri district on thursday morning when a search party was fired upon by militants.a security force jawan and a porter were also killed in the clash.a large cache of arms and ammunition were recovered near the site of encounter. militants also abducted and later killed mir mohammad at banihal, and set on fire houses of three spos at khadiwali in rajouri district in the wee hours of thursday. (uni)</td>\n",
              "    </tr>\n",
              "    <tr>\n",
              "      <th>6</th>\n",
              "      <td>0.0</td>\n",
              "      <td>1.0</td>\n",
              "      <td>Sanitary workers die in sewerage manhole at Jamnagar\\nTNN | Aug 6, 2001, 23:57 IST\\njamnagar: two municipal sanitation workers died after inhaling toxic gas in an underground drainage manhole at patel colony here on friday evening. the victims, mansukh chhanabhai kabira (24) and rajesh lalji kabira (35) along with ramesh ratilal were asked to clean the underground drainage at the locality. when they sensed the gas on suffering its adverse effect they tried to come out, but only ramesh ratilal could come out, the two died due to suffocation. however, their bodies could be taken out. but the harijan community was enraged on hearing the news and rushed to the spot and blamed the civic officials who ordered the workers to take up the task without any safety arrangement against poisonous gas. the irate crowd attacked the deputy engineer and damaged his jeep. they also attacked sanitation committee chairman chiman kankhara. he was taken to hospital. relatives of both the workers and community leaders insisted on speedy and immediate action on civic officials. they even refused to take the bodies. mla manharbhai zala and others assured them of action against responsible people and after midnight they took the bodies. the funeral in the morning was largely attended but peaceful. of course, civic body office-bearers and officials did not attend it fearing their safety apprehending they might be attacked by the angry mob. the kith and kin of both workers would be given compensation of rs. 1 lakh. their relatives would get job, too.</td>\n",
              "    </tr>\n",
              "    <tr>\n",
              "      <th>7</th>\n",
              "      <td>0.0</td>\n",
              "      <td>1.0</td>\n",
              "      <td>'Student leaders, political bosses told to behave'\\nTHE TIMES OF INDIA NEWS SERVICE | Jul 18, 2001, 02:28 IST\\ngandhinagar: the state government said on monday that it has communicated to student organisations in universities across the state and their political patrons that it will not hesitate to use force to quell violence . referring to the attacks on vice chancellors, deans and college principals, the minister of state for home haren pandya told reporters that it was only after the state government communicated to the senior leaders affiliated to \"a certain political party\" that the violence has stopped since last few days. \"they were told in plain words that the police would be compelled to use the force if the members of the students' wing continued to indulge in violence on the campus and in the vicinity of colleges.\" however, the minister did not agree to the statement made earlier by minister of state for higher education bharat barot that some \"bootleggers\" were involved in the attacks on the campus and at some colleges in ahmedabad. pandya made it clear that the police have found out that majority of the students leaders who were involved in the incidents have no connection with the college students and were out only to malign the bjp government. the minister said that the police did not interfere till the demonstrations were peaceful but had to enter the scene as some college principals were thrashed up by some miscreants. he asserted that the government would not tolerate violence any more, disclosing that adequate police force have been deployed in the campus to prevent recurrence of ugly incidents. earlier, while talking to reporters, education and information minister bharat barot had alleged that the violence was perpetrated by some bootleggers and the students should not be blamed. the law will take its own course, he added.</td>\n",
              "    </tr>\n",
              "    <tr>\n",
              "      <th>8</th>\n",
              "      <td>0.0</td>\n",
              "      <td>1.0</td>\n",
              "      <td>Top Searches:\\nCongress indulging in terror tactics, says TDP\\nTHE TIMES OF INDIA NEWS SERVICE | Jul 16, 2001, 01:27 IST\\nhyderabad: the telugu desam party (tdp) on sunday charged congress with unleashing a reign of terror and anarchy in a desperate bid to win the local body elections during the second phase of polling, in which three ruling party activists were killed. speaking to reporters at the party office, umareddy venkateshwarlu and alladi rajkumar, both mps, alleged that the congress leaders and cadre had resorted to booth capturing, rigging, manhandling of tdp workers and election agents in anantapur, cuddapah, nalgonda, prakasam, krishna and kurnool districts. in darsi mandal of prakasam district, congress leaders had attacked tdp workers with lethal weapons killing two people and injuring another, they claimed adding one more had been killed in gannavaram constituency of krishna district. the tdp leaders claimed that the congress party had formed two teams in the districts, one to exclusively complain to election and police authorities against the telugu desam and another to create anarchy in the polling booths. strongly condemning what they called \"demonic acts\" of congress, umareddy and rajkumar said that a lady contestant for mptc was dragged out of the polling station and confined in a house by the congress workers in dharmavaram constituency of anantapur district. in about five villages in cuddapah and in borla mandal of kurnool district, tdp agents were dragged out of the polling booths and not allowed to re-enter them again, they claimed adding that in pulivendula, the home town of dr.y.s.rajashekara reddy, leader of opposition, voters were chased out from the polling booths and elections rigged. the tdp claimed that in borla mandal kotla suryaprakash reddy, son of former chief minister kotla vijayabhaskara reddy, had attempted to take away the ballot boxes. in three mandals of nalgonda district, congress and cpi had hired goondas and captured booths in many places.</td>\n",
              "    </tr>\n",
              "    <tr>\n",
              "      <th>9</th>\n",
              "      <td>0.0</td>\n",
              "      <td>1.0</td>\n",
              "      <td>Payment seats decision back to MSU syndicate for rethink\\nTNN | Aug 7, 2001, 23:48 IST\\nvadodara: ms university authorities on tuesday decided to reconsider the payment seats decision, following a heated debate on the subject at msu senate meeting. the meeting was adjourned for the day with several senate members vociferously demanding that the scheme be revoked, and an alternative source of funding for accommodating more students be found. accordingly, a special syndicate meeting has been called at 11 am on wednesday to discuss the payment seats issue and work out a solution. later, the senate meeting will be organised at 2 pm and a final solution to the scheme arrived at. leading the anti-payments scheme lobby during the tuesday's senate meeting, narendra tiwari said the scheme was not fair on students as msu has an overall fund of rs 7.35 crore in various forms, such as the diamond and silver jubilee funds. he said the university has collected rs 50 lakh as development charge. \"all these can be used to overcome the current problem and the entire batch of students who have applied should be accommodated,\" he said. significantly several senate members who supported the payments scheme earlier were conspicuous by their absence in the meeting called on tuesday. those who were present felt that as the scheme seemed to have invited opposition from the public, a rethink should be considered. after the meeting was adjourned senate member cassim unia said, \"though a rethink is necessary, some sort of payments scheme would be necessary. without money, the msu cannot impart quality education to the large number of students. we have to think of an alternative. one of these could be increasing the over all fee structure of the entire university,\" he said. he said those who are opposing the payments scheme should give suggestions to resolve the matter. \"the use of the golden jubilee and other funds for accommodating more students is not a practical solution,\" he said. speaking during the meeting msu students' union general secretary bharat dangar said the university authorities had given agitating students the short shrift. the students had maintained utmost calm and patience during the agitation. he said the authorities had initiated police action against them and treated them as criminals. \"we did not in any way tarnish the image of the university. we merely expressed our opposition to the scheme and did not resort to any violence. but many of our students were mistreated by the police and there were more police in the campus than students during our agitation,\" he said. meanwhile, members of the all india democratic student's organisation and several other students organisations, including saket- the friends society, demonstrated outside the university office, requesting senate members to support their demand to scrap the payments scheme in the msu faculty of commerce. msu students' union vice-president parth joshi said they were happy that the payments scheme issue had been referred back to the syndicate. \"we appreciate the senate for backing us on this issue,\" he said.</td>\n",
              "    </tr>\n",
              "    <tr>\n",
              "      <th>10</th>\n",
              "      <td>0.0</td>\n",
              "      <td>1.0</td>\n",
              "      <td>City in for lots of dharnas, protests as session begins\\nTNN | Sep 14, 2001, 01:29 IST\\nhyderabad:with the assembly session beginning on thursday, the city will witness several dharnas, protest marches and 'chalo assembly' programmes in the next few days. at least three organisations took out massive rallies in support of their demands.all the programmes began from the sundaraiah park at bagh lingampally, causing much inconvenience to commuters and local residents. the progressive democratic democratic students (pdsu) took out the 'chalo assembly' rally from sundaraiah park to indira park, demanding, among other things, cancellation of fee for students of drought-hit areas and payment of scholarships. the pdsu leaders, who addressed the well-attended gathering, also demanded the central government to withdraw its plan to introduce astrology courses in the universities. they also demanded that the government impose checks on the activities of minority educational institutions. members of the nine left parties held a dharna at sundaraiah park at baghlingampally demanding that the government take protective measures to mitigate the sufferings of people affected due to the drought in the state. under the banner of bharateeya mazdoor sangh,hundreds of workers engaged in unorganised sector marched from sundaraiah park to indira park demanding better wages and provision for social security cover. the sangh leaders also wanted the government to provide pensionary and provident fund benefits. keeping in view the previous experiences of protestors marching towards the assembly and clashing with security forces, police had made elaborate arrangements.</td>\n",
              "    </tr>\n",
              "    <tr>\n",
              "      <th>11</th>\n",
              "      <td>0.0</td>\n",
              "      <td>1.0</td>\n",
              "      <td>80% polling in Vijayawada and Gudivada | Hyderabad News - Times of India\\nTNN | Aug 15, 2001, 00:18 IST\\n80% polling in Vijayawada and Gudivada\\nTNN | Aug 15, 2001, 00:18 IST\\nvijayawada: the first round of elections to the gram panchayats in vijayawada and gudivada revenue divisions in krishna district passed off peacefully on tuesday. about 80 per cent of votes were polled in both the divisions, official sources said. counting of votes was going on in all the panchayats except two when reports last came in. results were expected to be announced later to night. elections to the penuganchiprolu gram panchayat were put off following a row over the candidature of two candidates, as they had filed nominations from two wards. based on a report filed by the vijayawada sub-collector, the state election commission put off the election to august 20. voters queued up in large numbers braving rain since 7 am and by 12 noon the polling was completed in most of the villages, official sources said. in vijayawada division 216 sarpanches and 2086 ward members and in gudivada division 176 sarpanches and 1106 ward members are being elected on tuesday. election to the komallapudi gram panchayat in mandavalli mandal in gudivada division was stopped around 11.45 am following a row over the casting of vote by the presiding officer on behalf of a blind man. the contesting candidates are now demanding a repoll in the village but the officials have not yet announced a decision in this regard. similarly, counting of votes could not be taken up in mamidikolla village under gudlavalleru mandal in gudivada division as a demand for repolling was raised by some of the villagers. a group of villagers came to cast their vote around 1.10 pm and demanded that they be permitted to exercise their franchise. when the polling officials refused, they demanded a repoll. the polling officials have put off the counting. in kanuru village on the outskirts of vijayawada city, there was a minor altercation between the polling personnel and villagers forcing the police to intervene.</td>\n",
              "    </tr>\n",
              "    <tr>\n",
              "      <th>12</th>\n",
              "      <td>0.0</td>\n",
              "      <td>1.0</td>\n",
              "      <td>Patna:\\nMaoists blast power station in Bihar - NATIONAL - The Hindu\\nApril 09, 2013 00:00 IST\\nApril 09, 2013 07:11 IST\\nmore-in\\nPart of power sub-station in Naxal-dominated Jamui district\\nAs the 48-hour-bandh, which was called by the Maoists to protest against the killing of their 10 cadres in Jharkhand recently, drew to a close on Sunday night, Maoists wreaked havoc in various parts of Bihar. About a hundred Maoists blew up part of a power sub-station in Naxal-dominated Jamui district, affecting power supply in the area. “One room of the power station was blasted. The incident took place in the jurisdiction of the Khaira police station. A case under the Prevention of Damage to Public Property Act has been registered,” Jamui SP Deepak Barnwal told The Hindu .\\nMaoists also struck an Airtel mobile tower in Aurangabad district late on Sunday. Between 11 p.m. and 12 midnight, they set fire to the tower in the Kutumba police station area. Police operation along with the Central Reserve Police Force (CRPF) is still going on, Aurangabad SP Daljeet Singh told The Hindu .\\nIn Muzaffarpur district, about 25-30 Maoists attacked the premises of Saaj Infracon, a Patna-based company, and briefly took around 10-15 labourers hostage to make good their escape. The incident took place in the Sahebganj police station area between 12.30 and 1.30 a.m. “They first set two JCBs [excavating machines] and two tractors on fire. They then took the workers, who were sleeping there, including the JCB and tractor drivers, to about one km, fearing police retaliation. A case under Section 17 of the Criminal Law (Amendment) Act and several other sections of the Indian Penal Code for rioting, unlawful assembly, criminal intimidation, causing mischief with fire has been registered, the Sahebganj police said.\\nIn Gaya, four CRPF personnel were killed while defusing a bomb that went off during the procedure.\\n“About 300 km from a police camp in Sewra, CRPF CoBRA [Combat Battalions for Resolute Action] teams discovered some bombs embedded in the road. They had almost defused one, but it accidentally went off. Four CRPF jawans were injured and one civilian also sustained some pellet injuries. The jawans were brought to the Patna Medical College Hospital. Our search operations along with the CRPF are on,” Gaya DIG Nayyar Hasnain Khan told The Hindu .\\nRelated Topics</td>\n",
              "    </tr>\n",
              "    <tr>\n",
              "      <th>13</th>\n",
              "      <td>0.0</td>\n",
              "      <td>1.0</td>\n",
              "      <td>Declare rain loss a national calamity: Babu\\n2010-12-15 02:04:00\\nHYDERABAD: Opposition leader N Chandrababu Naidu today demanded that the central government declare the heavy rains and floods in Andhra Pradesh during the year as a national calamity.\\nInitiating the debate on ‘Problems faced by farmers due to recent floods and heavy rains’ under the Short Discussion in the Assembly, Naidu demanded `10,000 per acre as compensation to each paddy farmer and `5,000 each to those who had sold their crop.\\nNine-hour power supply to farming sector, `200 bonus on paddy, removal of VAT on agricultural produce, free distribution of 50 kg rice to affected families, waiver of crop loans, implementation of a comprehensive crop insurance scheme by taking the survey number as a unit, release of compensation directly to tenant farmers, `1 lakh ex-gratia to the kin of those killed due to rains, crop loans under Pavala Vaddi scheme, linking the agriculture sector with that of NREGP (National Rural Employment Guarantee Programme) were among the other demands putforth by him. “The TDP, if needed, will include all these issues in the election manifesto,” he added.\\nReferring to his visits to the affected districts, the opposition leader warned that the people, particularly the farmers, would lose faith on the parliamentary democratic system if the government neglected them. There was a need to amend the procedures to enable the government to procure the damaged crop from the suffering farmers. “Justice will not be done to the victims if chief minister N Kiran Kumar Reddy does not pursue the issues sincerely,” he remarked.\\nAs per the government figures, crop was damaged in about 10.75 lakh hectares (about 25 lakh acres) due to floods and heavy rains during the kharif season.\\nBoth the state and central governments should come to the rescue of suffering farmers.\\nAbout `2,000 crore loss was reported in Guntur district alone, while heavy losses were also reported in districts like Nalgonda, East Godavari, Srikakulam, Vizianagaram and Nellore. He urged the government to take the issue seriously and protect farmers’ interests on humanitarian grounds.\\nEarlier in the day, Naidu along with left party leaders G Mallesh (CPI ), J Ranga Reddy (CPM) and others, participated in a big rally from the Goshamahal stadium to the State Assembly on farmers’ issues.</td>\n",
              "    </tr>\n",
              "    <tr>\n",
              "      <th>14</th>\n",
              "      <td>0.0</td>\n",
              "      <td>1.0</td>\n",
              "      <td>Punia murder accused remanded to judicial custody\\nUNI\\n| Sep 23, 2001, 01:20 IST\\nhisar: judicial magistrate jasbir hudda here, on saturday, remanded parents anboop singh and rajbiri and five other members of the family of sanjeev kumar, accused in the relu ram punia multiple murder case, to judicial custody till october 6. sanjeev, in a statement made before the haryana state vigilance bureau (hsvb) on friday, had confessed having murdered his father-in-law relu ram punia, a former legislator, and seven other members of punia's family in a farm house at litani village in this district on august 24. others remanded to judicial custody on saturday were sanjeev's brothers rajinder, ram kumar and subodh, besides satyander, devender and virender. the magistrate had accepted bail applications of the last three in his last hearing but in the absence of any surety even on saturday, they continued to be in the judicial custody. punia's daughter, who had claimed to have all alone killed her father, mother, brothers and sisters is already in judicial custody. an hsvb team, on saturday, took sonia to karnal for recovery of a pistol and cartridges. sanjeev, who had been evading arrest, was nabbed from his hideout by the hsvb sleuths earlier this week.</td>\n",
              "    </tr>\n",
              "    <tr>\n",
              "      <th>15</th>\n",
              "      <td>0.0</td>\n",
              "      <td>1.0</td>\n",
              "      <td>Javed Akhtar Says Sorry, Can't Attend Bangalore Lit Fest\\n2015-12-02 05:16:00\\nBENGALURU: Javed Akhtar, well-known poet and Bollywood lyricist, is a new addition to the list of writers giving the Bangalore Literary Festival a miss.\\nFilm journalist Bhavna Somaaya and literary historian Rakshanda Jaleel are also staying away from the fourth edition of the festival, slated for Saturday and Sunday at Hotel Royal Orchid.\\nThe organisers say these developments have no connection with the protest withdrawal of three Kannada writers. “Akhtar and the others have cited personal reasons,” said Shinie Antony, co-founder of the festival.\\nThe withdrawals have prompted rescheduling of the sessions. A new programme was announced online on Tuesday.\\nAkthar was scheduled to take part in the inaugural ceremony and some other sessions. Rakshanda Jalil was to participate in a session with him on the second day.\\n■  Irked by the remarks of Vikram Sampath, one of the founding directors of the festival, two writers had opted out of the festival on November 25.\\n■  According to Dayanand T K and Arif Raja, Kannada writers, Sampath’s comment on the ‘award wapsi’ campaign was in poor taste.\\n■   Former minister Jairam Ramesh and Malayalam writer Sarah Joseph are also among the invitees excusing themselves from the festival.\\n■  The withdrawals prompted Sampath to step down as director of the festival.  However, he will participate in panel discussions.\\n■  Shinie Antony said Akthar had written to the hosts saying something important had come up, preventing him from attending the festival.\\n■  “Till the festival ends, we cannot say for sure who will or will not attend,” she said.\\nWell-known writer and historian Ramachandra Guha has described the protests as an “ill-judged boycott by writers who had previously agreed to speak.”\\n“To agree to speak and then pull out because one does not agree with the views of one of the organisers is to close off debate altogether. It displays, to use a word in vogue lately, intolerance,” he has said in a letter to the festival organisers.\\nHe will speak on ‘Eight Threats to Freedom of Expression’ at the festival on Saturday.\\nHe says he had declined the invitation to the event since he was at work finishing a book. “However, the organisers have now renewed the invitation, and I have accepted,” he says.\\nHis statement explains his decision: “Writers have always had differing views; we should welcome this. I disagree with some things Vikram Sampath has said or written; just as he surely disagrees with some things I have said or written. It is to further the spirit of debate and free enquiry that I shall be speaking on Saturday.”</td>\n",
              "    </tr>\n",
              "    <tr>\n",
              "      <th>16</th>\n",
              "      <td>0.0</td>\n",
              "      <td>1.0</td>\n",
              "      <td>Bangalore:\\nGandhi Bazaar vendors continue protest - Today's Paper - The Hindu\\nJanuary 26, 2012 00:00 IST\\nOctober 24, 2016 11:30 IST\\nmore-in\\nGandhi Bazaar vendors continued with their protest on Wednesday, a day after their shops were demolished by the Bruhat Bangalore Mahanagara Palike (BBMP) officials. Converging at what was once a bustling marketplace, they discussed their next course of action.\\nThey found support from journalist Ravi Belagere and tried to picket the Sunkenahalli ward office. They demanded rehabilitation saying their livelihood had been destroyed by the BBMP.\\nBBMP Engineer-in-Chief B.T. Ramesh met them and assured them of apprising the Mayor and Commissioner of their demands.\\nRelated Topics</td>\n",
              "    </tr>\n",
              "    <tr>\n",
              "      <th>17</th>\n",
              "      <td>0.0</td>\n",
              "      <td>1.0</td>\n",
              "      <td>50 cobra eggs perish | Bengaluru News - Times of India\\nTNN | Sep 12, 2001, 23:09 IST\\nTop Searches:\\n50 cobra eggs perish\\nTNN | Sep 12, 2001, 23:09 IST\\nshimoga: the 50 cobra eggs found near mundigesara in the heggodu forest near sagar in june have perished due to lack of proper care. the incident aroused a lot of interest and subsequent agitation by the people of sagar as dfo shivaraj singh allegedly manhandled manmath kumar -- a herpetologist. it may be recalled that the dfo raided the house of manmath kumar who had collected the eggs from the forest with the help of people to hatch them. the dfo manhandled him and also photographer krishna, who had taken photographs of the cobra laying eggs in the forest. the agitated people staged a dharna in front of the dfo office for two days. but with the intervention of district incharge minister kagodu timmappa, who assured action against the dfo, people withdrew their agitation. later the dfo sent the eggs to bannerghatta national park for hatching. it is now confirmed by the forest department that the eggs have not been hatched due to excess heat and lack of proper humidity. meanwhile, krishna, the photographer, has filed a petition in a sagar court against the dfo for manhandling him. the court has permitted the petition and the sagar rural police have registered a case against the dfo.</td>\n",
              "    </tr>\n",
              "    <tr>\n",
              "      <th>18</th>\n",
              "      <td>0.0</td>\n",
              "      <td>1.0</td>\n",
              "      <td>Top Searches:\\nCourt extends Rana's remand by four days\\nTNN | Aug 7, 2001, 23:58 IST\\nnew delhi: a city court on tuesday extended the remand of phoolan devi murder accused sher singh rana alias pankaj by four days, after the police pleaded the investigation in the case was not yet complete. directing the police to produce rana on saturday at 2 pm, metropolitan magistrate m c gupta ordered to have him medically examined everyday and allowed rana's lawyers to meet him once in a day. he also directed the police to produce rana before another magistrate v k yadav for the identification parade. under the law, the same magistrate who conducts the trial cannot hold the identification parade. however, when brought before metropolitan magistrate v k yadav for the identification parade, rana refused to participate on the ground that his photograph had already appeared extensively in the print and television media. when rana accused the police of parading him barefaced before the media, the magistrate reminded him that he himself was the first one to go and address a press meet after the murder. ``you restrict yourself to my question, whether you would like to participate in the identification parade, or not knowing that refusal to participate could be held against you during the trial'' the magistrate asked. rana insisted he would not. the magistrate then allowed him to take the cloth off his face as it served no purpose and sent him back to the court of magistrate gupta to resume remand proceedings. pressing for a four-day remand, special public prosecutor s k saxena and additional public prosecutor irfan ahmad told the court that the sim card for mobile phone used on the day of crime was yet to be recovered. ``now since his face is no longer muffled, we need to take him out of city to identify various places visited by him, the route taken during escape from delhi and places of procurement of weapons,'' saxena told court. rana's lawyers satyapal singh tomar and ram singh baliyan opposed the extension of remand saying the police have recovered the weapons of offence and that his interrogation was complete. on asking how he was treated during seven days remand, rana told magistrate that he was admitted for three days in a hospital after he fell ill and continued taking medicine for five days. meanwhile, the court adjourned the hearing on bail a co-accused, amit rathi, for thursday.</td>\n",
              "    </tr>\n",
              "    <tr>\n",
              "      <th>19</th>\n",
              "      <td>0.0</td>\n",
              "      <td>1.0</td>\n",
              "      <td>Bijapur:\\nCBI probe sought over 2008 Pakistan flag-hoisting - KARNATAKA - The Hindu\\nDecember 10, 2013 00:00 IST\\nDecember 10, 2013 05:57 IST\\nmore-in\\nSeveral organisations led by the seers of various maths took out a silent procession demanding the government to order a CBI or CID probe into the incident of hoisting of Pakistan flag here.\\n‘Muslims blamed’\\nIn a memorandum submitted to the Chief Minister through the district administration here on Monday, the agitators said that in 2008, the Pakistan flag was hoisted by some miscreants at Tipu Sultan circle of the city. They said the incident had led to communal tension, and the miscreants had tried to project it as an act committed by Muslims.\\nRelated Topics</td>\n",
              "    </tr>\n",
              "    <tr>\n",
              "      <th>20</th>\n",
              "      <td>0.0</td>\n",
              "      <td>1.0</td>\n",
              "      <td>Not Saying a Slogan is Part of Freedom of Expression: Owaisi\\n2016-03-17 00:05:00\\nMUMBAI: AIMIM president Asaduddin Owaisi today said that his party's MLA Waris Pathan's suspension from Maharashtra Assembly will set a wrong precedent, and it was the first time in the history of India that a person was suspended for not saying a slogan.\\n\"This is for the first time in the history of Indian democracy that an elected member has been suspended for not raising a slogan. Parliament and Assemblies are a forum for debates where sloganeering is not allowed,\" Owaisi told PTI.\\n\"When the Prime Minister says he only follows the Constitution, where in the Constitution it is written that an elected member will be suspended if he does not shout a slogan?\" he said.\\nWhile the Speaker has discretionary powers, a member can only be suspended if he uses unparliamentary language or indulges in unparliamentary behaviour, he said.\\n\"Here a member is being forced to say something which the Constitution allows him not to say. That is his freedom of expression,\" he said, adding no law is violated if a slogan is not raised.\\n\"We are heading into an age of darkness. By supporting the suspension motion, Congress and NCP, who call themselves secular, have been completely exposed,\" he said.\\nAIMIM MLA Waris Pathan was today suspended from the Maharashtra Legislative Assembly for the remaining duration of the ongoing budget session after he said during a debate that he would not say `Bharat Mata Ki Jai'.\\nMinister of State for Home Ranjit Patil tabled a resolution seeking suspension of Pathan, which was passed unanimously.</td>\n",
              "    </tr>\n",
              "    <tr>\n",
              "      <th>21</th>\n",
              "      <td>0.0</td>\n",
              "      <td>1.0</td>\n",
              "      <td>Top Searches:\\nDay-long strike call by commercial vehicle owners today\\nTNN | Aug 28, 2001, 02:32 IST\\nnew delhi: schoolchildren and office-goers may be the worst hit commuters on tuesday as most buses, autorickshaws and taxis are expected to remain off roads. this is despite transport minister parvez hashmi's warning that the permits of commercial vehicles would be terminated. the strike is likely to cripple the city's transport services as the 6,500 contract buses, 3,500 kilometre-scheme buses, 1,800 blueline buses and 100-odd whiteline buses will be off the roads. the situation will aggravate as about 45,000 autorickshaws, 4,000 taxis and 500 rtvs plan to join the strike. owners of commercial vehicles, led by bjp mps madan lal khurana and sahib singh verma, have called for a day-long strike in the capital \"to allow existing diesel-run buses plying on low sulphur diesel\". a section of transporters under the umbrella of federation of transport unions congress, has said that they would not go for the strike. \"we are opposing the strike as this is a political game being played by the bjp,\" ftuc chief, jaswant singh arora. a number of schools like springdales, mother's international, bluebells, guru harkishan public school and mater dei have announced a holiday. the transport minister announced that the schools will be contacted for a feedback on the defaulter transporters. however, 1,230 buses of delhi transport corporation would be plying on the roads. said dtc chairman rakesh mehta, \"we have written to the private operators whose buses - totalling 3,530 - are plying under dtc's kilometre scheme to ply their vehicles. if they don't comply, their permits would be terminated.\" another 900 dtc buses plying on inter state routes would also be pressed into service in case of an emergency, mehta said. the transport minister lashed out at former chief minister madanlal khurana alleging he was trying to gain political mileage by calling for the day-long strike. \"we have utmost faith in the supreme court. we would request the court not to proceed with the cng conversion process till the cng infrastructure is in place,\" hashmi said. schools to remain closed although there has been no official directive from the delhi government, a majority of the capital's private schools have decided to remain closed on tuesday due to the transporters' strike. schools remaining closed include springdales (dhaula kuan and pusa road), bluebells, mothers international, mater dei and guru harkishan public school (all the 10 branches). \"we have faced enough problems in such situations. we don't want to risk the security of our children,\" another principal added. though many principals feel that they cannot afford another holiday in the already tight school calender, they prefer to play it safe. guru harkishan school principal i s narang said the decision to close all the branches was a centralised management decision. the transport minister's decision to suspend the permits of transporters depending on the feedback of schools may prove to be ineffective, with many schools already having taken the decision by monday afternoon. \"the schools were not aware of any such decision by the transport minister,\" a principal said. \"such late decisions don't make sense. they just put the parents and students to inconvenience,\" said birla vidya niketan principal madhu chandra. her school has not been declared closed. interestingly, even schools who have their own fleets have also decided to remain closed. in springdales, pusa road, for instance, all the 28 buses are owned by the school. \"four diesel buses have not been converted as yet and therefore we do not want to take any chances,\" said principal amita wattal. more so, a few senior class students have their third language test on tuesday. \"we don't want a uncertain situation if some students are not able to turn up,\" wattal added. one of the schools is being forced to remain open, particularly because it has organised an international debate. \"we will be sending the school's seven buses on usual routes but are expecting a thin attendance,\" the school principal said. students of sanskriti school in chanakyapuri have been issued a circular stating \"the school would remain closed if the transporters persist with their proposed strike on tuesday.\" the delhi public school, mathura road, will remain open. students who commute through private contract buses are likely to face a problem. \"the school is considerably far off from my residence, but i will have to drop my child to school,\" a parent of a class viii student said. the delhi abhibhavak mahasangh, a parents' group, has requested education minister narendra nath to declare a holiday on tuesday. \"the worst sufferers will be the primary and secondary schoolchildren. most schools are conducting unit tests and parents are forced to send the kids to school,\" dam president vijender kumar said.</td>\n",
              "    </tr>\n",
              "    <tr>\n",
              "      <th>22</th>\n",
              "      <td>0.0</td>\n",
              "      <td>1.0</td>\n",
              "      <td>PESHAWAR:\\nPakistan kills 31 militants in airstrikes\\nPESHAWAR:,\\nJanuary 05, 2015 00:00 IST\\nJanuary 05, 2015 05:45 IST\\nShare Article\\nJanuary 05, 2015 00:00 IST\\nJanuary 05, 2015 05:45 IST\\nmore-in\\nPakistani airstrikes killed 31 militants and a suspected U.S. drone strike killed another seven, officials said on Sunday, as local troops pressed a six-month offensive in tribal regions along the Afghan border that have long been insurgent havens.\\nThe airstrikes late Saturday in the Tirrah valley of the Khyber region destroyed four militant hideouts and a suicide bomber training centre, the army said in a statement.\\nThe military says the operation in Khyber — in which 1,200 militants have been killed — is aimed at militants who have fled a massive offensive in the neighbouring North Waziristan region that was launched last June.\\nLast month’s school massacre in Peshawar — in which over 140 people were killed, mainly children — is believed to have been launched from Khyber. The attack prompted both Afghanistan and Pakistan to vow tougher action along the porous border. — AP\\nRelated Topics</td>\n",
              "    </tr>\n",
              "    <tr>\n",
              "      <th>23</th>\n",
              "      <td>0.0</td>\n",
              "      <td>1.0</td>\n",
              "      <td>Top Searches:\\nLPG supply restored after pipeline fire\\nTNN | Aug 7, 2001, 23:50 IST\\nnew delhi: a minor fire broke out late on monday night in a section of gas authority of india ltd's cooking gas pipeline at karera village, 14 km from loni, in ghaziabad. though supply was disrupted for a few hours, no loss of life or damage to property has been reported. gail officials ruled out any disruption in cooking gas supply in delhi. cng supply will not be affected too as it has a separate pipeline. the lpg pipeline carries gas from gujarat's jamnagar to loni, from where it is supplied to public sector oil marketing firms. according to reports, the gas leakage was detected around 10.30 pm. thereafter, the leaking gas caught fire. supply was suspended immediately and fire tenders rushed from sahibabad and mohan nagar. the blaze was doused by 1.30 am on tuesday and the leakage plugged thereafter. gas supply was restored by 5 am.</td>\n",
              "    </tr>\n",
              "    <tr>\n",
              "      <th>24</th>\n",
              "      <td>0.0</td>\n",
              "      <td>1.0</td>\n",
              "      <td>KHAMMAM:\\nEd.Cet held - ANDHRA PRADESH - The Hindu\\nTry our \"Ad free\" Website\\nSign Up for 30 Days Free Trial\\nExplore our Subscription Plans\\nAlready a user? Sign In\\nTo know more about Ad free news reading experience and subscription Click Here\\nor Please whitelist our website on your Adblocker</td>\n",
              "    </tr>\n",
              "    <tr>\n",
              "      <th>25</th>\n",
              "      <td>0.0</td>\n",
              "      <td>1.0</td>\n",
              "      <td>Pak PM blames conspiracy for Karachi violence - Indian Express\\n,   : Islamabad, April 10 , Fri Apr 11 2008, 22:17 hrs\\nPrime Minister Yousuf Raza Gillani on Thursday blamed \"conspiracies\" for the widespread violence in Karachi and said the dark years of dictatorship may return to Pakistan as \"mischievous acts\" were being fuelled to derail the democratic process.\\nNoting that the people had given a \"clear mandate in favour of the democratic process\", he told parliament that his government would not allow \"anti-democratic forces to succeed in their attempts\". Strongly condemning the attacks on two opposition lawmakers and the violence in Karachi, Gillani said the incidents were the outcome of \"conspiracies, unjustified behaviour and mischievous acts\" that were being fuelled by those who wanted \"to derail the democratic process\" in the country.\\nGillani assured the House that authorities would conduct a thorough probe into the attacks on the two leaders and the violence in Karachi \"to clearly establish the motive and expose the faces of those behind these incidents\".\\nThe Prime Minister warned that if all sections of society and political parties did not exercise tolerance and practice accommodation, tyranny and dictatorship may return soon.\\nAt least 12 people were killed on Wednesday when lawyers supporting President Pervez Musharraf and their rivals clashed in this port city of Pakistan sparking large-scale violence in which dozens of cars and buildings were set ablaze.</td>\n",
              "    </tr>\n",
              "    <tr>\n",
              "      <th>26</th>\n",
              "      <td>0.0</td>\n",
              "      <td>1.0</td>\n",
              "      <td>Sibal fails to get bill passed in Rajya Sabha\\n2011-09-08 02:55:00\\nNEW DELHI: Despite the agreement between the Congress and the BJP to pass the Bill to declare the Indian Institute of Information Technology, Design and Manufacturing, Kancheepuram, to be an institution of national importance, Human Resource Development Minister Kapil Sibal on Wednesday could not get the Bill passed in the Rajya Sabha.\\nMoreover, he came under severe criticism from the members for his remarks on reservations to faculty in the institutes of national Importance. Apparently, irked with the agreement between the Treasury Benches and the main Opposition, the BSP stalled the passage of the Bill and forced the House to adjourn twice.\\nWhile giving clarifications, Kapil Sibal said,”The reservation policy applies to admissions in institutions. There is no reservation policy which applies to faculty”.\\nTaking strong exceptions to Sibal’s remarks, the BSP members rushed to the well forcing the House to be adjourned. Though Sibal realised his mistake and expressed ‘sorry’, it was too late. As Deputy Chairman K Rahman Khan was about to ask for a voice vote for the passage of the Bill without discussion, trouble started when ruling Congress member Jesudasu Seelam raised the issue of reservation for SCs, STs and OBCs in the institutes of national importance. This prompted the BSP and other parties to seek for a proper discussion on the Bill.\\nAccusing the Congress and the BJP for reaching an agreement to pass the Bill without discussion, BSP leader Satish Chandra Mishra made it clear that this Bill cannot be passed without discussion, particularly on reservation. Rahman Khan had to adjourn the House for 15 minutes.\\nWhen the House reassembled, Leader of the Opposition Arun Jaitley asked the government to clarify on the reservations.\\nBSP leader S C Mishra wanted specific provisions in the Bill for reservation.\\nCPI leader D Raja wanted to know what was the guarantee of implementing the policy effectively in the interest of SCs, STs and OBCs. DMK member Tiruchi Siva also wanted assurance from the government on reservation. After the clarification from Kapil Sibal, members from the BSP, BJD and LJP rushed to the well and shouted slogans against the government. The chair adjourned the House for 30 minutes. Though the House reassembled again, it was adjourned after the statement of the Home Minister on the Delhi High Court blast.</td>\n",
              "    </tr>\n",
              "    <tr>\n",
              "      <th>27</th>\n",
              "      <td>0.0</td>\n",
              "      <td>1.0</td>\n",
              "      <td>Azad gets NSG security - Indian Express\\n,   : JAMMU, JANUARY 25, Fri Jan 25 2008, 22:11 hrs\\nThe security around Jammu &amp; Kashmir Chief Minister Ghulam Nabi Azad has been further tightened following a militant plot to target him that was unearthed by the state police today. Elite commandos of the National Security Guards (NSG) replaced the Indo-Tibetan Border Police (ITBP) on Friday, on the eve of Republic Day.\\nAs first reported by The Indian Express, intelligence inputs mentioned the possibility of militants having access to information on Azad's movements from his own personal staff.\\nNearly a dozen people, including a telephone operator and a gardener at the Chief Minister's official residence have been withdrawn following inputs that the plot may involve an insider.\\nDirector General of Police Kuldeep Khoda said today that the NSG commandos would be in addition to the commandos of the state police's Special Security Guards (SSG), who are also deployed for Azad's security.\\nPointing out that the ITBP personnel have a different sort of training and don't fit into the scheme of things after the deployment of NSG, Khoda, however, denied that any member from the SSG has been withdrawn from the CM's security. \"However, I cannot say anything about his personal staff as we don't deal with them,\" he added.\\nMeanwhile, sources told The Indian Express that Azad had been advised not to make unscheduled visits to any place and address rallies only from behind a safety shield.\\nThough senior police officers said the Centre's decision to provide NSG cover to Azad was part of a periodical review of VVIPs' security, sources said the step follows the arrest of two students with a satellite phone from Bhatindi area on Thursday.\\nDuring preliminary interrogation, both reportedly admitted to having militant links. The satellite phone was allegedly given to them by some militants. They revealed that the militants also used to hold phone conversations with someone who was reportedly posted at the CM's residence.</td>\n",
              "    </tr>\n",
              "    <tr>\n",
              "      <th>28</th>\n",
              "      <td>0.0</td>\n",
              "      <td>1.0</td>\n",
              "      <td>Man wanted for killing mother nabbed | Bengaluru News - Times of India\\nTNN | Sep 8, 2001, 22:36 IST\\nTop Searches:\\nMan wanted for killing mother nabbed\\nTNN | Sep 8, 2001, 22:36 IST\\nmangalore: premanatha shetty (22), who killed his mother and injured his brother at mani village, in the limits of vittla police station, was caught by the villagers on friday and handed over to the police. shetty had killed his mother vedavathi (55) and injured his brother santosh (14). the police said shetty had returned from mumbai on monday and committed this crime. he had stabbed both of them on the neck, but his brother survived the attack and is recuperating at a hospital in puttur. shetty came to his house on friday and pretended that he was unaware of what had happened. attempt to murder: an attempt to murder case was reported from bajpe on saturday. the police said, ravindra yedapadavu, a bus agent was attacked by three persons in a bus at kaikamba in the outskirts of the city. when ravindra escaped the attempt, the accused akbar, shameer and praveen carlo fled in a scooter and met with an accident on the way, the police added. they have been hospitalised. old dispute was cited as the reason for the murder attempt.</td>\n",
              "    </tr>\n",
              "    <tr>\n",
              "      <th>29</th>\n",
              "      <td>0.0</td>\n",
              "      <td>1.0</td>\n",
              "      <td>Nude parade: CPM wants judicial probe | Bengaluru News - Times of India\\nTNN | Aug 30, 2001, 22:15 IST\\nNude parade: CPM wants judicial probe\\nTNN | Aug 30, 2001, 22:15 IST\\nbellary: the cpm on thursday demanded judicial as well as cod inquiries into the vanenur incident in which a dalit woman was stripped and paraded naked for more than two hours on sunday evening. cpm karnataka secretariat member s.y. gurushantha told reporters the cod inquiry should find out the lapse on the part of police and why they failed to frame a strong case against the seven accused. judicial inquiry is necessary to unearth reasons why continuous assaults and humiliation are unleashed on dalit and weaker sections of the society. he demanded that the government hold the deputy commissioner and police superintendent responsible for their \"failure to initiate strong action against the culprits\". the cpm worker said party's fact-finding team that visited the village found out the following points: political patronage encouraged the nayak community to commit such a barbaric act; most nayak community members own lands; they are hand-in-glove with the police; those who rendered yellamma naked had earlier assaulted members of dhobi community. gurushantha alleged that the culprits have strong support from the congress leaders of the district, particularly the legislator representing the constituency of which vanenur is a part. therefore, he urged both union and karnataka governments to study the vanenur case in detail. gurushantha said the cpm and allied parties will launch agitation in the district and taluk headquarters from monday seeking action against the accused.</td>\n",
              "    </tr>\n",
              "    <tr>\n",
              "      <th>30</th>\n",
              "      <td>0.0</td>\n",
              "      <td>1.0</td>\n",
              "      <td>Bus strike likely | Delhi News - Times of India\\nSep 20, 2001, 01:34 IST\\nTop Searches:\\nBus strike likely\\nSep 20, 2001, 01:34 IST\\nnew delhi: city buses are likely to go off the roads on september 22 to protest against the supreme court's decision to stick to its september 30 deadline. bjp-backed bus operators joint action committee's general secretary himmat singh said on wednesday: \"we decided to register our protest from september 22 onwards.\" congress-backed all delhi bus operators association's president jaswant singh arora said: \"we will go on a day-long strike on september 22. the decision to go on an indefinite stir will be taken on thursday.\"</td>\n",
              "    </tr>\n",
              "    <tr>\n",
              "      <th>31</th>\n",
              "      <td>0.0</td>\n",
              "      <td>1.0</td>\n",
              "      <td>DOMESTIC VIOLENCE - Indian Express\\nSun Aug 03 2008, 12:04 hrs\\nIt has been a disturbing six months for India's internal security: first the Naxal attacks in Orissa and the bomb blasts in Bangalore and Ahmedabad. A look at how some of these chilling incidents have played out this year\\nTERROR IN NUMBERS\\n674\\npeople killed in terror attacks in India in 2008. This includes 460 civilians and 214 security force personnel.\\n229\\npeople214 civilians and 15 security force personnelkilled in terror attacks in the Northeast in 2008. 518 people killed last year\\n263\\ncivilians and security forces killed in Naxals attacks in 2008. 458 were killed last year.\\n* 2008 figures are till July 20.\\nMAJOR TERRORIST STRIKES\\nJuly 25: Terror struck the IT capital of Bangalore as at least nine low intensity serial blasts rocked the city, leaving two dead and several injured.\\nJuly 26: A day later, it was Ahmedabad's turn as 29 people were killed and over 100 hurt as 16 bombs went off in a space of 90 minutes. The attacks were the first in the city after the Akshardham terror strike of 2002.\\nMay 13: Eight serial bomb blasts at Johari Bazaar, Hanuman temple, Hawa Mahal, Badi Chaupad, Tripolia Bazaar and Chandpole in Jaipur. Over 80 killed and 150 injured.\\nJanuary 1: Terrorists struck at the para-military CRPF Group Centre in Rampur, Uttar Pradesh. Seven security personnel and a civilian killed. The Lashkar-e-Toiba is suspected to be behind the attack.\\nNAXAL ATTACKS\\nJuly 16: CPI-Maoist cadres killed 17 personnel of the Special Operations Group of the Orissa Police in a landmine blast in Malkangiri district. An anti-landmine van carrying the police team was returning to the district headquarters town of Malkangiri when they were attacked.\\nJuly 8: CPI-Maoist cadres shot dead Ramesh Singh Munda, a Jharkhand Janata Dal-United MLA, along with his two bodyguards and a teenaged boy, at the sub-divisional town of Bundu in Ranchi district.\\nJune 30: A DSP and four constables were killed in a landmine blast triggered by suspected CPI-Maoist cadres at Pundigiri village in Bundu, 50-kilometres from Ranchi. The police personnel were returning to the headquarters after conducting raids in the Bundu area.\\nJune 29: 35 security force personnel belonging to the Greyhounds from Andhra Pradesh were killed in a Naxal attack on a 68-member Andhra Pradesh-Orissa police party in the Chitrakonda reservoir of Malkangiri district, close to the Andhra Pradesh border.\\nJune 2: CPI-Maoist cadres killed three villagers near Ranchi for allegedly collecting money in the name of the outfit. Pamphlets left near the bodies said, \"Anyone who will extort money in the name of our organisation will meet the same fate.\"\\nMay 21: CPI-Maoist cadres shot dead three persons and injured another at Kotam village in Gumla district of Jharkhand.\\nApril 26: Three policemen and two CPI-Maoist cadres were killed in an encounter in Dumka, Jharkhand.\\nApril 13: Six persons, including five security force personnel and a porter, were killed in a Naxal attack at Jhajha railway station in Jamui district of Bihar. A group of 200 Maoists attacked the crowded railway station, and looted rifles and ammunition from the GRP armoury.\\nApril 10: Naxals killed six persons belonging to the Sashastra People's Morcha (SSM), an outfit of surrendered Naxals, in Bihar.\\nApril 8: Nine persons were killed and two others injured when CPI-Maoist cadres fired on a vehicle and subsequently set it ablaze at Semra in Gumla district of Jharkhand.\\nApril 1: Four people killed at Poradih-Chenpur village in Khunti district of Jharkhand. Bodies of the victims with their throats slit were recovered on April 2. A hand-written note left behind by the Maoists claimed the four persons were being 'punished' for indulging in robbery.\\nJanuary 26: CPI-Maoist cadres shot dead three persons, accusing them of being police spies, at Borlagunda village in Andhra Pradesh's Karimnagar district.\\nJanuary 1: At least four policemen were killed in an attack on the Bariapur police post in Munger district of Bihar. More than 100 Maoists attacked the police post, which was keeping a vigil over a picnic spot in Rishikund, where hundreds of people had gathered to celebrate New Year.</td>\n",
              "    </tr>\n",
              "    <tr>\n",
              "      <th>32</th>\n",
              "      <td>0.0</td>\n",
              "      <td>1.0</td>\n",
              "      <td>Action sought against rape accused | Ahmedabad News - Times of India\\nTNN | Aug 29, 2001, 23:03 IST\\nAction sought against rape accused\\nTNN | Aug 29, 2001, 23:03 IST\\ngandhinagar: the alleged rape of a 17-year-old college girl of morbi in rajkot district by a professional photographer and his friends last week had its echo in the assembly when members demanded stern action against the accused and compensation to the victim who had boldly approached the police and filed a complaint. minister of state for home haren pandya, while replying to a debate on the calling-attention motion by the members from morbi and other constituencies from rajkot district, announced that nine of the 14 accused had been arrested, which included two prime accused who were history-sheeters. pandya said the government had taken a serious view of the incident and had decided to appoint a special public prosecutor to handle the case so that the accused were punished at the earliest. the police have received all vital clues about the incident in which the girl was enticed by the photographer who later on raped her in his studio at morbi. some of his friends also forced the college girl to submit to their lust. the minister said the police would arrest the remaining accused who could be somewhere in rajkot district. the government, he said, would take stern action against the accused as the incident had created ripples in the society. meanwhile, the rajkot district police have intensified patrolling at the campus and hostel area as the victim was living in the patel kanya chhatralay. two members, jasumatiben korat and rekhaben trivedi, pleaded that the government should hasten up action as normally prosecution in rape cases takes long. congress member subhash shelat was opposed by bjp members when he tried to say that the incident was contrary to the government's claim that the crime rate in the state had come down.</td>\n",
              "    </tr>\n",
              "    <tr>\n",
              "      <th>33</th>\n",
              "      <td>0.0</td>\n",
              "      <td>1.0</td>\n",
              "      <td>KADAPA:\\nPanchayat workers on hunger strike - ANDHRA PRADESH - The Hindu\\nSeptember 05, 2010 00:00 IST\\nSeptember 05, 2010 04:35 IST\\nmore-in\\nGram Panchayat Employees' and Workers' Union members launched relay hunger strike in front of the Collectorate on Saturday demanding implementation of G.O. No.39 to upgrade the posts of village servants as Village Revenue Officers and promote eligible ones as Panchayat Secretaries.\\nCITU district general secretary A. Ramsamohan inaugurated the hunger strike camp in which union members K. Penchalaiah, R. Polaiah, G. Chinna, S. Chennaiah, K. Polaiah and Sankar undertook relay fast. He demanded clearance of pending salary arrears, fixation of minimum wages, provident fund and ESI facilities to the workers. Kula Vivaksha Vyatireka Porata Sangham leaders spoke.\\nRelated Topics</td>\n",
              "    </tr>\n",
              "    <tr>\n",
              "      <th>34</th>\n",
              "      <td>0.0</td>\n",
              "      <td>1.0</td>\n",
              "      <td>Gujarat Govt fears violence could spread | Ahmedabad News - Times of India\\nTNN | Sep 1, 2001, 00:32 IST\\nGujarat Govt fears violence could spread\\nTNN | Sep 1, 2001, 00:32 IST\\nahmedabad: there is something more sinister about the communal violence that the city has witnessed over the past week than what the bjp government is letting on as of now. but with two persons killed in police firing and the culmination of ganesh festivities scheduled on saturday, the administration is all geared up for an escalation and a possible spread of violence. ``we are taking every precaution, not just in ahmedabad but also in vadodara and surat,'' additional chief secretary (home) v.v.r. subba rao said on thursday. he, however, said there was ``no visible pattern'' behind the communal trouble witnessed in ahmedabad so far and that the two flare-ups in dariapur last week and shahpur on wednesday night were ``not inter-connected''. officials said security in ahmedabad and some other centres had been tightened and friday could be a crucial indicator of things to come in the next few weeks. the authorities at present seem rather confused about the motive behind the low-intensity violence that is taking place in ahmedabad and believe it has the potential to spread to other areas and even flare up. surat is considered particularly sensitive as eight persons were killed in police firing during idol immersion two years ago. a massive bandobast has, therefore, been made for the ganesh immersion there. while a delegation of muslims led by congressmen met minister of state for home haren pandya on thursday, protesting against lethal police firing during the clashes, the officials felt the leadership of the minority community was no longer in the hands of the main opposition party. ``this is a hypothesis which has been given to us by the intelligence agencies and we would like the government to interact with a wider representation of the community,'' subba rao said. the government is aware that new organisations like the students islamic movement of india (simi), ahmedabad muslim youth association, lok jantantrik party, bahujan samaj party, samajwadi party and others are trying to make their presence felt in the politics of gujarat which has remained bi-polar so far. however, the government believes that the current spell of violence may not be related to the coming byelections to sabarkantha and sabarmati because there is not much of a muslim votebank in these two constituencies. the bjp government is, in fact, walking a thin line because even outfits like the bajrang dal and the vishwa hindu parishad are not happy with the police handling of the communal situation. president of vhp's karnavati (ahmedabad) unit p.c. patel says: ``we will not tolerate any targeting of our cadres by the police under pressure from the minority community leaders.''</td>\n",
              "    </tr>\n",
              "    <tr>\n",
              "      <th>35</th>\n",
              "      <td>0.0</td>\n",
              "      <td>1.0</td>\n",
              "      <td>CPM threatens agitation in AP | Hyderabad News - Times of India\\nCPM threatens agitation in AP\\nTIMES INTERNET NETWORK | Aug 26, 2001, 23:41 IST\\nhyderabad: the state committee of the cpm has threatened to launch a state-wide agitation from september 10, if the state government fails to take up drought relief in all the affected mandals. the cpm will organise dharnas at all mandal headquarters on sept 10, followed by picketing of district collectorates on sept 18. the party will then finalise the future course of action in consultation with other left and like-minded parties. the cpm state committee leaders organised a dharna at sundarayya vignana kendram in the city protesting the state and central government's negligent attitude towards drought relief. cpm central committee member koratala satyanarayana demanded that the government implement food-for-work schemes. he alleged that while farmers and other poorer sections were dying due to starvation, the godowns in the state were overflowing with paddy. as many as 154 starvation deaths were reported in the state from january this year and the number is likely to increase if steps are not taken, he said and called for distribution of food grains to people facing starvation.</td>\n",
              "    </tr>\n",
              "    <tr>\n",
              "      <th>36</th>\n",
              "      <td>0.0</td>\n",
              "      <td>1.0</td>\n",
              "      <td>Police arrest 15 BKU activists to prevent rally\\nTNN &amp; Agencies | Jul 17, 2001, 01:30 IST\\nbathinda: tension prevailed in about a dozen villages of this district, which were raided by district police parties, on monday, with the intention of arresting bharatiya kisan union (bku)-ekta members to abort a proposed rally by the union, at maur mandi, against the commission agents and bank officials of the area for allegedly giving loans on higher interest rates. the district police had to face stiff resistance from bku leaders, as well as villagers, leading to minor scuffles at various places in the district. about 15 leaders of the union were reportedly arrested. the police arrested three union members of jathuke village, known as the stronghold of the bku. a woman of this village was injured when she, along with other union members, tried to break the police cordon to proceed towards maur mandi. when union activists were stopped by the police from proceeding towards the rally site, they resorted to road blocks. the mansa-bathinda road was blocked at three places - near ramnagar, rampura and phool villages. at the time of filing of this report, an uneasy situation prevailed in at least three villages - kanchia maur, mahsar khana and dhade - with the police trying to stop union activists from moving towards the demonstration spot, and the bku activists raising slogans against the police and the state government. the police was reportedly equipped with tear gas shells and fire tenders to meet any exigency.</td>\n",
              "    </tr>\n",
              "    <tr>\n",
              "      <th>37</th>\n",
              "      <td>0.0</td>\n",
              "      <td>1.0</td>\n",
              "      <td>VISAKHAPATNAM:\\nYSR Congress bandh partial - ANDHRA PRADESH - The Hindu\\nSeptember 01, 2012 00:00 IST\\nSeptember 01, 2012 05:10 IST\\nmore-in\\nThe bandh organised by YSR Congress in protest against the unscheduled power-cuts was partial and peaceful in the city on Friday. Party leaders and activists came onto the roads and stopped RTC buses around 6.30 a.m. They were arrested and taken to the respective police stations.\\nYSRCP district convener Vamsikrishna Srinivas, party leaders Koyya Prasada Reddy, Zaheer Ahmed, Ch. Venkata Rao, Kola Guruvulu, former MLA Pinninti Varalakshmi and scores of party workers were arrested. This resulted in a tense situation for sometime.\\nBuses and trucks plied as usual and shops were also open.\\nRelated Topics</td>\n",
              "    </tr>\n",
              "    <tr>\n",
              "      <th>38</th>\n",
              "      <td>0.0</td>\n",
              "      <td>1.0</td>\n",
              "      <td>New Delhi:\\nPak. still in denial on India’s LoC action - Today's Paper - The Hindu\\nOctober 01, 2016 00:00 IST\\nNovember 01, 2016 22:16 IST\\nmore-in\\nMeetings indicate jitters after ‘surgical attacks’\\nA day after Indian special forces struck terror launch pads across the Line of Control, Pakistan continued deny deny the LoC operation on Friday, maintaining that there had only been an escalation of firing at the LoC.\\nHowever, a series of official meetings indicated that the LoC mission by the Indian Army was being taken far more seriously than the government and military would admit. “No one will be allowed to cast an evil eye on Pakistan,” Pakistan’s Prime Minister Nawaz Sharif said, in an obvious reference to India during a Cabinet meeting convened hurriedly to review the LoC violence.\\nNext Wednesday, the government has convened a special joint session of the Pakistani Parliament, which will follow the National Security Committee meeting on Tuesday, where Mr. Sharif extended a special invitation to all the chief ministers to speak about the LoC situation. In New York, the Pakistani envoy met U.N. Secretary General Ban Ki-moon and the Security Council president in an effort to have the LoC tensions taken up at the world body.\\nOn Friday, Pakistan’s Army Chief Raheel Sharif also issued a statement, referring to the commando mission in which the Indian Army said at least eight terror launch pads had been attacked, killing many terrorists on the Pakistani side of the Line of Control, as “malicious propaganda.”\\nThe statement warned India against any misadventure. A release said: “The highest state of vigil is being maintained along LoC/WB and all along the international border.”\\nRelated Topics</td>\n",
              "    </tr>\n",
              "    <tr>\n",
              "      <th>39</th>\n",
              "      <td>0.0</td>\n",
              "      <td>1.0</td>\n",
              "      <td>Shut schools in Vadodara contradict claims\\nTNN | Sep 10, 2001, 23:31 IST\\nvadodara: contrary to claims by authorities, a majority of secondary schools in the city remained closed following the strike call given by various teachers' unions in city. the unions on monday decided to continue with the stir till their demands were accepted. a visit to prominent schools in the city on monday revealed that the schools had remained closed as teachers and principals refrained from joining duty. school officials said the schools reopened in the morning and a section of students came for studies, but classes could not be held due to lack of staff. an official of the baroda high school, alkapuri, said some students came to school in the morning, but were allowed to go back as there were no teachers. \"a prayer meeting was held since they came all the way to school. later, they were allowed to go,\" he said. other prestigious schools in city like convent of jesus and mary, rosary and others also could not conduct academic work. students who came to attend classes could be seen playing on the grounds of some of the schools. senior functionaries of various unions, which have gone on strike, said the list of schools declared open by authorities was deceiving. \"it states that the managements of these schools have agreed to keep schools open. however, this does not mean that teachers will automatically start teaching there,\" said the principal of a prominent school. the teachers had gathered at kothi building here despite prohibitory orders by the city police. police officials have now asked them to clear the site or face action. president of the principal's association nikhil desai said the teachers were continuing with the strike. \"we are continuing with the agitation programme,\" he said. a rally of teachers from vadodara zone has been planned in the next couple of days. unions involved with the strike are making attempts to get permission for the same from authorities.</td>\n",
              "    </tr>\n",
              "    <tr>\n",
              "      <th>40</th>\n",
              "      <td>0.0</td>\n",
              "      <td>1.0</td>\n",
              "      <td>THE LAST MOMENTS - Indian Express\\nFri Dec 28 2007, 01:25 hrs\\n1 Bhutto goes to address an election rally in Liaqat Ali Bagh\\n2 Finishes her address and gets into her car at 5.30 p.m.\\n3 A gunman comes rushing near the car with AK-47\\n4 Gunman opens fire at her. She is injured in the head and chest.\\n5 He then blows himself up</td>\n",
              "    </tr>\n",
              "    <tr>\n",
              "      <th>41</th>\n",
              "      <td>0.0</td>\n",
              "      <td>1.0</td>\n",
              "      <td>Top Searches:\\nNo solution in sight as AIIMS strike drags on\\nTNN | Aug 25, 2001, 00:07 IST\\nnew delhi: as the strike at the all india institute of medical sciences entered its third day, a large number of patients were turned away without treatment. unlike thursday, when the opd ran for a couple of hours, on friday it and the casualty wing were shut throughout. at least 300 surgeries, including 200 major ones, were cancelled on friday. ``since the strike began we have had to postpone more than 600 surgeries. we will have a tough time accommodating these patients after the strike ends,'' a doctor at the hospital said. till late in the evening the authorities could do nothing to break the deadlock. the karamchari union has also threatened to go on a strike if action is not taken against the doctors who allegedly assaulted one of its members. the strike was called on wednesday afternoon after an altercation between a couple of resident doctors and a karamchari. on friday afternoon at least 20 patients sat outside the radiotherapy unit. most were clean shaven ^ cancer patients usually are ^ and were aware of the strike but they had still come with the hope of receiving treatment. there was no sign of a doctor till 2.45 pm, still they refused to leave. manjul anand, who had brought his mother for radiotherapy from nainital, said, ``even yesterday we had to wait for quite a while before my mother received treatment.' anand's mother suffers from cancer on the right side of her head. she is a stage-two patient. mother and son have no clue about the cause of the strike. ``what will i do if i know the reason. i cannot change anything,'' anand said. ``we have been told that this therapy has to be continuous. as it is there is break on saturdays and sundays. we do not want a bigger break.'' sitting next to him, ram nath prasad said, ``if the doctors here have gone on a strike, they may have had a good reason for doing so. the administration needs to look into their demands.'' but among the thousands who had to return without treatment on friday there were many who were not as sympathetic. usha devi sat with her two-year-old granddaughter on the stairs outside the casualty. ``we have come from janakpuri. my son was to be admitted yesterday to remove a tumour from his thigh. even today he has not been admitted. my daughter-in-law has gone to look for a nurse she knows. i hope the nurse is able to help us,'' she said.</td>\n",
              "    </tr>\n",
              "    <tr>\n",
              "      <th>42</th>\n",
              "      <td>0.0</td>\n",
              "      <td>1.0</td>\n",
              "      <td>Jumbo found injured in Similipal\\n2013-01-01 10:47:00\\nDays after death of two female elephants, another elephant was found injured inside Similipal reserve forest, forest officials said on Monday. The elephant is suspected to have been attacked by poison-tipped arrows.\\nSources said the animal was spotted at a place, nearly 4 km from Mahubhandar village of Gudgudia range under Karanjia forest division. It is alleged that the poachers tried to kill the jumbo suspecting it to be a tusker.\\nHonorary Wildlife Warden Vanoo Mitra Acharya alleged the forest officials failed to provide the elephant timely treatment even as it was struggling for life. “If the locals are to be believed, the jumbo was attacked over a fortnight ago and it moved from Manda range to Jatipur and Jatipur to Chahala before reaching  Gudgudia. Though the officials claimed to have been tracking her, no treatment was provided,” he said.\\nAcharya said it was not a single incident that exposed lack of skills among the officials to save the life of Gajaraj. He said in a month at least four elephants were killed by the poachers.</td>\n",
              "    </tr>\n",
              "    <tr>\n",
              "      <th>43</th>\n",
              "      <td>0.0</td>\n",
              "      <td>1.0</td>\n",
              "      <td>13 PW naxals surrender | Hyderabad News - Times of India\\nTNN | Sep 12, 2001, 01:50 IST\\n13 PW naxals surrender\\nTNN | Sep 12, 2001, 01:50 IST\\nhyderabad: citing ideological disillusionment and ill-health, 13 people's war naxalites, including two prominent leaders, gave up their underground life and surrendered before director-general of police h j dora here on tuesday. among those surrendered are mandala rajesham alias madhu, commander of the 5th military platoon pw operating in karimnagar district and vellepu narsaiah alias siddaiah, commander of pw manthani squad.they carried a reward of rs 2 lakh each on their heads. talking to reporters in dgp's presence, rajesham and narsaiah said naxalites had lost support base among the people. it is impossible to achieve the revolution in the present context, rajesham said. narsaiah, who witnessed the killing of 14 naxalites branded as 'coverts' in june this year, said he protested the decision.we know that some of those killed could have been genuine party workers, but our leaders did not heed to our advice, he said. the dgp said rajesham was involved in about 60 cases, including attacks on pothakapalli police station and the cisf camp at goleti in adilabad district. narsaiah was facing 45 cases, including the killing of konaraopet si srinivas goud and chandurty si srinivas rao. dora said the minor cases involving the surrendered naxalites would be withdrawn, but not the grievous offences.</td>\n",
              "    </tr>\n",
              "    <tr>\n",
              "      <th>44</th>\n",
              "      <td>0.0</td>\n",
              "      <td>1.0</td>\n",
              "      <td>Bellary groups plan strike for water | Bengaluru News - Times of India\\nTNN | Aug 24, 2001, 23:09 IST\\nTop Searches:\\nBellary groups plan strike for water\\nTNN | Aug 24, 2001, 23:09 IST\\nbellary: the non-congress parties including the left, students, farmers and women's organisation have asked the karnataka government to take steps to develop drinking and irrigation facilities in bellary taluk. about 25 villages from kuditini village to karekal veerapur fall in the drought range. the members held a meeting at the government guest house and chalked out the strategies they would resort to in case their demands were not met. the general secretary of janata dal (united) n. pratap reddy on friday said, the bara peedithara halligala horata samithi had been selected as the interim forum for the struggle. he told reporters, \"in future, this forum will be expanded and will fight for the benefit of drought prone villages in this region.\" the members demanded the karnataka government rejuvenate the pending schemes like the lift irrigation schemes which was taken up earlier and conveniently forgotten. he suggested the karnataka government treat these villages as drought prone ones and initiate water development schemes. the members said, the samiti would formulate an experts committee comprising the technical experts headed by former chief engineer rudramuni swamy to suggest and guide the karnataka government in the water borne schemes. the members also blamed the district administration for its failure to take up scarcity relief work in these villages. they alleged, the administration had failed to keep up its promise that it would provide work in mincheri and halkundi last tuesday when a rally had been held in town. \"but till now, no work has been started in these villages\", he added. the members said, fodder is badly needed in villages to feed the starving cattle. \"the administration must ensure the supply of uninterrupted fodder to villages to save the dying cattle\", the members demanded. the leaders also submitted a memorandum to the deputy commissioner jawaid akhtar. they added, their demands must be met by next week. if it was not done, they threatened to resort to dharnas at paramadevanahalli as it is the central village and is convenient for all the surrounding 25 villages.</td>\n",
              "    </tr>\n",
              "    <tr>\n",
              "      <th>45</th>\n",
              "      <td>0.0</td>\n",
              "      <td>1.0</td>\n",
              "      <td>CHENNAI:\\nChennai sees its first ever hunger fast against HCL - TAMIL NADU - The Hindu\\nApril 08, 2013 00:00 IST\\nApril 08, 2013 07:15 IST\\nmore-in\\nFor the first time in Chennai, graduates denied jobs by a multi-national corporation who had recruited them from their college campuses, staged a hunger strike on Sunday.\\nAs many as 59 recruits who had graduated from different colleges of the State came together for the fourth time to demand answers from HCL Technologies, the company that had recruited them in 2011.\\n“HCL was given the first slot in most of our colleges because we all trusted their reputation. All of us here are students who have obtained a first class, many with a distinction, who got jobs on the first day of campus recruitments,” said a graduate.\\nSince most colleges follow a ‘one person one job’ policy, we could not even sit for interviews of other companies who came after HCL, he added.\\nThe recruits, at Valluvar Kottam shouted slogans including, “HCL lend us your ears, give us back our two years,” while undertaking the day-long fast.\\n“We met HCL officials twice at their Haddows Road office, but every time we did, they asked us to wait until August. How long are we supposed to wait hoping they will call us someday?” asked another recruit.\\n“Also, the ‘letter of intent’ the company gave us is valid only till this June. We are worried that they may use this to completely deny us jobs,” said a graduate.\\nThe students were also supported by activists from Knowledge Professionals Forum, a support group for IT employees.\\nR. Suthir, an activist, said: “The situation in the IT industry is really grave and this problem is faced by many companies. But HCL’s handling of the situation has been worse than most.”\\nThe recruits have also sought the intervention of the labour commission to help sort out their problem.\\nRelated Topics</td>\n",
              "    </tr>\n",
              "    <tr>\n",
              "      <th>46</th>\n",
              "      <td>0.0</td>\n",
              "      <td>1.0</td>\n",
              "      <td>UAS reopening put off by a week | Bengaluru News - Times of India\\nTNN | Sep 29, 2001, 00:34 IST\\nTop Searches:\\nUAS reopening put off by a week\\nTNN | Sep 29, 2001, 00:34 IST\\nbangalore: prohibitory orders which were imposed on the gkvk campus of the university of agricultural sciences (uas) on thursday following the violence was lifted on friday. the four platoons of armed police and other units stationed there have since been withdrawn. vice chancellor a.m. krishnappa said, \"all work on the clearing of land has been stopped. the classes will resume on monday.\" \"i spoke to the agricultural minister t.b. jayachandra on friday and appraised him of the situation,\" he added. krishnappa met chancellor of the university v.s. ramadevi on thursday and appraised her. he said an emergency meeting of the board of regents of the uas will be held at the earliest date, perhaps on october 3 or 4. the issue of the transfer of the land for the biotech park will be decided then. but, what is interesting is that the secretaries of finance, agriculture and education are members of the board and it is anybody's guess what their decision will be. asked what the final outcome would be the vice chancellor said, \"finally it is a decision by the government.\" meanwhile, scores of students gathered at the gkvk campus and replanted saplings at the site where trees had been uprooted. on friday the teachers, non-teaching staff, labourers and students went to their nursery picked up trees and planted them at spot from where trees had been planted. emotional scenes marked the tree replanting. some were seen wiping their tears. it may be recalled, the police began the lathicharge on thursday morning when the students hugged the trees. the staff and visiting leaders from various political parties like former agricultural minister byre gowda, opposition leader in council k.h. srinivas, deputy leader of opposition in council basavraj bommai and others too planted saplings. over a hundred saplings were replanted. it may be recalled earth movers had uprooted trees in a protected area where bees, trees for germplasm are grown. several protected flora and fauna inhabit the protected area. the times of india visited the hostels where some of the injured students lay. the vice chancellor would give a list of the names of the 31 seriously injured and the 16 arrested, to the government. many of the students had left to their homes. l. thimma naik, an msc student who had been beaten badly lay in bed with a fractured ankle. other students yadagiri, thejas, muthuraj who suffered head injuries had gone home. more than half of the students had gone home for a long week end. the joint action committee leader dasappa said, \"we will continue the struggle.\"</td>\n",
              "    </tr>\n",
              "    <tr>\n",
              "      <th>47</th>\n",
              "      <td>0.0</td>\n",
              "      <td>1.0</td>\n",
              "      <td>1st anniversary of anti-power hike rally | Hyderabad News - Times of India\\nTNN | Aug 29, 2001, 00:35 IST\\n1st anniversary of anti-power hike rally\\nTNN | Aug 29, 2001, 00:35 IST\\nhyderabad: processions, rallies and condolence meetings by the congress and the left parties marked the first anniversary of the protest rally against power tariff hike in which three people lost their lives on this day last year in the city. the three-month long agitation culminated in a bloody scene at bashirbagh on august 28 last year when a major clash between the rallyists and the police resulted in police firing in which three were killed and many were injured. the opposition parties had organised a 'chalo assembly' procession which suddenly turned violent. the police beat up the crowd first but resorted to firing when they were unable to control the mob. the leaders and activists of the congress and the left parties paid floral tributes to balaswamy, ramakrishna and vishnuvardhan reddy who died in the police firing. the congress leaders held a meeting at the babu jagjivan ram statue near l b stadium while the left parties organised a silent march from basheerbagh to gun foundry to mark the occasion. addressing the congress leaders and activists, andhra pradesh congress committee (apcc) president m satyanarayana rao said the sacrifices made by the three youth did not go waste. people had expressed solidarity with them in the form of ballot in the recent elections to the local bodies. \"chief minister n chandrababu naidu should respect the people's mandate and change his policies,\" he said. he said this was not just an opposition demand. even naidu's own legislators were seeking the changes, he added. senior congress leaders k rosaiah, g venkataswamy, p sudhakar reddy and others participated in the meeting. leaders of the nine left parties -- including the cpi, cpm, cpi (ml-nd), mcpi and cpi (mljanasakhti) -- reiterated that they would continue their struggle against the world bank-dictated anti-people reforms being pursued by the naidu government in the state. they demanded that the government immediately withdraw the cases filed against 22 left leaders as well as scores of activists during the agitation.</td>\n",
              "    </tr>\n",
              "    <tr>\n",
              "      <th>48</th>\n",
              "      <td>0.0</td>\n",
              "      <td>1.0</td>\n",
              "      <td>TAMIL NADU\\nDemonstration staged - TAMIL NADU - The Hindu\\nSeptember 17, 2012 00:00 IST\\nSeptember 17, 2012 05:59 IST\\nmore-in\\nMembers of Popular Front of India staged a demonstration in Tirupur on Saturday against anti-Islam film. S. Abutahir, spokesperson of PFI, said that circulation of the film’s video should be banned.\\nRelated Topics</td>\n",
              "    </tr>\n",
              "    <tr>\n",
              "      <th>49</th>\n",
              "      <td>0.0</td>\n",
              "      <td>1.0</td>\n",
              "      <td>HYDERABAD:\\n‘Persecution of students creating new solidarities’ - TELANGANA - The Hindu\\nOctober 10, 2016 00:00 IST\\nOctober 10, 2016 04:05 IST\\nmore-in\\nStudents’ movement pose biggest threat to Hindutva forces: JNU activist\\nBharatiya Janata Party (BJP)-led government’s ‘persecution’ of students in educational institutions, including University of Hyderabad (UoH) and Jawaharlal Nehru University (JNU), resulted in forging of solidarities between various campuses, said Umar Khalid, a student activist of JNU who was slapped with sedition charges in February this year.\\nHe was delivering human rights activist K. Balagopal Memorial Lecture here on Sunday. Mr. Khalid who called himself an anti-national, branded so by the media, said students’ movements posed the biggest threat to Hindutva forces and an attack on campuses after BJP ascended to power was expected. “When they went after Rohith Vemula they were not attacking a person. They were attacking a student leader and a fighter. They were also attacking Ambedkarite politics,” he said adding the BJP government tried to disrupt ‘justice for Rohith Vemula movement’ by cracking down on JNU students, including himself who supported Kashmir’s right to self determination.\\nNew solidarities\\nMr. Khalid said the slogan ‘Jai Bhim, Lal Salam’ that developed out of larger solidarities between students brings a ray of hope of meeting of two ideologies. The question of caste and the question of patriarchy are very important questions of times and these questions are internal to revolutionary transformation, Mr. Khalid, who holds a radical Left world-view, said.\\nChallenging the government who ‘tried to rein-in students’, Mr. Khalid said: “They wanted to teach us a lesson. But we haven’t learnt that lesson. We will continue to uphold our political views.” Remembering Mr. Balagopal, who was a renowned lawyer, writer and activist, had helped contextualise political movements of his times, Mr. Khalid said “You could either agree or disagree with him but you could never have ignored him.” Human Rights Forum organised the meet to commemorate the seventh death anniversary of Mr. Balagopal.\\nStruggle for rights\\nOther speakers in the meet included member Communist Party of India’s National Council and president of Adivasi Mahasabha Manish Kunjam, faculty member in University of Hyderabad K. Y. Ratnam and Zameer Ahmed of Jammu Kashmir Coalition of Civil Society.\\nMr. Kunjam, who has been working in conflict-affected Bastar of Chhattisgarh, said the condition of Adivasis in Bastar is as bad as Kashmiris. From media blackout to targeting leaders, Bastar police has tried every possible way to suppress people’s movements for rights. Prof. Ratnam, who was one of the faculty members who got arrested during the unrest in UoH on March 22, rejected Justice Roopanwal Commission report that declared Rohith Vemula non-Dalit.\\nRelated Topics</td>\n",
              "    </tr>\n",
              "    <tr>\n",
              "      <th>50</th>\n",
              "      <td>0.0</td>\n",
              "      <td>1.0</td>\n",
              "      <td>Vested interests interfering in varsity affairs\\n| Jul 16, 2001, 02:02 IST\\nahmedabad: in his 25-year-long illustrious career as a senior academician and as principal of h.a. commerce college, not once did c.b. raval have to suffer such humiliation at the hands of wayward students. he was obviously in for a rude shock on thursday when a bunch of rowdies roughed him up and slapped him right in the middle of the college campus! here, some with vested interests may want to dismiss this as a violent act by agitated leaders to ensure that all colleges downed their shutters and conform to the bandh call given to protest against the police excesses on the students of homeopathy colleges of north gujarat university. but the fact is that the students were actually out to settle scores. \"their main grouse was why the college had refused to concede to their demands to transfer a few gujarati medium students to english medium. college policy demands that for such transfer, the student should atleast have 65 per cent marks in english. how on earth could we have relented and transferred students with lesser marks?\", says raval. the 60-year-old raval confesses to have been badly hit on the shoulder and instinctively nurses the wound at the mere mention of the physical assault on him. but did the nsui not claim that they were forced to ransack the college as authorities resisted to close down? \"it is all nonsense. our college had not even begun, so where was the question of arguing over closing it down?\" questions raval. one is not surprised as student leaders in the gu campus have increasingly got habituated to the principals and college managements granting favours like admitting recommended students, giving mid-term admissions, etc. and buy peace. for those who refuse, they know what to expect: a group of rowdy boys creating a riot, breaking furniture and once in a while breaking the jaw of the principal himself. ask dharamsinh desai commerce college principal, nadiad m k trivedi who was punched on the face with a knuckle-duster not so long ago by a group of student leaders led by an mla for refusing admission to a relative. or j d acharya of c u shah arts college who was manhandled by a self-proclaimed student leader for refusing admission. even the police initially refused to file a complaint fearing the leader's political connections! it is well-known that for rs 8,000, student leaders can get you admission to what is known in gu circles as the 'super six' colleges - h a commerce college, h l commerce college, navgujarat, l j college of commerce, h k arts college and the c u shah college. lesser known colleges are cheaper, with admissions available between rs 2,000 to rs 5,000. \"the system actually works because each year has a share of gullible students hitting the campus who gladly run into the arms of sympathetic student leaders who promise them a seat in the college of their choice\", points out a senior gu official. take the case of one jyotsna who had scored 81 per cent in hsc (general). given the extraordinarily high result declared this year, she was led to believe that she stood no chance in getting admission in h l, h a commerce colleges or other reputed colleges unless she took favour of the clout enjoyed by student leaders. insecure as she was, jyotsna counted upon the leaders and willingly handed over her marksheet to them. two days back, she did get admission in h a commerce college but through the centralised process for left-out students who could not get admission anywhere because of low marks! \"jyotsna is not an isolated case. there are atleast eight students with above 76 per cent marks who have been referred to us by the gu as left-out students. what pains here is that all of them could have easily got admission in our college on the first day itself on merit-basis\", raval says. only on friday, the gu, encouraged by co-operation promised by the state government and police department, has drawn a comprehensive plan to thwart any more violent incidents on the campus. \"but managements themselves have been widely known to use the student bodies to gain political one up-manship in the university. unless they give up on this and put up a united front, this violence menace is bound to come again,\" points out a senior gu academician.</td>\n",
              "    </tr>\n",
              "    <tr>\n",
              "      <th>51</th>\n",
              "      <td>0.0</td>\n",
              "      <td>1.0</td>\n",
              "      <td>6 UN workers killed in Kabul attack - Indian Express\\n,   : Kabul, Thu Oct 29 2009, 02:39 hrs\\nTaliban militants killed six UN foreign staff in an attack on an international guesthouse in Kabul on Wednesday, deepening concerns about security for a presidential election run-off due in 10 days.\\nThe Taliban have vowed to disrupt the November 7 run-off as President Barack Obama weighs whether to send more troops to Afghanistan to fight an insurgency that has reached its fiercest level in eight years.\\nThe militants said they had targeted the guesthouse because of the UN's role in helping organise the presidential run-off vote. \"We have said that we would attack anyone engaged in the process and today's attack is just a start,\" Taliban spokesman Zabihullah Mujahid told Reuters by telephone.\\nThe UN, which has operated in Afghanistan for more than half a century, said the attack would not deter it from its work, adding however that it may review security measures.\\n\"We will in light of this morning's tragedy look at whether other appropriate measures needed to be taken to protect all our staff,\" said U N mission chief Kai Eide.\\nThe nationalities of the U N staff killed were unclear, but the US embassy said one American was among those killed. Adrian Edwards, a U N spokesman in Kabul, said nine UN staff had been wounded in the attack.\\nPresident Hamid Karzai's palace and police said at least one Afghan civilian and three policemen also died.\\nThe attackers wore police uniforms to secure entry into the guesthouse, police said. A Reuters reporter saw the bodies of three of the suspected suicide bombers, apparently ripped apart when they detonated their explosives, lying inside the compound. The sound of gunfire and sirens echoed across the capital for hours.\\nAbdul Ghaim, a policeman at the guesthouse, said police believed the attackers were Pakistanis. Many of the insurgents in Afghanistan either shelter in, or are from, Pakistan.</td>\n",
              "    </tr>\n",
              "    <tr>\n",
              "      <th>52</th>\n",
              "      <td>0.0</td>\n",
              "      <td>1.0</td>\n",
              "      <td>Top Searches:\\nCauvery: Vazhapadi asks Union ministers to quit\\nSep 16, 2001, 23:55 IST\\nchennai: tamizhaga rajiv congress president vazhapadi k ramamurthy on sunday demanded the resignation of all ministers from tamil nadu in the vajpayee ministry to protest the centre's 'inaction' in ensuring that karnataka released water from cauvery to save standiang crops in delta region. ramamurthy told reporters after his party's general council meeting here that according to reports, karnataka had enough water to meet the needs of both the states. while stating that a supreme court judgement alone could bring about a permanent solution to the vexatious issue, he said his party would abide by whatever decision the tamil nadu government took to overcome the problem.</td>\n",
              "    </tr>\n",
              "    <tr>\n",
              "      <th>53</th>\n",
              "      <td>0.0</td>\n",
              "      <td>1.0</td>\n",
              "      <td>Assault on RSS man: MLA warns cops | Bengaluru News - Times of India\\nTNN | Sep 11, 2001, 23:54 IST\\nTop Searches:\\nAssault on RSS man: MLA warns cops\\nTNN | Sep 11, 2001, 23:54 IST\\nmadikeri: somwarpet mla appachu ranjan on monday issued a warning that the kushalnagar police station would be picketed if no action was initiated against police officials involved in assaulting a rss volunteer in kushalnagar recently. ranjan addressing reporters here on behalf of the bajrang dal and hindu jagarana vedike alleged a fulltime rss volunteer krishna karanth was assaulted by kushalnagar dysp, ci, si and others. the law and order situation in kushalnagar was deteriorating, he observed. he said, the kushalnagar police had completely failed to control maxicabs in the area. he said, the kushalnagar police was collecting bribes of rs. 300 each from 80 maxicab owners monthly. he demanded the superintendent of police visit the police station and take stock of the situation. ranjan said he would register a complaint with the home minister. he also called on the police to take steps against impostors collecting money illegally in the district. the police should also act against those involved conversions, he added. he urged the deputy commissioner ramachandra to visit the drought-affected areas of abburkatte, nidtha, alur-siddapur panchayat and send a report to the government.</td>\n",
              "    </tr>\n",
              "    <tr>\n",
              "      <th>54</th>\n",
              "      <td>0.0</td>\n",
              "      <td>1.0</td>\n",
              "      <td>Teachers blink first, call off strike | Ahmedabad News - Times of India\\nTNN | Sep 13, 2001, 00:53 IST\\nTeachers blink first, call off strike\\nTNN | Sep 13, 2001, 00:53 IST\\nahmedabad: looming police arrest under esma and crumbling support in wake of the strict disciplinary measures unleashed by the government, saw the teachers turn tail and announce to unconditionally withdraw the 15-day-old strike on wednesday. the teachers will return to the classrooms on thursday. \"we unconditionally withdraw the strike in the interest of our students at large. all teachers will resume their duties from thursday onwards\", announced president of the gujarat rajya shaikhanik sankalan samiti keshubhai patel amidst heavy criticism from the teachers after the meeting of key 150 representatives of the samiti members at sarthak bhavan in paldi. the resolution was passed at 10.30 am on wednesday morning, just one and half hours before the 12 noon deadline set by the state government to declare the strike illegal ended. with this, the various college, university and non-teaching staff unions, have also called off their complete education bandh call for thursday, where all educational activities in the state were supposed to come to a grinding halt for one day. the decision to call off the strike evoked sharp criticism from majority of striking teachers and principals who raised hell outside the sarthak bhavan, alleging that the leaders spearheading the strike have compromised on their cause after their vested interests were taken care of. prime issue of concern was the loss of face and also the loss of 15 days' salary - all this with no gains. \"the leaders have sold themselves off to the government. with their pockets stuffed, they have now called off the strike\", alleged a agitated teacher immediately after the leaders announced their decision. \"why did they involve us in this 15-day drama if they were to back off like cowards? not a single demand has been fulfilled, so on what basis have they declared to call off the strike? what face will we show to the society, what was the point for our fight\", fumed two lady teachers outside the sarthak bhavan. leaders of the samiti justified the decision to end the strike saying that they were left with no other option. \"we could see that the government was not at all interested in resolving our issues. for how long then could we have stretched and harmed our students' education\", said patel. patel also said that they were requested by a number of persons and organisations to call off the strike for the sake of students, international secretary of the vhp pravin togadia and the gujarat chamber of commerce and industry among them. union minister of state for heavy industries vallabh kathiria also pressed to end the strike. samiti leaders confessed that they had achieved nothing out of the 15-day long strike. \"we accept that we have achieved nothing. but nevertheless, we have shown our strength to the government\", said samiti leader and former president of the gujarat rajya acharya sangh naranbhai patel. when questioned about the great opinion divide amongst the samiti members with the teaching fraternity sharply contesting the decision to withdraw, patel said that the rift was an internal matter and will get resolved on its own. \"they all are our brothers and sisters. we will sort out the issue amongst ourselves\", patel said. curiously, samiti president keshubhai patel appealed to the government to resolve their issues at the earliest. he also urged the government to withdraw all notices of disciplinary action against the school managements and the teachers. \"if this is not announced by thursday, i will sit on fast-unto-death\", said keshubhai patel.</td>\n",
              "    </tr>\n",
              "    <tr>\n",
              "      <th>55</th>\n",
              "      <td>0.0</td>\n",
              "      <td>1.0</td>\n",
              "      <td>Childless couple 'sacrifice' baby | Delhi News - Times of India\\n| TNN | Sep 5, 2001, 00:00 IST\\nChildless couple 'sacrifice' baby\\nSIMBHAOLI (Ghaziabad): A 17-month-old baby was allegedly sacrificed by a childless couple here at the instance of a &lt;if&gt;tantrik&lt;nf&gt; who is now untraceable.\\n| TNN | Sep 5, 2001, 00:00 IST\\nsimbhaoli (ghaziabad): a 17-month-old baby was allegedly sacrificed by a childless couple here at the instance of a tantrik who is now untraceable. hundreds of people have been demonstrating at the simbhaoli police station in ghaziabad for the past three days demanding the tantrik's arrest. the couple, who allegedly kidnapped and sacrificed the child, have been arrested along with two other members of the family. although the police are not convinced by the sacrifice theory, they have not been able to come up with an alternative motive either. deputy superintendent of police s k kaushik termed the murder ``motiveless''. police station chief, h p singh, had a curious explanation. ``it seems chhotu, of bharna village, accidentally brushed against bholu, who was playing on the street near his house. thinking that bholu may be injured, chhotu took him home. meanwhile, a search for bholu had begun. scared that villagers may wonder why bholu was in their house, chhotu and his wife, shashi, killed the child by repeatedly hitting him on the head with a brick. then, they buried him in a pile of cattle feed,'' singh said. singh said he had no information about any tantrik. according to police sources, bholu, son of mange and krishana of bharna, was playing outside his house at about 3.45 pm on saturday. since then, he was untraced. suspecting a sacrifice, the villagers cordoned off the village and started a house-to-house search. ``chhotu and shashi did not allow their house to be searched,'' said singh. later, about 3.45 on sunday morning, shashi was seen carrying away bholu's body wrapped in a scarf. the villagers nabbed the couple and, after searching their house, found blood in a pile of cattle feed. the autopsy report said bholu's head bore several injuries. the boy had died of shock and bleeding resulting from the injuries. villagers maintained that shashi, who had not conceived even after four years of marriage, was guilty. they the tantrik had also been ``treating'' three other women of bharpan village for infertility. however, despite interrogation, the police failed to establish any plausible motive for boy's murder. they, however, did not that it was a human sacrifice. to make matters worse, police had at first registered a case of culpable homicide not amounting to murder. after angry residents protested at the police station, they changed the charges to murder and attempting to destroy evidence.</td>\n",
              "    </tr>\n",
              "    <tr>\n",
              "      <th>56</th>\n",
              "      <td>0.0</td>\n",
              "      <td>1.0</td>\n",
              "      <td>Aurangzeb's Discriminatory Policies\\n2014-08-28 06:00:00\\nAurangzeb’s obsessive drive to harass and convert all infidels to Islam led him to promulgate laws that were not only blatantly discriminatory but also petty and mean towards the minorities. For instance, he ordered that no Hindu should ride a palanquin, an Arab horse or an elephant without permission. However, Aurangzeb was shrewd enough to realise that he could not apply these restrictions to the Rajputs or other martial communities whose services the Mughals could not do without. And so the Rajputs and other Hindu clans who were on the payroll of the Mughal army were exempt from these regulations. In Aurangzeb’s eyes, the Shias were as good as infidels but he did not allow his prejudice to interfere with political expediency.\\nWhen an amir complained to him about the prominent role played by the Shia Persians in the court, the wily Aurangzeb rebuked him saying that “religion had no place in worldly affairs.” But it was the Jizya that became the most dramatic and blatantly racist expression of Aurangzeb’s anti-Hindu policies. The Jizya was abolished by Akbar in 1564, but on April 12, 1679, Aurangzeb reimposed it. The promulgation of this tax on Hindus was not only opposed by the Hindus but also by important Muslims in the court who argued that the tax was against the tenets of the Mughal empire. But Aurangzeb was stubborn. Even his beloved sister Jahanara pleaded with him, but in vain. She warned him that such a measure could create irreparable fissures in the kingdom.\\nAn earthquake struck Delhi after the reimposition of the Jizya, which was a bad omen. Entreaties were made to the emperor again to reconsider his decision but it was not to be. On the contrary, Aurangzeb said that the trembling of the earth was an expression of the joy it felt at the measures he was adopting towards the propagation of Islam. Jahanara’s warning of a rebellion almost became a reality when large numbers of Hindus congregated in Delhi in an attempt to persuade the emperor. One day, when he went to public prayer in the great mosque on the Sabbath, a vast multitude of Hindus thronged the road all the way from the palace to the mosque, hoping against hope that the crowd would weigh on the emperor to reconsider his decision.\\nDespite his orders to force a way through, it became impossible for the emperor to reach the mosque. An order was given to bring out the elephants and direct them against the mob. Predictably many were trodden to death.  Yet many Hindus continued to protest. But finally they had no choice but to give in and pay the Jizya. Some Brahmins in Delhi went on a fast against the Jizya but they too had to swallow their pride and give in when they saw that other Hindus had  started paying the Jizya.\\nIt was the ordinary Hindus and their local leaders who stood up to protest against the Jizya. There was barely a murmur of protest from the Hindu chiefs serving the emperor who had their careers to think about. Shivaji was the only Hindu king who protested. But he was Aurangzeb’s bitter foe  and had nothing to lose.  He wrote a long letter that dripped with sarcasm to the emperor. In the letter, he taunted Aurangzeb saying that the emperor of Hindustan covets beggar’s bowls, takes Jizya from Brahmins and Jains, yogis, sanyasis, bairagis, paupers and the famine-stricken. By his attacks on the wallets of beggars, he had brought dishonour to his ancestors. He reminded Aurangzeb that the Quran referred to god as ‘rabb-ul-alamin’ or ‘lord of all men’ and not ‘rabb-ul-musalmin’ or ‘lord of the Muhammadans’.  Shivaji argued that the Jizya was not only unjustifiable but also unlawful. Even when Aurangzeb was told that the Jizya was driving Hindu traders away from the Mughal territory in the Deccan, he remained indifferent and rejoiced when he learnt that many Hindus had turned Muhammadean as they were unable to pay the Jizya.</td>\n",
              "    </tr>\n",
              "    <tr>\n",
              "      <th>57</th>\n",
              "      <td>0.0</td>\n",
              "      <td>1.0</td>\n",
              "      <td>Thiruvananthapuram:\\nProtest against assault on woman in Kochi - KERALA - The Hindu\\nJune 25, 2011 00:00 IST\\nJune 25, 2011 04:11 IST\\nmore-in\\nDozens of people, including women, took out a ‘Freedom Walk' through the main thoroughfare of the city on Thursday midnight in protest against the alleged assault on Tasni Banu, a woman BPO employee of the Infopark in Kochi a few days ago.\\nThe march started from the Martyrs' Column at Palayam and concluded before the Secretariat.\\nThe participants raised slogans demanding stern action to check atrocities against women in the name of moral policing.\\nThe programme organised by the Centre for Film Gender and Cultural Studies also included recital of poems, a painting demonstration by Shanto Antony and a street play directed by Rosha Nara Mehrin.\\nT.N. Seema, MP, Santhosh Vilson and Ramkumar addressed the participants. K.G. Suraj presided over the protest meeting.\\nRelated Topics</td>\n",
              "    </tr>\n",
              "    <tr>\n",
              "      <th>58</th>\n",
              "      <td>0.0</td>\n",
              "      <td>1.0</td>\n",
              "      <td>BJP deriving mileage from Madhavpura revival: Cong\\nTNN | Sep 20, 2001, 00:15 IST\\nahmedabad: the gpcc has lodged a complaint before the chief electoral officer alleging that the bjp was deriving undue political mileage out of the revival of the madhavpura mercantile co-operative bank. this came after the bjp published advertisements in newspapers and distributed hand-outs in the sabarmati assembly constituency _ where by-elections slated for thursday _ claiming credit for the revival of the bank. the letter by congress vice-president balubhai patel alleges that bjp candidate babubhai patel, mla amit shah, ministers haren pandya, kaushik patel, harin pathak, gordhan jhadaphia and kamlesh patel had met mmcb depositors and tried to impress on them the bjp's efforts to revive the bank. the bank, which had collapsed in the month of march in the aftermath of the scam linked to stock broker ketan parekh, had started returning deposits of customers only on tuesday, just in time for the bjp to take advantage in by-elections. as the contest between congress candidate narhari amin and bjp's babubhai patel got tough, the congress refused to give up. first there were allegations that the bjp had sent their workers from the minority community to hindu-dominated areas by having them pose as congress workers. then they said the bjp had misused government machinery, and then came the mmcb publicity issue. now they say the bjp has spread rumours about certain \"congress members being suspended for anti-party activities\". word got around on tuesday that congress members vishnu patel and o p sharma from sabarmati had been suspended for anti-party activities. city congress president rajkumar gupta, however, denied this. \"the bjp is spreading this rumour, which is not true,\" amin asserted. irked with the mmcb ads, congress member girish dani told tnn, \"the money was released by the rbi, and it is not from their pockets... then why are they taking credit for it.\" interestingly, amin's supporter and former bjp mla yatin oza also alleged that the \"state government had influenced the police to book certain congress workers under pasa, extern them or notify them for preventive detention.\" police sources admit that this time the bandobast would heaviest ever seen in any by-election, with at least eight srp companies and two raf companies deployed in the constituency. as part of preventive measures, four persons were detained under pasa and 31 persons served externment notices. reacting to oza's allegation, additional commissioner of police shivanand jha said, \"we will take action on anybody, whether from the congress or bjp, if they are likely to disrupt the election process.\" confirming the stringent security arrangements, jha</td>\n",
              "    </tr>\n",
              "    <tr>\n",
              "      <th>59</th>\n",
              "      <td>0.0</td>\n",
              "      <td>1.0</td>\n",
              "      <td>BBA threatens stir | Ahmedabad News - Times of India\\nBBA threatens stir\\nTNN &amp; Agencies | Aug 13, 2001, 23:08 IST\\nvadodara: the baroda bar association (bba) has threatened to stage an agitation over delay in setting up a debt recovery tribunal (drt) in the city. functionaries of the association here stated that the delay is due to lobbying for setting up the tribunal elsewhere. a decision to set up the tribunal in vadodara was taken after the 1999 budget. bba president narendra tiwari said that at present the only drt in the state was in ahmedabad. tiwari added that the need for another drt was felt, as officials of banks and financial companies as well as debtors had to travel to ahmedabad for pending cases. an advertisement for appointment of staff was given in february, 2001. however, a release here stated that the process has been stalled since then. according to tiwari, intense lobbying was being done by political leaders to set up the tribunal in other cities. \"the leadership in vadodara has done little for the issue. the elected representatives of the city must take up the issue,\" tiwari said adding that if the tribunal is set up elsewhere, the bba would stage an agitation.</td>\n",
              "    </tr>\n",
              "    <tr>\n",
              "      <th>60</th>\n",
              "      <td>0.0</td>\n",
              "      <td>1.0</td>\n",
              "      <td>Killed over right of way | Ahmedabad News - Times of India\\nTNN | Sep 6, 2001, 23:19 IST\\nKilled over right of way\\nTNN | Sep 6, 2001, 23:19 IST\\nahmedabad: a man was killed by his neighbours following a fight over using the approach road at bhudaji khetar na chhapra in maninagar on tuesday night. the victim, jorabhai chunara, and his neighbour, vinubhai chunara, fought over using the approach road on tuesday, when vinubhai attacked jorabhai. the same night around midnight, vinubhai and amrutbhai came to jorabhai's house and began to abuse him and his wife, mangaben. the man warned vinubhai against using abusive language and was beaten by an iron pipe on the head. his wife tried to intervene and got hurt in the process. several others from the neighbourhood intervened and began to beat up jorabhai, killing him in the process. mangaben then lodged a complaint at maninagar police station.</td>\n",
              "    </tr>\n",
              "    <tr>\n",
              "      <th>61</th>\n",
              "      <td>0.0</td>\n",
              "      <td>1.0</td>\n",
              "      <td>Tiruvannamalai:\\nCab drivers, owners take out rally - TAMIL NADU - The Hindu\\nMay 22, 2012 00:00 IST\\nJuly 11, 2016 19:41 IST\\nmore-in\\nTourist cab drivers and owners took out a rally here on Monday demanding to scrap lifetime tax system introduced by Tamil Nadu government.\\nThe rally started from Kamaraj statue and proceeded through important roads of the town before culminating in front of Revenue Divisional Office.\\nTiruvannamalai District Tourist Car, Van Dirvers-Owners Welfare Association that organised the rally insisted that old tax system should continue. They also demanded the government to give tourist vehicle permit only to those who have driving licence. They wanted the government to give pension to old aged and impoverished cab drivers. At the end of the rally they submitted a memorandum to Revenue Divisional Officer V. Bupathi.\\nRelated Topics</td>\n",
              "    </tr>\n",
              "    <tr>\n",
              "      <th>62</th>\n",
              "      <td>0.0</td>\n",
              "      <td>1.0</td>\n",
              "      <td>BJP demonstration against RMC | Ahmedabad News - Times of India\\nTNN | Sep 6, 2001, 23:57 IST\\nBJP demonstration against RMC\\nTNN | Sep 6, 2001, 23:57 IST\\nrajkot: the city unit of bjp on wednesday took out a rally to protest against the congress-ruled rajkot municipal corporation's \"failure\" to provide basic amenities to the residents. the procession was led by city unit bjp president pratapbhai kotak, his secretary nitinbhai bhardwaj and leader of the bjp in municipal corporation babubhai patel. they reached the municipal headquarters and submitted a memorandum to the mayor criticising the rmc decision of not to provide water connection to the societies that were illegal and without completion certificates. the memorandum stated that during its 25-year-rule in the rmc, the bjp had provided basic amenities to nearly 30 per cent residential areas built illegally or which did not have any completion certificates. by laying down the condition that the rmc would not provide water connection to the residences that did not possess the completion certificates, the ruling congress in the civic body has played mischief with the poor and ordinary citizens of the city. the bjp threatened to launch an agitation on the issue if the rmc did not review its decision.</td>\n",
              "    </tr>\n",
              "    <tr>\n",
              "      <th>63</th>\n",
              "      <td>0.0</td>\n",
              "      <td>1.0</td>\n",
              "      <td>Christians allegedly attacked in Dahod | Ahmedabad News - Times of India\\nTNN | Aug 29, 2001, 22:40 IST\\nChristians allegedly attacked in Dahod\\nTNN | Aug 29, 2001, 22:40 IST\\nahmedabad: barely has the communal tension in ahmedabad subsided when the all india christian council alleged an attack on christians in dahod on august 25. an official release from national executive member of the council samson christian has said women officials and children from the i p mission orphanage at jobat village in madhya pradesh were on their way for a picnic in dahod, when they were attacked, both by the bajrang dal and the vhp as well as by the local police. according to the release, the children were on the way to kali dam in dahod when they stopped in the town to buy snacks and give a breather to the children who were nauseating after a long journey. even as the children were washing their faces at a hand pump when bajrang dal and vhp activists, led by kishan singh, surrounded them, took the keys away to the jeeps in which they were travelling and beat the women with sticks. when the women complained to a senior police official passing by, the keys to the jeeps were given back. the orphanage officials then went to the local police station, where, samsom alleges that, instead of registering a complaint against kishan singh and his men, police inspector baxilal soni and the constables again beat up the women. the women were asked to leave dahod immediately and not come back. as the dahod police have not registered a complaint, a fir has been filed at the jobat police station where the orphanage is based. the madhya pradesh police have sent a copy of the fir to dahod dsp knl rao as the crime took place in gujarat. samson fears that the gujarat police will not take any action against those who planned the attack and sent copies of the letter to the national human rights commission, the prime minister's office and to home minister l k advani.</td>\n",
              "    </tr>\n",
              "    <tr>\n",
              "      <th>64</th>\n",
              "      <td>0.0</td>\n",
              "      <td>1.0</td>\n",
              "      <td>3 CISF men suspended in trespassing case\\n2011-09-04 03:53:00\\nNEDUMBASSERY: CISF Commandant (Kochi Airport) Ajai Dahiya has placed three Central Industrial Security Force (CISF) personnel under suspension in connection with a boy trespassing into the airside of the Kochi International Airport here, on August 25.\\nThe suspended are havildars E K Sahu, Dutta and Gawali. One havildar was on watch tower duty and two others were apron guards.\\nThe airport witnessed a major security breach when a 12-year-old boy, Kiran, of Peringottukara, in Thrissur, trespassed into the city side of the airport.\\nThe boy was spotted by the CIAL apron control and the Air India ground handling staff. The boy was nabbed and handed over to the police.\\nThe inquiry into the incident revealed that the boy was innocent and he entered into the airside to have a close glimpse of the aircraft.\\nBut, it was mysterious that the CISF which was responsible for the security of the airside of the airport failed to prevent the intruder from entering into the airside.\\nThe preliminary inquiry into the incident was against the CISF personnel who were posted near the gate through which the boy would have entered the airside.</td>\n",
              "    </tr>\n",
              "    <tr>\n",
              "      <th>65</th>\n",
              "      <td>0.0</td>\n",
              "      <td>1.0</td>\n",
              "      <td>PT demands white paper on rural job scheme\\n2009-08-23 02:24:00\\nCHENNAI: Puthiya Tamizhagam (PT) leader K Krishnasami urged the Union government to come out with a white paper on the details regarding the implementation of the National Rural Employment Generation Act (NREGA) scheme in Tamil Nadu.\\nHe told reporters here on Saturday, that people, especially women, employed under the NREGA were getting much less than the Rs 80 per head as mentioned in the scheme.\\n“In some areas, rural women were given below Rs 40 and middlemen were pocketing the money under one pretext or the other,” he said adding that he has received many complaints from Virudhunagar, Tirunelveli, Ramnad and Tuticorin.\\nKrishnasami demanded that the wages should be raised from Rs 80 to Rs 100 and the money should be distributed through the rural post offices.\\nHe also suggested the setting up of a monitoring committee at the village level to ensure that jobs and money reached the people and below poverty line families.\\nKrishnasami revealed that his party activists would hold a rally in Chennai on September second week to protest the irregularities.\\nOn the swine flu, he said the State government should take precautionary measures especially after the outbreak of the disease in some foreign countries. “It is a known fact that such outbreaks occur in every 10 years. The government should have taken note of this fact,’’ he said.</td>\n",
              "    </tr>\n",
              "    <tr>\n",
              "      <th>66</th>\n",
              "      <td>0.0</td>\n",
              "      <td>1.0</td>\n",
              "      <td>3 Cong workers killed on phase-IV eve - Indian Express\\nKolkata, Mon Jul 22 2013, 01:36 hrs\\nOn the eve of the fourth phase of panchayat elections, widespread incidents of violence led to the death of three Congress workers on Sunday. The four districts of Nadia, Murshidabad, Malda and Birbhum, where polling will be held on Monday, are Congress strongholds, and the shadow of widescale violence looms large as over 80 per cent of booths in this phase are either marked as 'highly sensitive' or 'sensitive'.\\nPolice said two Congress workers  Nurmohhamad Sheikh and Ahad Ali  were killed after being hit by crude bombs late Saturday night at Kapasdanga in Murshidabad district. TMC workers have been accused of leading the attacks. There were reports of skirmishes and clashes, including stone pelting, in the area in which two policemen were injured. Another Congress worker, Repon Sheikh, was killed at Bharatpur in the same district during a clash between rival party supporters, the police said.\\nSpeaking to a TV news channel, Chief Minister Mamata Banerjee shrugged off the allegations that Trinamool cadres were behind the killing of the Congress workers. Accusing the CPM of instigating the violence, she said the deaths were result of clashes between the Congress and the Marxists.\\nEarlier in the day, in a statement posted on Trinamool website, the Chief Minister said in the fourth and fifth phases of the elections, where the Congress \"has a presence, the party will deliberately be up to mischief\".\\nBut Congress MP and Union minister from Murshidabad Adhir Chowdhury blamed the Trinamool for the violence. \"Trinamool is trying to create disturbances in tomorrow's elections, which is the reason why they are issuing such statements.\" He alleged that the police did act to prevent such incidents despite the party giving them inputs about the violence beforehand. \"The miscreants, who were earlier with the CPM and have recently joined the TMC, are responsible for the violence,\" Chowdhury said.</td>\n",
              "    </tr>\n",
              "    <tr>\n",
              "      <th>67</th>\n",
              "      <td>0.0</td>\n",
              "      <td>1.0</td>\n",
              "      <td>Bank chief beaten up, forced to resign | Bengaluru News - Times of India\\nTNN | Sep 19, 2001, 00:10 IST\\nBank chief beaten up, forced to resign\\nTNN | Sep 19, 2001, 00:10 IST\\ndharwad: the president of karnataka central co-operative bank, shivakumaragowda patil was assaulted at the bank premises on tuesday and forced to tender his resignation from the post. the elections for the post of president and vice president which were scheduled to be held on tuesday were postponed following violence in hubli. the incident occurred when shivakumargouda arrived at the bank head office on tuesday morning with his men. a verbal clash between shivakumar and dharwad zilla panchayat member from congress vinay kulkarni followed. hubli-dharwad municipal corporation house leader anilkumar patil also joined the row and shivakumargouda was beaten up in the melee. vinay and anil questioned the rationale behind the president sending a team of officials to recover small loans from farmers, while the president himself was a defaulter of rs 4 crore. they pressurised shivakumar to quit the post as his term had ended on monday. when the latter refused to oblige, he was allegedly beaten up. he was also forced to write down his resignation letter and the vice president was made was president in-charge. shivakumargouda has lodged a complaint with the dharwad town police. shivakumar, son of former co-operative minister s.s. patil has secured anticipatory bail from the second additional district judge, dharwad, apprehending his arrest by the dharwad town police in a criminal case filed against him. he has been charged with misusing his office and granting loans to the tune of rs 2.61 crore without taking sufficient security for the same. patil who was also director of varada sugars of dombaramattur in haveri district has been accused of being a defaulter as the sugar factory was not commissioned. karnataka minister for co-operatives, d.k. shivakumar during his visit to the kcc bank had expressed his displeasure at the state of affairs of the bank. the nabard had withdrawn its refinancing facility to kcc bank. goudappagouda mallikarjunagouda sankanagoudar, a member of grama seva sahakari bank, belawatagi had in a private complaint filed before the first additional chief judicial magistrate had alleged misuse of power by shivakumargowda in getting a loan of rs 2.61 crore, without taking sufficient security for the same. the matter was referred to assistant commissioner of police, dharwad, basavaraj malagatti under section 156 of criminal procedure code for investigation. the dharwad town police had registered a case against shivakumargowda patil and 23 others under section 120-b, 403, 420, 465, 471, 477-a, 109 read with 149 of ipc on the basis of the private complaint.</td>\n",
              "    </tr>\n",
              "    <tr>\n",
              "      <th>68</th>\n",
              "      <td>0.0</td>\n",
              "      <td>1.0</td>\n",
              "      <td>Top Searches:\\nTransport strike partial, chaos averted\\nTNN | Aug 29, 2001, 01:06 IST\\nnew delhi: as the authorities geared up on tuesday anticipating a near-riot situation following a transport strike over the cng issue, its effect was at best partial. all delhi transport corporation buses, including several running under the dtc's kilometre scheme, and even some private blueline buses were on the road. however, contract buses stayed off the road, along with most autorickshaws and taxis. the dtc plied 1,900 buses and about 2,426 buses under the km scheme. these include inter-state buses which were diverted to ply on the city's roads for the day. about 724 school buses also plied despite the strike call. the city did not witness the apprehended chaos as many preferred to remain indoors. said alok sharma, a computer firm employee, ''i did not even attempt to go to office.'' thus there was no overcrowding, unlike during the april strike when commuters had to travel on roofs of buses. at new delhi railway station, there were no autorickshaws and taxi drivers were charging the moon from tired passengers. ''i was being charged $4 for a trip to india gate. i did not go as my co-passengers asked me to wait till afternoon,'' an israli tourist said. passengers who arrived in rajdhani and shatabdi expresses between 10 am and 11 am had to wait for autorickshaws. at both airports the situation was normal as private taxis plied at pre-paid booths. around 60 instances of violence were reported from noida, mukherjee nagar, tilak nagar, trilokpuri, punjabi bagh, shakarpur and trans-yamuna areas. several transport unions, backed by bjp mp madanlal khurana, had given the call for strike, demanding an ordinance allowing low sulphur diesel for existing diesel-run buses. his call for a demonstration at rajghat, however, did not elicit much of a response. fearing overcrowded buses, many students did not venture out. in delhi university, the attendance fell to 50 per cent. some schools declared the day off. government schools remained open.</td>\n",
              "    </tr>\n",
              "    <tr>\n",
              "      <th>69</th>\n",
              "      <td>0.0</td>\n",
              "      <td>1.0</td>\n",
              "      <td>Hindus in southwest Pak protest extortion attempt - Indian Express\\n,   : Islamabad, Mon Jun 06 2011, 10:19 hrs\\nMembers of the minority Hindu community observed a strike in Khuzdar town in southwest Pakistan after unidentified armed men tried to extort money from a trader at gunpoint.\\nThe strike was observed by Hindu traders yesterday following the extortion attempt targeting businessman Karpal Das.\\nThe armed men broke into Das' departmental store on Masjid Road, the busiest road in Khuzdar, and demanded a large amount of money. They fled when Das resisted.\\nThe gunmen fired in the air while leaving the area.\\nThe protesting Hindu traders were joined by local shopkeepers, who demanded that the local authorities should take steps to check increasing incidents of kidnapping for ransom and armed robberies.\\nThe traders said the police had failed to provide security to citizens against anti-social elements.</td>\n",
              "    </tr>\n",
              "    <tr>\n",
              "      <th>70</th>\n",
              "      <td>0.0</td>\n",
              "      <td>1.0</td>\n",
              "      <td>Saffronisation of education comes in many hues\\n| TNN | Sep 16, 2001, 23:18 IST\\nahmedabad: for students of class ix in gujarat board, minority communities are a 'problem' facing the country. chapter nine of their social studies textbook, titled problems of the country and their solutions, enlists 'minority communities' as the foremost component of the problems. this is followed by sc/sts, smuggling, corruption and bribery as some of the other problems. the non-congress chief ministers may have met last month to lodge their protest over the overt saffronisation of education by the bjp-led government at the centre, there is not even a murmur of protest in bjp-ruled gujarat which is going about the exercise in a more subtle manner. the chapter also terms muslims, christians and parsis as \"foreigners\" saying, \"...apart from the muslims, even christians, parsis and other foreigners are also recognised as minority communities. in most of the states, hindus are in minority and muslims, christians and sikhs are in majority in these respective states.\" \"a systematic attempt is being made to communalise education in the state. various strategies are being put forward - some very subtle, some not so subtle,\" says director of the province office for integral social development (poisd), which maintains a keen focus on education in the state . anomalies in chapter nine fall in the subtle category. \"such things should not have been written. it will be rectified as we are in the process of changing textbooks shortly\", says state primary education minister anandiben patel. however, the gujarat secondary education board (gseb) representatives take recourse to the defence that these textbooks were published before the bjp took over. not so subtle attempts include the state education department sending out a gr to all schools on january 19, 2000 directing them to subscribe to sadhna, a monthly printed by the gujarat unit of rss. the circular could not be put into effect as school principals, especially of minority institutions, condemned the magazine as \"directly sectarian and spewing vitriol against the minority communities\" and staged massive protest against it. or another circular brought in december, 2000 that insisted on principals of all schools to compulsorily send their teachers to sanskrit training camps in preparation for the move to make the language mandatory for learning and teaching in the schools. \"sanskrit is a vedic language and all the revered vedas are penned in sanskrit. if we do not teach the students this language, then how will they be able to decipher the same when they graduate to high responsible positions\", asks patel. she confesses to her toying with the idea of introducing vedic mathematics as a subject from class iv or class v. \"i have attended camps on vedic mathematics and am convinced that students can learn a very unique way of fast computing just like computers. the subject is also being taught in secondary schools. but tomorrow, if we introduce it in class iv or v and they oppose it as saffronisation, then that charge would be wrong and baseless\", she says. or the ambitious scheme to involve ngos, surprisingly including rss volunteers too, to curb malpractice during board exams and ensure transparency. an idea that was nipped in the bud by the high court following a huge outcry in the media for which patel still nurses a grudge against the media. \"we had introduced such a good scheme to curb mass-copying in exam centres. but you all criticised it saying that the bjp government had involved rss volunteers and that the scheme would be misused by the ngos, and so we had to terminate it after the high court judgment. that was the ideal way to curb malpractice during exams, but you people never let it materialise\", patel said recently when asked why the board was not initiating any action against teachers and schools managements guilty of their involvement in mass-copying in their exam centres. patel, on her part, pooh-poohs the allegations of saffronisation of education in the state. \"is insisting on saraswati vandana in schools saffronisation? is asking missionary schools to allow girl students to stick bindis during festivals forcing hindutva? will you say that patriotism and learning about our own culture and history is communal? if yes, then i am sorry,\" says patel.</td>\n",
              "    </tr>\n",
              "    <tr>\n",
              "      <th>71</th>\n",
              "      <td>0.0</td>\n",
              "      <td>1.0</td>\n",
              "      <td>Madikeri:\\nKannada Sahitya Sammelan brings people more closer than ever in Kodagu - KARNATAKA - The Hindu\\nJanuary 13, 2014 00:00 IST\\nMay 13, 2016 09:17 IST\\nmore-in\\nOrganisers confronted problems of various kinds ever since the announcement was made to hold on January 7 to 9, the All India 80th Kannada Sahitya Sammelan in Madikeri, a tiny hill station and the headquarters of Kodagu district. But the facts of the event belied all wrong notions and negative vibes passed into the oblivion as the sammelan became a success, though adversaries kept on threatening to spoil the show over one or the other pretext.\\nThere were many minor lacunae, of course. They pertained to food and its quality, accommodation, difficulty in reaching the venue, the Field Marshal K.M. Cariappa College grounds, choked toilets, and the biting cold in evenings. However, many were of the opinion that ‘everything was good’ since a tiny place such as Madikeri was hosting the show. Lots of dust flying in the air at the venue made many sick.\\nThe threat by a committee formed by citizens to oppose the K. Kasturirangan Committee report on western ghats in Kodagu to observe a bandh on January 7 dissipated after Chief Minister Siddaramaiah assured a delegation of the committee to look into the issue. A group of people who wanted the president of the sammelan Na. D’Souza to tender apologies for his remarks on the Kasturirangan committee report had even succeeded in reaching the dais. But, Mr. D’Souza stated he did not issue any statement supporting the implementation of the report in Kodagu. The group opposing previous sammelan president Ko. Chennabasappa’s book glorifying Tipu and the other supporting the book too had threatened to spoil the show.\\nStatements of the Central Kannada Sahitya Parishat, Bangalore, Pundalika Halambi, created a sensation when he accounted for the curtailment of the speech of Mr. D’Souza, but he later apologised. Short-circuit causing fire when a particular session was on created a minor scare after which the fire was doused in time.\\nThe small or narrow roads of Madikeri looked as if they were unable to ‘bear the load’ of people who walked from the Maitree Police Hall junction to the venue, while vehicles with official passes scrambled along precariously avoiding the surging crowd. Locals were seen thronging book stalls and participating in the evening cultural programmes. They reaffirmed their faith in dance and music as they would do during the famous Madikeri Dasara festivities.\\nPolicemen had a tough job in controlling the crowd, indulging in verbal duels with people. However, not much was done by them when hundreds of government employees, including teachers, played spoilsport close to the dais on all three days of the sammelan, shouting slogans demanding OOD coupons to claim the benefits while they went back to their respective workplaces.\\nA large number of visitors empathised with the organisers.\\nRelated Topics</td>\n",
              "    </tr>\n",
              "    <tr>\n",
              "      <th>72</th>\n",
              "      <td>0.0</td>\n",
              "      <td>1.0</td>\n",
              "      <td>Patwaris set to launch statewide protest - Indian Express\\n,   : Ludhiana, Mon Feb 20 2012, 03:17 hrs\\nThe Revenue Patwar Union is up in arms against the State Vigilance Bureau, which had arrested Mohan Singh  the vice-president of the union  on Saturday. Mohan Singh had been arrested for his alleged involvement in the Rs 8-crore paddy scam, spread over the three districts of Moga, Muktsar and Ferozepur.\\nSingh was arrested from his residence at Tripari in Patiala. Following his arrest, the Fatehgarh Sahib unit of the patwar union, in which Singh was serving, went on an indefinite strike and started on a protest dharna outside the office of the Fatehgarh Sahib DC.\\nAmrik Singh Rai, vice-president of the All India Revenue Patwar Union, visited the protesting officers on Sunday and announced that the entire union will meet in Moga on Monday to launch a statewide protest.\\n\"We did not engage a lawyer for Mohan Singh to seek his bail because we will work to get this FIR cancelled. Apart from striking from work, we will chalk out strict measures to ensure that our leader is not only released but the case is also withdrawn,\" said Gursewak Singh, president of the Fategarh Sahib unit.\\nThe scam broke out in May when paddy worth Rs 2.65 crore belonging to the Punjab State Civil Supplies Corporation Limited (PUNSUP) was found missing from Land Power Agrotech Private Limited in Ferozepur.\\nMill owner Ramesh Garg, along with an inspector of PUNSUP, are currently in police custody. Ramesh Garg's son Akash, who is also an accused in the case, is absconding. It has been learnt that the Patwari in question could have felicitated the sale of this stolen paddy.\\nDSP (VB) Banarsi Das, the inquiry officer, could not be contacted despite repeated attempts.</td>\n",
              "    </tr>\n",
              "    <tr>\n",
              "      <th>73</th>\n",
              "      <td>0.0</td>\n",
              "      <td>1.0</td>\n",
              "      <td>After protests, construction of temple resumes\\nTNN | Oct 1, 2001, 01:12 IST\\nludhiana: the demolition of the illegally constructed wall and room of gauri shankar mandir that had led to unrest here on friday, took an about turn on saturday with the construction being resumed under the supervision of vice chairman of durga mata mandir trust lala lajpat rai. the structures had been brought down on friday night by the municipal corporation, claiming that they were build on encroached area. according to sources, the members of the temple trust maintained that the construction was legal and criticised the authorities for hurting the sentiments of the people and damaging the temple. in a meeting of the trust, it was decided that a 21-member committee from punjab temples would be formed to address such a situation.</td>\n",
              "    </tr>\n",
              "    <tr>\n",
              "      <th>74</th>\n",
              "      <td>0.0</td>\n",
              "      <td>1.0</td>\n",
              "      <td>Briefly World: Yemeni forces kill 7 in new protests - Indian Express\\n,   :  Wed Oct 19 2011, 00:33 hrs\\nSANAA: Yemeni government forces opened fire Tuesday on protesters in Sanaa, killing seven, a medical official said. Mohammed al-Qubati, the director of a field hospital at the main protest site in Sanaa dubbed \"Change Square,\" said dozens more were injured in the Tuesday protests demanding the resignation of President Ali Abdullah Saleh.\\nUK freezes assets of five for alleged Iranian plot\\nNOUAKCHOTT/LONDON: Britain has frozen the assets of five men, including two key suspects in an alleged Iranian plot to kill the Saudi ambassador in the US, matching sanctions taken by US authorities. Foreign Secretary William Hague said Britain was discussing action with its EU partners and expected other nations to follow suit with sanctions.\\nVIENNA: The lawyer for two women who claim they and other children were systematically raped in public foster home Schloss Wilhelminenberg says a third woman has come to him with the same allegations. Johannes Oehlboeck says that woman asserts that two children died of physical or sexual abuse at the Vienna home in the 1970s.</td>\n",
              "    </tr>\n",
              "    <tr>\n",
              "      <th>75</th>\n",
              "      <td>0.0</td>\n",
              "      <td>1.0</td>\n",
              "      <td>Central universities teachers on two-day strike - Indian Express\\n,   : New Delhi, Fri Jan 29 2010, 00:48 hrs\\nFaculty of 35 central universities began a two-day strike on Thursday, demanding changes in the regulation on service conditions which seeks to link their promotion to output.\\nThe 10,000-strong agitating teachers did not take classes to protest the \"negative conditions\" in the regulation after a call by the Federation of Central University Teachers' Associations (FEDCUTA).\\nTeachers will also march to the Ministry of Human Resource Development on January 29 to express its resentment on the issue. \"The regulations, prepared and approved by the University Grants Commission (UGC), will force teachers to pay more attention to other activities rather than concentrate on quality teaching,\" FEDCUTA president Aditya Narayan Mishra said.\\nOn January 16, the UGC had approved a new regulation that linked promotion of university teachers to their output in research and teaching. The Regulation for Minimum Qualification of Teachers will now be considered by the government.</td>\n",
              "    </tr>\n",
              "    <tr>\n",
              "      <th>76</th>\n",
              "      <td>0.0</td>\n",
              "      <td>1.0</td>\n",
              "      <td>Property tax: Two Congress leaders speak in two voices - Indian Express\\n,   : Ludhiana, Tue Oct 08 2013, 06:07 hrs\\nThe rivalry between Congress district president Pawan Dewan and Congress MLA (Ludhiana west) Bharat Bhushan Ashu was once again on display on Monday.\\nWhile Dewan appealed to people \"not to pay property tax and charges of regularisation to government\" and claimed that \"Congress will be rolling back both the dictatorial orders after coming to power\", Ashu had some good words of wisdom for the residents.\\n\"Be good citizens and contribute to the development and pay property tax because it is the most affordable tax imposed ever and we all should pay it,\" Ashu told Newsline when asked why he was absent from the protest staged by the Congress at the MC headquarters on Monday.\\nIndirectly pointing the finger at Congress district president Pawan Dewan and his supporters, he said, \"People sitting on dharna need to understand that property tax imposed by government is genuine and there is a need to adjust. Opposition is not meant to oppose always.\"\\nHowever, Congress district president Pawan Dewan, a close aide of Ludhiana MP Manish Tewari, along with MLAs Rakesh Pandey and Surinder Dawar staged protest at the MC headquarters.\\nAccompanied by Hemraj Aggarwal, leader of opposition in the MC house, Dewan said that \"people need not accept these dictatorial orders of SAD-BJP government and should not make any payments\".\\n\"Once we come to power, we are going to roll back the decision,\" he added.\\nDewan told Newsline that the \"protest will now continue at ward level and from next week onwards every ward will be sensitised against property tax and high charges of regularisation impsed by government\".\\nHe regretted that the state government had not even exempted houses from 50 to 100 feet, in which poor people resided. Likewise, introducing property tax on vacant plots and private schools was totally illegal, he added.</td>\n",
              "    </tr>\n",
              "    <tr>\n",
              "      <th>77</th>\n",
              "      <td>0.0</td>\n",
              "      <td>1.0</td>\n",
              "      <td>Top Searches:\\nYouth takes a lift, kills driver's wife\\nTNN &amp; Agencies | Aug 14, 2001, 23:47 IST\\nnew delhi: a woman was shot dead and her husband injured allegedly by a robber whom the couple offered a lift in their car from vasant vihar to vasant kunj on monday night. the assailant shot rajni, 26, in the right jaw within minutes of being allowed into the car by her husband, vijay, 30. he reportedly commandeered the couple's honda city car to a deserted spot in vasant vihar where two more accomplices joined him. the three fugitives then reportedly took the car to cpwd colony in vasant vihar, removed a few jewellery items of rajni and shot vijay in his left thigh before fleeing. the assailants also reportedly took away vijay's mobile phone, an aaya nagar-based property dealer. an empty cartridge was recovered from the car whose front window pane on the left was damaged by a bullet. vasant vihar police are cross-checking vijay's version, who is the only witness to the incident, as robbery doesn't appear to be the only motive behind the murder. while the police suspect two bullets were fired at rajni, vijay claimed he heard only one bullet shot. the couple got married in february and had survived a road accident in april. rajni, who was seriously injured in this accident, had been under treatment at her parents' residence in wazirpur since then. the police claimed they had not collected any clues hinting towards a marital discord. vijay and rajni were reportedly going towards aya nagar from wazirpur, when they halted at about 11.30 pm near sector 5 in r k puram to offer lift to the assailant. \"the assailant, standing near the mohan singh market on the outer ring road, waved at the couple's honda city car and requested vijay for a lift up to vasant kunj,\" said dcp south-west, taj hassan. the couple reportedly mistook him for a student and allowed to sit in the rear. \"the assailant took out a weapon when we drove down the outer ring road and took a right turn on aruna asaf ali road,\" said vijay, undergoing treatment at safdarjung hospital. the assailant reportedly asked the couple to hand over their valuables but when rajni raised an alarm she was shot dead, the police said. the assailant reportedly made a call using his cellphone allegedly informing someone that he was coming. he reportedly forced vijay to turn right on nelson mandela marg and move towards the jnu campus. two more accomplices reportedly joined the assailant on nelson mandela marg. vijay was reportedly shifted to the rear seat and one of the assailants took to the wheel. the police said the assailants took the car to cpwd colony in vasant vihar and shot vijay in left thigh. \"vijay claimed he fell unconscious and didn't see the assailants leave,\" said a police official. safdarjung hospital doctors said the bullet fired at rajni entered her skull from the side of the right jaw. she also received a bullet injury in the chest. in vijay's case, the doctors could not locate the bullet which was pumped into his thigh. \"the skin around the wound was, however, blackened,\" said a doctor.</td>\n",
              "    </tr>\n",
              "    <tr>\n",
              "      <th>78</th>\n",
              "      <td>0.0</td>\n",
              "      <td>1.0</td>\n",
              "      <td>Patient manhandles woman doctor - Indian Express\\n,   : Vadodara, Wed Dec 30 2009, 03:46 hrs\\nAn argument between a patient and doctor at Sir Sayajirao General (SSG) Hospital on Tuesday turned ugly after the former slapped the latter. The incident occurred around 2.30 pm when a Waghodia patient lost his temper after his turn took long to come.\\nGirish Mistry (27) had come to the hospital in the morning with a severe stomach ache. He was later sent for sonography, but had to stand in queue for a long time, which made him lose his temper. He argued with the woman resident doctor at the emergency unit and even slapped her. At this, the other resident doctors at the unit rushed to the spot and had a heated exchange with the patient. \"I had been waiting for over an hour for the sonography test and the pain was becoming unbearable. Even the patients behind me were called in as I waited for my turn,\" said Mistry.\\nLater, the Resident Medical Officer (RMO) rushed to the spot and the Raopura police were summoned to bring the matter under control. According to the hospital officials, a police complaint was initially lodged against the patient, but was later taken back after Mistry submitted a written apology to the hospital. The matter was finally resolved around 5 pm. SSG Hospital officials refused to comment on the issue.</td>\n",
              "    </tr>\n",
              "    <tr>\n",
              "      <th>79</th>\n",
              "      <td>0.0</td>\n",
              "      <td>1.0</td>\n",
              "      <td>Govt staff stage dharna | Bengaluru News - Times of India\\nTop Searches:\\nGovt staff stage dharna\\nTHE TIMES OF INDIA NEWS SERVICE | Jul 26, 2001, 23:39 IST\\nhassan: the hassan unit of karnataka state government employees association led by its president chandranarayana gowda, staged a dharna in front of the deputy commissioner's office here on wednesday in response to the one-day token strike observed by the all india state government employees federation. as many as 50 employees gathered at the dc's office and submitted a memorandum to the chief secretary of karnataka through the deputy commissioner.</td>\n",
              "    </tr>\n",
              "    <tr>\n",
              "      <th>80</th>\n",
              "      <td>0.0</td>\n",
              "      <td>1.0</td>\n",
              "      <td>Ban on SIMI criticised | Chandigarh News - Times of India\\nTNN | Oct 2, 2001, 00:33 IST\\nBan on SIMI criticised\\nTNN | Oct 2, 2001, 00:33 IST\\nsrinagar:the ban on the students' islamic movement of india (simi) has evoked widespread criticism in jammu and kashmir. the hurriyat conference, jammu and kashmir democratic freedom party (jkdfp), led by secessionist leader shabir ahmad shah, state cpi(m) secretary m y tarigami, moulvi iftikhar hussain ansari, mla, and several students' associations in the state have criticised the centre's action. terming the ban on simi as unwarranted and an attempt to victimise muslims, jkdfp alleged that simi was banned without producing any proof of its involvement in anti-national activities. tarigami said the ban has raised a host of genuine doubts. ''the material based on which the government decided to effect the ban has, so far, been withheld from the public which has aroused apprehensions that the ban was politically motivated,'' he alleged. former hurriyat conference chairman and senior jamaat-e-islami leader syed ali shah geelani has termed the ban as unconstitutional and an attack on islam. strongly criticising the ban, the hurriyat conference, in a separate statement, accused the centre of pursuing a dual policy.</td>\n",
              "    </tr>\n",
              "    <tr>\n",
              "      <th>81</th>\n",
              "      <td>0.0</td>\n",
              "      <td>1.0</td>\n",
              "      <td>Cadila Bridge incident figures at AMC meet\\nTNN | Aug 29, 2001, 22:16 IST\\nahmedabad: the monthly general board meeting of amc witnessed a shouting match of sorts between the saffron brigade and congress men when congress corporator from dariapur, hasan lala raised the cadila bridge issue. lala accused break down of law and order in ahmedabad and said that prompt action should be taken to arrest anti-socials who are terrorising the economically deprived masses. leader of the opposition at amc, dharmendra shah, immediately retaliated with counter allegations with \"loud\" support from some other party members. the issue threatened to bring down the house when mayor himmatsinh patel stepped in and called for the topic to be struck from general board's agenda. lala then trained his guns on the state government's apparent dilly-dallying tactics on coming out with a clear-cut policy for rebuilding collapsed houses. the dariapur corporator said: \"more than 1,500 middle-class families are the hardest hit because the corporation is not able to pass their building plans as the state government is not clear on its building by-laws.\" once again a shouting match ensued and only quelled when the mayor called for decorum in the house. patel then called deputy municipal commissioner, vinay vyasa, who was deputising for the municipal commissioner at the board to reply on the issue. vyasa told the house that of the 17 plans submitted for collapsed buildings 11 have been passed. we have written to the state government for clarification on whether the building plans submitted to the corporation (sans the wilful deviations like extra balcony cover or even illegal storeys) be okayed or should the consequent changes be incorporated. the government is working on this issue and will soon issue a reply.</td>\n",
              "    </tr>\n",
              "    <tr>\n",
              "      <th>82</th>\n",
              "      <td>0.0</td>\n",
              "      <td>1.0</td>\n",
              "      <td>SP men attack staff at toll plazas - Indian Express\\n,   : Faizabad, Sun Jan 05 2014, 04:42 hrs\\nRuling Samajwadi Party leaders and their supporters allegedly assaulted the staff at two toll plazas and brandished their weapons when they were asked to buy tokens  just days after SP chief Mulayam Singh Yadav warned his partymen that hooliganism will not be tolerated.\\nAjitmal Block chief Devendra Yadav and his gunner allegedly beat up employees of Mohari toll plaza in Auraiya Friday night when they were asked to pay the tax, sources said.\\nThey also thrashed officials who rushed to mediate, police said. An FIR was later filed by victims at Ajitmal Kotwali against unknown persons.\\nIn the second incident, a local SP leader along with his aides were caught on camera assaulting toll plaza staff on the Lucknow-Faizabad highway when they were asked to pay the fee.\\n\"Pappu Yadav and three persons were going from Faizabad to Lucknow. At Raunahi toll plaza, they had a fight with the staff in which one person on duty was hurt. We have filed a case and culprits will face action,\" Piyush Ranjan Srivastav, SP (Rural), said.\\nThe toll plaza personnel, including a guard who suffered a fracture in his hand in the attack, alleged SP workers refused to take tokens and threatened them with guns before assaulting them.\\n\"They came with pistols. When we stopped the car for token, they started abusing us and threatened the security personnel as well,\" said Kranti Kumar Singh, the toll plaza manager.\\nSecurity Guard Hakim Singh said, \"The car stopped and they brandished their guns. When we asked them to take tokens, they refused and started beating me. When I tried to escape, they followed me. They attacked me and I have suffered a fracture.\"\\nSources claimed it was routine for the ruling party men to not pay toll tax.</td>\n",
              "    </tr>\n",
              "    <tr>\n",
              "      <th>83</th>\n",
              "      <td>0.0</td>\n",
              "      <td>1.0</td>\n",
              "      <td>Border firing claims jawan's life | Chandigarh News - Times of India\\nAug 29, 2001, 03:50 IST\\nBorder firing claims jawan's life\\nAug 29, 2001, 03:50 IST\\njammu: an army jawan was killed during an exchange of fire between indian and pakistani troops, along the line of control, in noushera sector of rajouri district, since monday evening, official sources said here. they said pakistani troops opened fire in kalal area of noushera sector from across the loc, on tuesday, forcing indian troops to retaliate. the intermittent exchange of fire between two sides continued till late on tuesday night, in which havaldar rajpal singh lost his life, they said. exchange of fire between pakistani rangers and bsf troops was also reported at 31 places along the international border in hiranagar, jammu, ramgarh, samba, kanachak and r s pura sectors on tuesday. however, no loss of life was reported on the indian side.</td>\n",
              "    </tr>\n",
              "    <tr>\n",
              "      <th>84</th>\n",
              "      <td>0.0</td>\n",
              "      <td>1.0</td>\n",
              "      <td>PM Must Make Statement on Religious Conversions: Jyotiraditya\\n2014-12-21 22:43:00\\nBHOPAL: Former Union minister and MP Jyotiraditya Scindia demanded here today that Prime Minister Narendra Modi should make a statement in Parliament about his government's stand on the issue of religious conversions by some organisations.\\n\"He (Modi) is not merely the Prime Minister of a particular political party but the entire nation and every section of the society. Therefore, he must give a statement in Parliament on the issue of religious conversions to clarify his government's stand on such a sensitive matter,\" Scindia told PTI.\\nThe Congress leader was here to dedicate a road near Bhopal Airport named after his father and former Union minister, the late Madhavrao Scindia.\\nAnswering a question, he said that an attempt is being made in this country to polarise society and the same is reflected in statements by BJP ministers, MPs and MLAs on sensitive issues.\\n\"It is reflected in the way ministers, MPs and MLAs give statements to damage the country's secular credentials with an aim to polarise the country,\" he said.\\n\"I can't even think of using such a language that these leaders openly do,\" Scindia remarked.   The Opposition has stalled the Rajya Sabha on the issue of religious conversions demanding a statement from the Prime Minister, after reports of alleged attempts to convert people surfaced from Agra.\\nReferring to lowering of petrol and diesel prices in the country, he said that there is a decline of nearly 45 per cent in global crude oil prices, but the same has not been passed on to consumers.\\nHe said that Congress workers in Madhya Pradesh have to work hard from \"top to bottom and from bottom to top\" at all levels, to fight the BJP. When asked about the issue of lack of unity among top Congress leaders in the state, Scindia said that it is not an issue, since all of them including himself and Madhya Pradesh Congress president Arun Yadav have been toiling for the party in the state.\\nCommenting on reports about a medical college being shifted from Shivpuri, which is part of his constituency Guna, and the Madhya Pradesh Health Minister's stand that Shivpuri's name was not mentioned when the Centre sanctioned medical colleges in different cities of the state, Scindia strongly criticised the BJP-led state government on the issue.\\nHe said that he had already met Union Health Minister J P Nadda and would also raise the issue with the Madhya Pradesh Chief Minister Shivraj Singh Chouhan.\\nScindia said that records clearly stated that Shivpuri's name was mentioned in the list of medical colleges allocated to Madhya Pradesh.\\nEarlier, addressing a function after dedicating the road named after his father, Scindia called him as a \"visionary,\" and said that people talk about bullet trains, but his father dreamt of it as early as 1984-85 when he was made Railway Minister by the then Prime Minister Rajiv Gandhi.\\n\"The first high-speed Shatabdi train was introduced between New Delhi and Bhopal at that time, purely because of his (Madhavrao Scindia's) vision,\" he said.\\nLater, Scindia, along with former Union Minister Suresh Pachouri and Arun Yadav, dedicated another road named after former deputy chief minister, late Subhash Yadav in the New Market area.\\nArun Yadav is the son of Subhash Yadav.\\nJust ahead of the local body elections in Bhopal, two roads were named in the city after two senior Congress leaders.</td>\n",
              "    </tr>\n",
              "    <tr>\n",
              "      <th>85</th>\n",
              "      <td>0.0</td>\n",
              "      <td>1.0</td>\n",
              "      <td>NATIONAL\\nStudents’ protest - NATIONAL - The Hindu\\nPolicemen removing students affiliated to the ABVP from a road in New Delhi on Friday while they were protesting against the University Grants Commission's decision to scrap non-NET fellowships.- Photo: V. Sudershan\\nOctober 24, 2015 00:00 IST\\nOctober 24, 2015 05:43 IST\\nmore-in</td>\n",
              "    </tr>\n",
              "    <tr>\n",
              "      <th>86</th>\n",
              "      <td>0.0</td>\n",
              "      <td>1.0</td>\n",
              "      <td>Ranchi University debars teacher who set Prophet question - Indian Express\\n,   : RANCHI, MAY 2, Sat May 03 2008, 23:07 hrs\\nInvestigations by the Ranchi University (RU) authorities have revealed that an academician from Bihar had set the objectionable question on Prophet Mohammed for the MA History examination. For security reasons, the RU would keep his identity under the wraps. \"Otherwise, he will be lynched,\" said RU Vice-Chancellor A A Khan on Friday.\\nOn Wednesday, student appearing for the MA History examination had a question pertaining to the Prophet: \"Prophet Mohammed began his career as a trader and ended as a raider. Comment\". This led to violent protests across the city the next day, with a group of students even storming into the university campus and demanding the dismissal of the teacher who had set the question paper.\\nIn a quick response, the RU cancelled the examination and ordered a probe to find out the identity of the teacher on Wednesday itself. The inquiry, conducted under the supervision of Khan, zeroed in on the panel of five teachers who were appointed by the University to set the question-paper and the name of the teacher was ascertained, RU spokesperson S S Akhter said.\\nLater, in a meeting, headed by the V-C on Thursday, the University decided to permanently debar the teacher from taking part in any of its examination activities, and to explore possibility of a legal action against him. It also decided to write to the V-C of the University in Bihar, which he represented, for initiating disciplinary action against him. On Friday, the RU\\nV-C's office had already dispatched the letter in this regard, marking it as 'strictly confidential'.\\nMeanwhile, normalcy returned in the University campus and there was no untoward incident reported from any corner of the city as policemen patrolled the Muslim dominated areas of Hindpiri, Gudri and Kasai Mohalla here.\\nHowever, when asked, an undergraduate student of the university, Shakeel Ahmed, said: \"Today or tomorrow or whenever we learn about the man who had set that question, we would teach him the lesson he deserves\".</td>\n",
              "    </tr>\n",
              "    <tr>\n",
              "      <th>87</th>\n",
              "      <td>0.0</td>\n",
              "      <td>1.0</td>\n",
              "      <td>Action against flooding urged | Bengaluru News - Times of India\\nTNN | Sep 20, 2001, 23:12 IST\\nTop Searches:\\nAction against flooding urged\\nTNN | Sep 20, 2001, 23:12 IST\\nkolar: the vivekananda youth association and the asra committee of kolar have sought from the district administration permanent measures to prevent flow of rain and drain waters into the houses situated in rahamathnagar, prashanth nagar, shanthinagar and other areas which are at the receiving end during every monsoon. in a statement issued on tuesday, the members of the association sought that the feeder channel from antharagange to kolaramma tank be desilted as one of the measures to check the flow of water into the houses in low-lying areas. they alleged the minor irrigation authorities had not taken the matter seriously. the members of the asra committee and the vivekananda youth association have demanded that the civic authorities take up steps to free the feeder canal bund from unauthorised encroachments. birthday celebrations: the members of the vishnu fans' association celebrated the birthday of cine actor vishnuvardhan by organising a blood donation camp at snr hospital here on tuesday. inaugurating the camp, dr t.h. rangappa, district surgeon hailed the efforts of the organisers. he urged the youth to actively take part in such camps. h.k. raghavendra, a.n. prakash, vijayashankar, president of vishnu sene were present on the occasion. fruits and sweets were distributed among the in-patients of the hospital. sports for better health: sports plays vital role in the alround development of a person, said b.b. ningaiah, former minister. he was speaking after inaugurating the district level floodlight volley ball tournament for high schools held at bethamangala on tuesday. he further said, there is plenty of hidden talent in the country especially in the rural parts and efforts are needed to bring them to light. s. chandrashekar, president of the kolar district journalists association, who was the chief guest said given proper training, our sportsmen can excel at the international arena. k.b. gopalakrishna, former senate member of bangalore university said, participation in sports events keeps the body and mind in good health. a.m. lakshminarayana, secretary of the rural education trust, bethamangala, m. mallesh, editor of kolar shakthi also spoke on the occasion. bjp stage protest: hundreds of bjp workers staged a protest march in kolar on wednesday in protest against the terror attack on world trade center in new york allegedly by osama bin laden. the procession culminated at the mecci square where an effigy of osama bin laden was burnt. y. surendra gowda, president of bjp district unit criticised the attack. k.v. suresh kumar, convenor of state auto morcha said ultras should be dealt with an iron hand.</td>\n",
              "    </tr>\n",
              "    <tr>\n",
              "      <th>88</th>\n",
              "      <td>0.0</td>\n",
              "      <td>1.0</td>\n",
              "      <td>Third demolition by HUDA in Budhanpur | Chandigarh News - Times of India\\nTNN | Aug 17, 2001, 23:53 IST\\nThird demolition by HUDA in Budhanpur\\nTNN | Aug 17, 2001, 23:53 IST\\npanchkula: tension and tempers ran high as the enforcement wing of the haryana urban development authority (huda) once again carried out a demolition drive to remove encroachments from municipal and huda land in budanpur and bhainsa tibba village here on friday. no untoward incident was reported as over a hundred policemen led by assistant superintendent of police vikas arora and sector 5 sho rajiv deswal equipped with ``vajra\" anti-riot vehicle were deployed during the drive. the drive took off around 10.30 am from budanpur village when huda employees along with one jcb machine arrived on the spot. incidentally, this was for the third time that huda had to carry out a demolition drive on the same site. tensions prevailed when irate residents stopped the huda staff from carrying out the same. claiming to having been allotted the site by a huda estate officer, the residents told the times of india that they had already completed all the formalities and even deposited certain sums of money with the estate office. they were pacified by the estate officer d p singh and sub division magistrate m s yadav. more than 30 encroachments were demolished and their debris removed during the drive that went on for more than four hours. huda's drive in bhainsa tibba village was carried out in the afternoon as besides the demolition of dozens of illegal structures, huda staff removed the debris of the earlier demolitions and fenced the areas.</td>\n",
              "    </tr>\n",
              "    <tr>\n",
              "      <th>89</th>\n",
              "      <td>0.0</td>\n",
              "      <td>1.0</td>\n",
              "      <td>11 killed in road mishap | Bengaluru News - Times of India\\nJul 28, 2001, 10:24 IST\\nTop Searches:\\n11 killed in road mishap\\nJul 28, 2001, 10:24 IST\\nbangalore: eleven persons were killed and 14 others injured in a head-on collision between a kerala state road transport corporation bus and a truck at nidaghatta in mandya early saturday, police said. eight of the injured have been hospitalised in bangalore and six in maddur, they said. the bus was proceeding to vadagara in kerala from bangalore and the lorry to bangalore from kollegal when the mishap occurred, the police added.</td>\n",
              "    </tr>\n",
              "    <tr>\n",
              "      <th>90</th>\n",
              "      <td>0.0</td>\n",
              "      <td>1.0</td>\n",
              "      <td>Unique protest against FDI in retail - Indian Express\\n,   : New Delhi, Wed Nov 28 2012, 14:05 hrs\\nIt was a protest with a difference where senior BJP leader Murli Manohar Joshi today joined traders in blowing horns to drive home a message that the government has become \"deaf and dumb\" to voices against FDI.\\nThe protest was organised by the Confederation of All India Traders (CAIT) at Jantar Mantar here against the Centre's decision to allow FDI in retail with businessmen alleging that the government was \"sensitive to the needs of MNCs and insensitive to voices of the people\".\\nLater talking to reporters, Joshi attacked the government and said, \"Congress is not realising the total and complete opposition to FDI in retail. They are trying to mislead people. The fact is they brought FDI in retail under foreign pressure.\"\\nReferring to today's Congress rally at the Ramlila Maidan here, he said Congress just wants to show they have \"some support\" in the country.\\n\"We want to tell people that the government is highly insensitive to the plight of farmers and small traders. The opposition to FDI by traders is like playing the proverbial flute before a buffalo,\" Joshi remarked.\\n\"Just as a buffalo is not sensitive to music, the same way this government is mute to the voice of the masses,\" he added.</td>\n",
              "    </tr>\n",
              "    <tr>\n",
              "      <th>91</th>\n",
              "      <td>0.0</td>\n",
              "      <td>1.0</td>\n",
              "      <td>Mysore:\\nbriefly - KARNATAKA - The Hindu\\nAugust 24, 2014 00:00 IST\\nAugust 24, 2014 05:46 IST\\nmore-in\\nCPI to stage\\nprotest today\\nThe Communist Party of India is organising a ‘silent candle light’ agitation against the recent incidents of rape in Mysore, Bangalore and other places and to put pressure on the government to initiate immediate steps to prevent recurrence of such incidents in future. The agitation would be held at Vivekananda Nagar Circle at 6 p.m. on Sunday, according to a statement.\\n— Staff Correspondent</td>\n",
              "    </tr>\n",
              "    <tr>\n",
              "      <th>92</th>\n",
              "      <td>0.0</td>\n",
              "      <td>1.0</td>\n",
              "      <td>Clash over property: 2 killed | Bengaluru News - Times of India\\nTNN | Sep 1, 2001, 23:58 IST\\nTop Searches:\\nClash over property: 2 killed\\nTNN | Sep 1, 2001, 23:58 IST\\nchitradurga: in a group clash over a property dispute, one person was beaten to death by the rivals and another died on way to hospital on saturday at varavu in challakere taluk. the clash took place on thursday and the challakere police have booked cases against 64 persons, belonging to the two groups. one of the groups headed by one bommaiah beat up yarrappa to death. they also bashed up muttaiah and obamma and their condition is said to be critical. when the police reached the village, the women were seen crying for help. drought: chitradurga deputy commissioner s.g. hegde and taluk panchayat officials have urged the government to take up relief works immediately and give work to agricultural labourers. the dc, who presided over the meeting of the drought relief committee on saturday in the absence of district incharge minister k.h. ranganath, was upset over the snail-paced work by the officials concerned. the committee also urged the government to include the hiriyur taluk in the drought-affected list and release funds for relief works. the tp officials, zp vice-president c.m. ashoka and chitradurga mla g.h. thippareddy, disputed the details furnished by the joint director of agriculture on crop condition and complained the crops were withering away.</td>\n",
              "    </tr>\n",
              "    <tr>\n",
              "      <th>93</th>\n",
              "      <td>0.0</td>\n",
              "      <td>1.0</td>\n",
              "      <td>Thackeray wants a Hindu 'response' to Congress' attacks on RSS - Indian Express\\n,   : Mumbai, Tue Nov 16 2010, 09:58 hrs\\nShiv Sena on Monday came to the support of former RSS chief K Sudarshan, who is under sustained attack for his remarks against Congress president Sonia Gandhi, and slammed the Congress for letting its cadre go \"berserk on the streets\" in protest.\\nThe lead editorial in Sena mouthpiece Saamna called upon Hindus to rise and respond to attacks on RSS offices, apparently referring to burning of Sudarshan's effigies and attacks on RSS offices by Congress workers over the weekend. The RSS has \"promoted national pride for years\" and so should not be questioned, it added.\\nThough it condemned the language used by him, Sena defended the former RSS chief. There was no proof of the questions Sudarshan had posed, it claimed, adding that Congress workers who protested against him \"should get themselves checked\" by a doctor.\\nThe editorial also questioned why Congressmen are allowed \"violent protests\" when Sena's protests against Shah Rukh Khan's statements were unacceptable.\\nBal Thackeray, Shiv Sena supremo, uses Saamna to publicise his views on various topics.</td>\n",
              "    </tr>\n",
              "    <tr>\n",
              "      <th>94</th>\n",
              "      <td>0.0</td>\n",
              "      <td>1.0</td>\n",
              "      <td>Top Searches:\\nKarnataka will decide on 4% tax for IT software today\\nTNN | Sep 5, 2001, 01:00 IST\\nbangalore: a crucial meeting of senior government officials has been convened by the state finance commissioner on thursday on the issue of imposing 4 per cent sales tax on it software in the state in keeping with uniform floor rates for sales tax in the entire country. the state finance ministers' empowerment committee which was constituted to look into the uniform floor rates issue held that this segment should attract 4 per cent sales tax. however, the centre has not reached a decision on this issue. barring five items __ including software - the karnataka government has complied with the uniform tax rate. the issue is particularly sensitive for karnataka which for long has projected itself as a state with it-friendly strictures. a budgetary proposal to levy 4 per cent sales tax on computer software was revoked by chief minister krishna in the wake of strident opposition from the industry. a senior official told the times of india that the state would do its best to ensure that there were no taxes imposed on this burgeoning sector. ``if necessary we will take an industry delegation to prevail upon the centre to give us some concessions,'' the official said. meanwhile, the centre has written to the state that uniform floor rates have to be followed without fail from this month onwards. the centre has said that non-compliance would attract reduction in annual grants.</td>\n",
              "    </tr>\n",
              "    <tr>\n",
              "      <th>95</th>\n",
              "      <td>0.0</td>\n",
              "      <td>1.0</td>\n",
              "      <td>Tunisia PM pledges calm, as president flees - Indian Express\\n,   : Tunis, Sat Jan 15 2011, 08:44 hrs\\nTunisia's new leader promised order would be restored while he attempts to form a coalition to take the country to elections after a wave of popular protests swept the president from power.\\nThe Tunisian army was called onto the streets on Friday, witnesses said, as residents in several parts of the Tunisian capital said groups were marauding through the town setting fire to buildings and attacking people and property.\\nIn a dramatic climax to weeks of violent protests against his rule, Zine al-Abidine Ben Ali, Tunisia's president for more than 23 years, fled to Saudi Arabia on Friday and Prime Minister Mohamed Ghannouchi took over as caretaker president.\\nBut it remains to be seen whether the protesters will accept Ghannouchi's interim leadership, or take to the streets again.\\nTomorrow we will be back on the streets, in Martyrs Square, to continue this civil disobedience until... the regime is gone. The street has spoken, said Fadhel Bel Taher, whose brother was one of dozens of people killed in protests.\\nOccasional gunshots could be heard in the centre of Tunis as well as the sound of tear gas grenades being fired, while helicopters patrolled overhead and acrid smoke hung in the air. In working class suburbs, residents lined the streets, holding metal bars and knives to ward off looters.\\nGhannouchi went on live television, via telephone, to promise everything was being done to restore order.\\nI salute the fact that groups of young people have got together to defend their neighbourhoods but we can assure them we will reinforce their security, Ghannouchi said.\\nWe are at the service of the Tunisian people. Our country does not deserve everything that is happening. We must regain the trust of citizens in the government.\\nThe prime minister told Tunisians he would steer the state until early elections. But it was not clear whether protesters would accept the technocrat Ghannouchi, prime minister since 1999, due to his close association with Ben Ali's rule.</td>\n",
              "    </tr>\n",
              "    <tr>\n",
              "      <th>96</th>\n",
              "      <td>0.0</td>\n",
              "      <td>1.0</td>\n",
              "      <td>To justify glorifying slain militant, Taliban invoke Sachin Tendulkar - Indian Express\\n,   : Islamabad, Fri Nov 29 2013, 11:02 hrs\\nThe Pakistani Taliban have contended that those opposed to referring to dead militants as martyrs are like people who don't want cricketing icon to be praised because he is an Indian.\\nTehrik-e-Taliban Pakistan spokesman Shahidullah Shahid made the remark in a clip posted online, while responding to criticism of Jamaat-e-Islam chief Munawar Hasan, who had described slain commander Hakimullah Mehsud as a 'shaheed' (martyr).\\n\"Some people may say Tendulkar may be a very good player but don't talk about his greatness because that is against Pakistani nationhood. And these people say (Pakistan captain) Misbah-ul-Haq, even if he is a bad player, should be praised because he is a Pakistani. So those who are criticising Munawar Hasan are behaving like this,\" he said.\\nShahid made it clear he was using Tendulkar as an example while speaking about the media's coverage of the controversy over the Jamaat chief's statement on Mehsud, who was killed in a US drone strike on November 1.\\nHe claimed Pakistani soldiers \"fighting for the US\" were being called martyrs while Taliban fighters fighting for Islam were not referred to in the same manner.\\nThe Pakistan Army reacted angrily to the Jamaat chief's praise of Mehsud, saying he should apologise to families of soldiers who died fighting terrorists.\\nTendulkar's recent retirement from international cricket was extensively covered by the Pakistani media and his last speech was beamed live in the country.</td>\n",
              "    </tr>\n",
              "    <tr>\n",
              "      <th>97</th>\n",
              "      <td>0.0</td>\n",
              "      <td>1.0</td>\n",
              "      <td>UPPSC quota protest: 4 FIRs name 2,500 for rioting, mischief - Indian Express\\n,   : Allahabad, Wed Jul 17 2013, 04:07 hrs\\nThe Allahabad police Tuesday registered a total of four FIRs, all at Civil Lines police station, in connection with the violence that took place on Monday when youths protesting against the reservation policy of the Uttar Pradesh Public Service Commission (UPPSC) went on the rampage. They had alleged that the UPPSC policy was discriminatory to general category candidates.\\nThe FIRs were registered against a crowd of 2,500 persons, of which 25 were identified. \"The FIRs have been registered under various sections of the IPC pertaining to rioting, mischief and damaging public property. At least 25 students and student leaders have been identified. They have been identified on the basis of the photographs and video footage of the incident. Efforts are on to nab them,\" said Inspector in-charge (Civil Lines), Amar Nath Yadav. However, he refused to reveal the names. No arrests have been made.\\nOut of the four, two FIRs have been registered on the complaints lodged by the State Roadways Department, while another has been registered on a complaint by the owners of Atlantis Mall on Sardar Patel Marg. Another FIR pertaining to rioting and violating prohibitory orders was registered on the complaint of the police.\\nOn Monday, around half-a-dozen state roadways buses, a police motorcycle and several private vehicles were damaged by the youths who had gone on a rampage during a protest at the UPPSC office. They had come to Mahatma Gandhi Marg and then gone to Sardar Patel Marg from Subhash Chauraha in the posh Civil Lines area, damaging vehicles and also shops and commercial establishments along the way. All along, the Civil Lines police station area remained the theatre of violence.\\nSuperintendent of Police (Crime) Arun Kumar Pandey said, \"The situation has eased out. But we are keeping a watch. Investigations will reveal the involvement of other youths in Monday's violence.\"</td>\n",
              "    </tr>\n",
              "    <tr>\n",
              "      <th>98</th>\n",
              "      <td>0.0</td>\n",
              "      <td>1.0</td>\n",
              "      <td>Indian linked to Al-Qaeda plot in Canada\\n2010-08-26 10:06:00\\nTORONTO: An Al-Qaeda-linked terror plot was unearthed by Canadian security agencies Wednesday, with one of the suspects reportedly hailing from India.\\nUnder what is curiously called \"Operation Samosa,'' the Royal Canadian Mounted Police (RCMP) arrested two suspects early Wednesday. One of them said to be named Misbahuddin Ahmed who reportedly comes from India. Search for more suspects is on.\\nIt is the second Al-Qaeda-linked terror plot to be unearthed in Canada after the Toronto-18 plot of 2006 in which 18 Toronto-area Muslims were arrested for plotting to blow up Canadian targets, storm parliament, take leaders hostage and behead the prime minister. Eleven of these plotters were convicted.\\nTerror suspects arrested Wednesday were under watch of the national security task force of the Royal Canadian Mounted Police for months.\\nAuthorities said the ringleader of the terror plot had travelled to the region between Pakistan and Afghanistan for training in weapons. Arrests were made when one of the suspects was about to travel abroad as part of the alleged plot, they said.\\nThough police didn't name the suspects, one of them is said to be 36-year-old Misbahuddin Ahmed who worked as an X-ray technologist at an Ottawa hospital. Reports quoted sources as saying that Ahmed comes from India.\\nRobert Farrell, a former Canadian diplomat who rented his place to Ahmed, told the Ottawa Citizen newspaper that the suspect told him that he was born in India but had lived for a time in Saudi Arabia.\\n\"We met his wife at the time (of renting). She seemed quite nice. She wore an Iranian-style head covering (hijab). They seemed to be more of a traditional Muslim family,'' Farrell said.\\nFive kilometre away from Ahmed's residence, police arrested another suspect who has been named Ahmed Ehsan in the media.\\nReacting to the unearthing of the terror plot, a spokesman for Public Safety Minister Vic Toews said , \"It is clear that Canada is not immune from international or homegrown radicalization. The government continues to participate in activities to better understand extremism throughout the world and the motivations of individuals who engage in terrorism.''\\nAccording to security experts here, homegrown terrorist cells are plotting to target Canadian power plants and transmission lines which carry electricity to the US.\\n\"There are ways of attacking the US through Canada. The whole energy for New York comes from Quebec (province), for example,'' security research expert Anthony Seaboyer was quoted as saying.\\nIn fact, the famous Millennium Bomber Ahmed Ressam, an Al-Qaeda-linked Algerian who lived illegally in Canada and had plotted to blow up Los Angeles in December 199, had entered the US from Vancouver.\\nThough Canada has tightened anti-terror laws after 9/11, the Americans still find the response of its northern neighbour inadequate.</td>\n",
              "    </tr>\n",
              "    <tr>\n",
              "      <th>99</th>\n",
              "      <td>0.0</td>\n",
              "      <td>1.0</td>\n",
              "      <td>3 top LeT men killed in Valley encounter - Indian Express\\n,   : Srinagar, Wed Dec 04 2013, 01:11 hrs\\nThe J&amp;K Police claimed to have killed three top Lashkar militants after a night-long encounter in North Kashmir's Handwara area. Among the slain militants, one was operating as divisional commander.\\nThe police and the Army launched an operation in Rajpura village of Handwara on Monday evening.\\nWhen the forces asked the militants to surrender, they opened fire on the troops resulting into an encounter that continued through the night. On Tuesday morning, the police recovered three bodies from the debris of the house. The police said the three slain militants were Pakistani nationals and identified them as Abu Waqas, Qari Numan and Ubaid.\\n\"The slain militants were active in the area for the past some time,\" the SP of Handwara said.</td>\n",
              "    </tr>\n",
              "    <tr>\n",
              "      <th>100</th>\n",
              "      <td>0.0</td>\n",
              "      <td>1.0</td>\n",
              "      <td>Labour trouble brews in Jet Airways - Indian Express\\n,   : Mumbai, Mon Jan 28 2013, 20:30 hrs\\nAs its promoters finalise a stake sale deal with Gulf carrier Etihad, labour unrest seems to be brewing in Jet Airways with its engineers wearing black bands to protest an alleged move to freeze salary hikes and the pilots deciding to meet on the same issue shortly.\\nA section of Jet technicians started a 'symbolic' protest by wearing black bands last Friday to protest the \"management's proposed move to freeze wage hike over the next 2-3 years\", sources among the agitators said here.\\n\"Though we have signed the salary contract, the final date of payment has not been committed by the management. We have called a meeting of pilots in Delhi on February one to discuss the issue,\" a source said, adding this would be followed up by one in Mumbai a few days later.\\nWhen contacted, a Jet Airways spokesperson said the airline \"has always adopted a conciliatory open door policy with all its staff including its technicians.\\n\"In addition, a management team is in constant dialogue and discussions with the technicians, in explaining to them the commercial and other challenges given the present economic state of the global aviation industry at large and the airline in particular. This is expected to address the issues under discussion, but would also help resolve all future issues through this mechanism.\"\\nThe spokesperson said \"as a socially conscious corporate, the airline is aware of all its obligations. Jet Airways has always made salary disbursals as per a pre-determined schedule of dates, which are internally communicated to the staff. Jet Airways has always met and will continue to honour all its obligations to its employees and external stakeholders alike.\"\\nHowever, the agitators said apart from the proposed salary hike freeze, there were several issues like non-payment of arrears which were being negotiated with the management.</td>\n",
              "    </tr>\n",
              "  </tbody>\n",
              "</table>"
            ],
            "text/plain": [
              "<IPython.core.display.HTML object>"
            ]
          },
          "metadata": {
            "tags": []
          }
        }
      ]
    }
  ]
}